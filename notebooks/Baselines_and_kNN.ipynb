{
 "cells": [
  {
   "cell_type": "markdown",
   "id": "30cb7527-71e7-4a14-a2d3-8275346ae1cd",
   "metadata": {},
   "source": [
    "# Конфигурация"
   ]
  },
  {
   "cell_type": "code",
   "execution_count": 1,
   "id": "fd78f78e-0729-4d77-bd75-489b758a5106",
   "metadata": {},
   "outputs": [],
   "source": [
    "from pprint import pprint\n",
    "from copy import deepcopy\n",
    "from typing import Dict\n",
    "from collections import Counter\n",
    "import pickle\n",
    "import lzma\n",
    "\n",
    "from userknn import UserKnn\n",
    "# import userknn\n",
    "\n",
    "import pandas as pd\n",
    "import numpy as np\n",
    "\n",
    "from tqdm.auto import tqdm\n",
    "\n",
    "import rectools \n",
    "from rectools import Columns\n",
    "from rectools.dataset import Interactions, Dataset\n",
    "from rectools.models import PopularModel\n",
    "from rectools.model_selection import TimeRangeSplitter\n",
    "from rectools.metrics import MAP, NDCG, Precision, Recall, MeanInvUserFreq, Serendipity, calc_metrics\n",
    "\n",
    "from implicit.nearest_neighbours import CosineRecommender"
   ]
  },
  {
   "cell_type": "code",
   "execution_count": 2,
   "id": "5e6728ee-1463-4fff-b3fc-27c56111de55",
   "metadata": {},
   "outputs": [],
   "source": [
    "K_RECOS = 10\n",
    "RANDOM_SEED = 32\n",
    "\n",
    "np.random.seed(RANDOM_SEED)"
   ]
  },
  {
   "cell_type": "code",
   "execution_count": null,
   "id": "72c6fd0f-0854-4408-8d31-66c808362600",
   "metadata": {},
   "outputs": [],
   "source": [
    "metrics = {'MAP@1': MAP(k=1), 'MAP@5': MAP(k=5), 'MAP@10': MAP(k=10),\n",
    "           'NDCG@1': NDCG(k=1), 'NDCG@5': NDCG(k=5), 'NDCG@10': NDCG(k=10),\n",
    "           'Precision@1': Precision(k=1), 'Precision@5': Precision(k=5), 'Precision@10': Precision(k=10),\n",
    "           'Recall@1': Recall(k=1), 'Recall@5': Recall(k=5), 'Recall@10': Recall(k=10),\n",
    "           'MeanInvUserFreq@1': MeanInvUserFreq(k=1), 'MeanInvUserFreq@5': MeanInvUserFreq(k=5), 'MeanInvUserFreq@10': MeanInvUserFreq(k=10),\n",
    "           'Serendipity@1': Serendipity(k=1), 'Serendipity@5': Serendipity(k=5), 'Serendipity@10': Serendipity(k=10)}"
   ]
  },
  {
   "cell_type": "markdown",
   "id": "7977735d-5b00-479d-abb4-f95724644a78",
   "metadata": {},
   "source": [
    "# Загрузка данных"
   ]
  },
  {
   "cell_type": "code",
   "execution_count": 3,
   "id": "429b5211-408d-41bc-8715-f3c241c49d81",
   "metadata": {},
   "outputs": [],
   "source": [
    "def headtail(df):\n",
    "    return pd.concat([df.head(), df.tail()])"
   ]
  },
  {
   "cell_type": "code",
   "execution_count": 4,
   "id": "21bfa42c-b8f9-4c9e-8cf8-e179134a9319",
   "metadata": {},
   "outputs": [],
   "source": [
    "interactions = pd.read_csv('data_original/interactions.csv', parse_dates=[\"last_watch_dt\"])"
   ]
  },
  {
   "cell_type": "code",
   "execution_count": 5,
   "id": "10de6f3b-2f79-4db0-81b9-e864e94dfeb0",
   "metadata": {},
   "outputs": [],
   "source": [
    "interactions.rename(\n",
    "    columns={\n",
    "        'last_watch_dt': Columns.Datetime,\n",
    "        'total_dur': Columns.Weight\n",
    "    }, \n",
    "    inplace=True)\n",
    "\n",
    "interactions = Interactions(interactions)"
   ]
  },
  {
   "cell_type": "code",
   "execution_count": 6,
   "id": "55307b08-6cc0-473e-9ecc-f90364589e6e",
   "metadata": {},
   "outputs": [
    {
     "data": {
      "text/html": [
       "<div>\n",
       "<style scoped>\n",
       "    .dataframe tbody tr th:only-of-type {\n",
       "        vertical-align: middle;\n",
       "    }\n",
       "\n",
       "    .dataframe tbody tr th {\n",
       "        vertical-align: top;\n",
       "    }\n",
       "\n",
       "    .dataframe thead th {\n",
       "        text-align: right;\n",
       "    }\n",
       "</style>\n",
       "<table border=\"1\" class=\"dataframe\">\n",
       "  <thead>\n",
       "    <tr style=\"text-align: right;\">\n",
       "      <th></th>\n",
       "      <th>user_id</th>\n",
       "      <th>item_id</th>\n",
       "      <th>datetime</th>\n",
       "      <th>weight</th>\n",
       "      <th>watched_pct</th>\n",
       "    </tr>\n",
       "  </thead>\n",
       "  <tbody>\n",
       "    <tr>\n",
       "      <th>0</th>\n",
       "      <td>176549</td>\n",
       "      <td>9506</td>\n",
       "      <td>2021-05-11</td>\n",
       "      <td>4250.0</td>\n",
       "      <td>72.0</td>\n",
       "    </tr>\n",
       "    <tr>\n",
       "      <th>1</th>\n",
       "      <td>699317</td>\n",
       "      <td>1659</td>\n",
       "      <td>2021-05-29</td>\n",
       "      <td>8317.0</td>\n",
       "      <td>100.0</td>\n",
       "    </tr>\n",
       "    <tr>\n",
       "      <th>2</th>\n",
       "      <td>656683</td>\n",
       "      <td>7107</td>\n",
       "      <td>2021-05-09</td>\n",
       "      <td>10.0</td>\n",
       "      <td>0.0</td>\n",
       "    </tr>\n",
       "    <tr>\n",
       "      <th>3</th>\n",
       "      <td>864613</td>\n",
       "      <td>7638</td>\n",
       "      <td>2021-07-05</td>\n",
       "      <td>14483.0</td>\n",
       "      <td>100.0</td>\n",
       "    </tr>\n",
       "    <tr>\n",
       "      <th>4</th>\n",
       "      <td>964868</td>\n",
       "      <td>9506</td>\n",
       "      <td>2021-04-30</td>\n",
       "      <td>6725.0</td>\n",
       "      <td>100.0</td>\n",
       "    </tr>\n",
       "    <tr>\n",
       "      <th>5476246</th>\n",
       "      <td>648596</td>\n",
       "      <td>12225</td>\n",
       "      <td>2021-08-13</td>\n",
       "      <td>76.0</td>\n",
       "      <td>0.0</td>\n",
       "    </tr>\n",
       "    <tr>\n",
       "      <th>5476247</th>\n",
       "      <td>546862</td>\n",
       "      <td>9673</td>\n",
       "      <td>2021-04-13</td>\n",
       "      <td>2308.0</td>\n",
       "      <td>49.0</td>\n",
       "    </tr>\n",
       "    <tr>\n",
       "      <th>5476248</th>\n",
       "      <td>697262</td>\n",
       "      <td>15297</td>\n",
       "      <td>2021-08-20</td>\n",
       "      <td>18307.0</td>\n",
       "      <td>63.0</td>\n",
       "    </tr>\n",
       "    <tr>\n",
       "      <th>5476249</th>\n",
       "      <td>384202</td>\n",
       "      <td>16197</td>\n",
       "      <td>2021-04-19</td>\n",
       "      <td>6203.0</td>\n",
       "      <td>100.0</td>\n",
       "    </tr>\n",
       "    <tr>\n",
       "      <th>5476250</th>\n",
       "      <td>319709</td>\n",
       "      <td>4436</td>\n",
       "      <td>2021-08-15</td>\n",
       "      <td>3921.0</td>\n",
       "      <td>45.0</td>\n",
       "    </tr>\n",
       "  </tbody>\n",
       "</table>\n",
       "</div>"
      ],
      "text/plain": [
       "         user_id  item_id   datetime   weight  watched_pct\n",
       "0         176549     9506 2021-05-11   4250.0         72.0\n",
       "1         699317     1659 2021-05-29   8317.0        100.0\n",
       "2         656683     7107 2021-05-09     10.0          0.0\n",
       "3         864613     7638 2021-07-05  14483.0        100.0\n",
       "4         964868     9506 2021-04-30   6725.0        100.0\n",
       "5476246   648596    12225 2021-08-13     76.0          0.0\n",
       "5476247   546862     9673 2021-04-13   2308.0         49.0\n",
       "5476248   697262    15297 2021-08-20  18307.0         63.0\n",
       "5476249   384202    16197 2021-04-19   6203.0        100.0\n",
       "5476250   319709     4436 2021-08-15   3921.0         45.0"
      ]
     },
     "execution_count": 6,
     "metadata": {},
     "output_type": "execute_result"
    }
   ],
   "source": [
    "headtail(interactions.df)"
   ]
  },
  {
   "cell_type": "code",
   "execution_count": 7,
   "id": "70daa6f5-c53a-4eef-8d65-94f34dcd3112",
   "metadata": {},
   "outputs": [
    {
     "name": "stdout",
     "output_type": "stream",
     "text": [
      "<class 'pandas.core.frame.DataFrame'>\n",
      "RangeIndex: 5476251 entries, 0 to 5476250\n",
      "Data columns (total 5 columns):\n",
      " #   Column       Dtype         \n",
      "---  ------       -----         \n",
      " 0   user_id      int64         \n",
      " 1   item_id      int64         \n",
      " 2   datetime     datetime64[ns]\n",
      " 3   weight       float64       \n",
      " 4   watched_pct  float64       \n",
      "dtypes: datetime64[ns](1), float64(2), int64(2)\n",
      "memory usage: 208.9 MB\n"
     ]
    }
   ],
   "source": [
    "interactions.df.info(memory_usage='deep')"
   ]
  },
  {
   "cell_type": "code",
   "execution_count": 8,
   "id": "d591b304-7365-45e7-9f2d-d859ba560427",
   "metadata": {},
   "outputs": [],
   "source": [
    "users = pd.read_csv('data_original/users.csv')\n",
    "items = pd.read_csv('data_original/items.csv')"
   ]
  },
  {
   "cell_type": "markdown",
   "id": "0864cfeb-99f7-43b0-9149-559b45b61f7e",
   "metadata": {},
   "source": [
    "# Подготовка данных"
   ]
  },
  {
   "cell_type": "markdown",
   "id": "851342a1-521e-40ef-884b-6c0b5ab68cc6",
   "metadata": {},
   "source": [
    "производится Leave-time-out разбиение -- последняя неделя на test, остальное на train"
   ]
  },
  {
   "cell_type": "code",
   "execution_count": 15,
   "id": "308b9f51-f41a-4a6c-af09-2fb608473428",
   "metadata": {},
   "outputs": [
    {
     "name": "stdout",
     "output_type": "stream",
     "text": [
      "train: (4985269, 5)\n",
      "test: (490982, 5)\n",
      "hot test: (349088, 5)\n"
     ]
    }
   ],
   "source": [
    "max_date = interactions.df['datetime'].max()\n",
    "\n",
    "train = interactions.df[(interactions.df['datetime'] < max_date - pd.Timedelta(days=7))]\n",
    "test = interactions.df[(interactions.df['datetime'] >= max_date - pd.Timedelta(days=7))]\n",
    "\n",
    "# оставляем только теплых пользователей в тесте\n",
    "hot_test = test[test['user_id'].isin(train['user_id'].unique())]\n",
    "\n",
    "catalog = train[Columns.Item].unique()\n",
    "\n",
    "print(f\"train: {train.shape}\")\n",
    "print(f\"test: {test.shape}\")\n",
    "print(f\"hot test: {hot_test.shape}\")"
   ]
  },
  {
   "cell_type": "code",
   "execution_count": 16,
   "id": "7b393568-1b9a-4d3f-b580-17be21ff6a5e",
   "metadata": {},
   "outputs": [],
   "source": [
    "dataset = Dataset.construct(\n",
    "    interactions_df=train,\n",
    "    user_features_df=None,\n",
    "    item_features_df=None\n",
    ")"
   ]
  },
  {
   "cell_type": "markdown",
   "id": "e99dd414-29cd-4f97-bc27-86502a73a494",
   "metadata": {},
   "source": [
    "# Обучение userKNN"
   ]
  },
  {
   "cell_type": "markdown",
   "id": "e0a41661-5e9a-49e0-a27b-69e15bb64f13",
   "metadata": {},
   "source": [
    "в качестве модели Recommender использовалась CosineRecommender c количеством соседей равным 30 (как на семинаре)"
   ]
  },
  {
   "cell_type": "code",
   "execution_count": 11,
   "id": "fbcc8387-81f7-4a8a-9774-302c2d5c2920",
   "metadata": {},
   "outputs": [],
   "source": [
    "recommender = CosineRecommender(K=30)"
   ]
  },
  {
   "cell_type": "code",
   "execution_count": 12,
   "id": "cee9b45c-20b6-482b-9936-d636d747f6a6",
   "metadata": {},
   "outputs": [],
   "source": [
    "userknn_model = UserKnn(recommender)"
   ]
  },
  {
   "cell_type": "code",
   "execution_count": 13,
   "id": "c1d1f5e1-3d9f-48c4-a729-47d7164dbaec",
   "metadata": {},
   "outputs": [
    {
     "name": "stderr",
     "output_type": "stream",
     "text": [
      "C:\\Users\\BIT\\.conda\\envs\\RecSys\\lib\\site-packages\\implicit\\utils.py:164: ParameterWarning: Method expects CSR input, and was passed coo_matrix instead. Converting to CSR took 0.39046406745910645 seconds\n",
      "  warnings.warn(\n"
     ]
    },
    {
     "data": {
      "application/vnd.jupyter.widget-view+json": {
       "model_id": "3bde72e641d548f599929d01573b43f4",
       "version_major": 2,
       "version_minor": 0
      },
      "text/plain": [
       "  0%|          | 0/896791 [00:00<?, ?it/s]"
      ]
     },
     "metadata": {},
     "output_type": "display_data"
    },
    {
     "name": "stdout",
     "output_type": "stream",
     "text": [
      "CPU times: total: 4h 32min 51s\n",
      "Wall time: 28min 5s\n"
     ]
    }
   ],
   "source": [
    "%%time\n",
    "userknn_model.fit(train)"
   ]
  },
  {
   "cell_type": "code",
   "execution_count": 41,
   "id": "42bddd15-03a6-409a-a372-f4b9e8b45c64",
   "metadata": {},
   "outputs": [],
   "source": [
    "# with lzma.open(\"user_knn.xz\", \"wb\") as file:\n",
    "#     pickle.dump(userknn_model, file)"
   ]
  },
  {
   "cell_type": "code",
   "execution_count": 11,
   "id": "3c97c6fe-7c1b-4a9b-b994-3f0fcf4ba230",
   "metadata": {},
   "outputs": [],
   "source": [
    "with lzma.open(\"user_knn.xz\", \"rb\") as file:\n",
    "    userknn_model = pickle.load(file)"
   ]
  },
  {
   "cell_type": "code",
   "execution_count": 12,
   "id": "92941d81-bc5d-4aba-ad28-22caccc5d81a",
   "metadata": {},
   "outputs": [
    {
     "name": "stdout",
     "output_type": "stream",
     "text": [
      "CPU times: total: 44.8 s\n",
      "Wall time: 1min 1s\n"
     ]
    }
   ],
   "source": [
    "%%time\n",
    "recos = userknn_model.predict(hot_test, N_recs=10)"
   ]
  },
  {
   "cell_type": "markdown",
   "id": "8c016932-58c0-42db-9b2b-de9c08a2f85e",
   "metadata": {},
   "source": [
    "# Раcчёт метрик для тёплых юзеров"
   ]
  },
  {
   "cell_type": "code",
   "execution_count": 24,
   "id": "698b01a1-56f1-4261-91d9-6a55ae11f904",
   "metadata": {},
   "outputs": [],
   "source": [
    "hot_metric_values = calc_metrics(\n",
    "    metrics,\n",
    "    reco=recos,\n",
    "    interactions=hot_test,\n",
    "    prev_interactions=train,\n",
    "    catalog=catalog,\n",
    ")"
   ]
  },
  {
   "cell_type": "code",
   "execution_count": 25,
   "id": "64d3dccd-94f3-4dd1-9a2e-4888393e9c1a",
   "metadata": {},
   "outputs": [
    {
     "data": {
      "text/html": [
       "<div>\n",
       "<style scoped>\n",
       "    .dataframe tbody tr th:only-of-type {\n",
       "        vertical-align: middle;\n",
       "    }\n",
       "\n",
       "    .dataframe tbody tr th {\n",
       "        vertical-align: top;\n",
       "    }\n",
       "\n",
       "    .dataframe thead th {\n",
       "        text-align: right;\n",
       "    }\n",
       "</style>\n",
       "<table border=\"1\" class=\"dataframe\">\n",
       "  <thead>\n",
       "    <tr style=\"text-align: right;\">\n",
       "      <th></th>\n",
       "      <th>Precision@1</th>\n",
       "      <th>Recall@1</th>\n",
       "      <th>Precision@5</th>\n",
       "      <th>Recall@5</th>\n",
       "      <th>Precision@10</th>\n",
       "      <th>Recall@10</th>\n",
       "      <th>NDCG@1</th>\n",
       "      <th>NDCG@5</th>\n",
       "      <th>NDCG@10</th>\n",
       "      <th>MAP@1</th>\n",
       "      <th>MAP@5</th>\n",
       "      <th>MAP@10</th>\n",
       "      <th>MeanInvUserFreq@1</th>\n",
       "      <th>MeanInvUserFreq@5</th>\n",
       "      <th>MeanInvUserFreq@10</th>\n",
       "      <th>Serendipity@1</th>\n",
       "      <th>Serendipity@5</th>\n",
       "      <th>Serendipity@10</th>\n",
       "    </tr>\n",
       "  </thead>\n",
       "  <tbody>\n",
       "    <tr>\n",
       "      <th>userKNN</th>\n",
       "      <td>0.000755</td>\n",
       "      <td>0.000305</td>\n",
       "      <td>0.002413</td>\n",
       "      <td>0.005438</td>\n",
       "      <td>0.003897</td>\n",
       "      <td>0.017671</td>\n",
       "      <td>0.000755</td>\n",
       "      <td>0.001995</td>\n",
       "      <td>0.003176</td>\n",
       "      <td>0.000305</td>\n",
       "      <td>0.001736</td>\n",
       "      <td>0.003353</td>\n",
       "      <td>10.008312</td>\n",
       "      <td>8.646891</td>\n",
       "      <td>7.947655</td>\n",
       "      <td>0.000047</td>\n",
       "      <td>0.000066</td>\n",
       "      <td>0.000068</td>\n",
       "    </tr>\n",
       "  </tbody>\n",
       "</table>\n",
       "</div>"
      ],
      "text/plain": [
       "         Precision@1  Recall@1  Precision@5  Recall@5  Precision@10  \\\n",
       "userKNN     0.000755  0.000305     0.002413  0.005438      0.003897   \n",
       "\n",
       "         Recall@10    NDCG@1    NDCG@5   NDCG@10     MAP@1     MAP@5  \\\n",
       "userKNN   0.017671  0.000755  0.001995  0.003176  0.000305  0.001736   \n",
       "\n",
       "           MAP@10  MeanInvUserFreq@1  MeanInvUserFreq@5  MeanInvUserFreq@10  \\\n",
       "userKNN  0.003353          10.008312           8.646891            7.947655   \n",
       "\n",
       "         Serendipity@1  Serendipity@5  Serendipity@10  \n",
       "userKNN       0.000047       0.000066        0.000068  "
      ]
     },
     "execution_count": 25,
     "metadata": {},
     "output_type": "execute_result"
    }
   ],
   "source": [
    "pd.DataFrame(hot_metric_values, index=['userKNN'])"
   ]
  },
  {
   "cell_type": "markdown",
   "id": "037736c0-2e4a-409b-9803-0ed48192dffe",
   "metadata": {},
   "source": [
    "# Рекомендации для холодных пользователей в тесте (пункт 2 задание 1) (3 балла)"
   ]
  },
  {
   "cell_type": "markdown",
   "id": "5d18a2e9-17f1-48d1-b187-1f4155e4bf2d",
   "metadata": {},
   "source": [
    "при отсутсвии юзера в train модель userKNN выдаёт ошибку, поэтому для выдачи рекомендаций таким юзерам будет использоваться popular модель"
   ]
  },
  {
   "cell_type": "markdown",
   "id": "bc979beb-895a-4f53-8350-011e70a660fc",
   "metadata": {},
   "source": [
    "в сервисе юзер будет проверяться по наличию в маппинге userKNN, если он в нём отсутсвует, то будут выдаваться рекомендации popular моделью"
   ]
  },
  {
   "cell_type": "code",
   "execution_count": 28,
   "id": "fd883d4c-439d-4771-98d3-014d98f59e1a",
   "metadata": {},
   "outputs": [],
   "source": [
    "cold_user_id = 9999999\n",
    "hot_user_id = 663436"
   ]
  },
  {
   "cell_type": "code",
   "execution_count": 29,
   "id": "2c361f50-f45f-42d8-ae82-bade2123cafa",
   "metadata": {},
   "outputs": [
    {
     "ename": "KeyError",
     "evalue": "9999999",
     "output_type": "error",
     "traceback": [
      "\u001b[1;31m---------------------------------------------------------------------------\u001b[0m",
      "\u001b[1;31mKeyError\u001b[0m                                  Traceback (most recent call last)",
      "Cell \u001b[1;32mIn[29], line 1\u001b[0m\n\u001b[1;32m----> 1\u001b[0m \u001b[43muserknn_model\u001b[49m\u001b[38;5;241;43m.\u001b[39;49m\u001b[43meval\u001b[49m\u001b[43m(\u001b[49m\u001b[43mcold_user_id\u001b[49m\u001b[43m)\u001b[49m\n",
      "File \u001b[1;32mF:\\education\\9 sem\\RecSys\\HW3\\userknn.py:127\u001b[0m, in \u001b[0;36mUserKnn.eval\u001b[1;34m(self, user_id, N_recs)\u001b[0m\n\u001b[0;32m    119\u001b[0m mapper \u001b[38;5;241m=\u001b[39m \u001b[38;5;28mself\u001b[39m\u001b[38;5;241m.\u001b[39m_generate_recs_mapper(\n\u001b[0;32m    120\u001b[0m     model\u001b[38;5;241m=\u001b[39m\u001b[38;5;28mself\u001b[39m\u001b[38;5;241m.\u001b[39muser_knn,\n\u001b[0;32m    121\u001b[0m     user_mapping\u001b[38;5;241m=\u001b[39m\u001b[38;5;28mself\u001b[39m\u001b[38;5;241m.\u001b[39musers_mapping,\n\u001b[0;32m    122\u001b[0m     user_inv_mapping\u001b[38;5;241m=\u001b[39m\u001b[38;5;28mself\u001b[39m\u001b[38;5;241m.\u001b[39musers_inv_mapping,\n\u001b[0;32m    123\u001b[0m     N\u001b[38;5;241m=\u001b[39m\u001b[38;5;28mself\u001b[39m\u001b[38;5;241m.\u001b[39mN_users\n\u001b[0;32m    124\u001b[0m )\n\u001b[0;32m    126\u001b[0m recs \u001b[38;5;241m=\u001b[39m pd\u001b[38;5;241m.\u001b[39mDataFrame({\u001b[38;5;124m'\u001b[39m\u001b[38;5;124muser_id\u001b[39m\u001b[38;5;124m'\u001b[39m: [user_id]})\n\u001b[1;32m--> 127\u001b[0m recs[\u001b[38;5;124m'\u001b[39m\u001b[38;5;124msim_user_id\u001b[39m\u001b[38;5;124m'\u001b[39m], recs[\u001b[38;5;124m'\u001b[39m\u001b[38;5;124msim\u001b[39m\u001b[38;5;124m'\u001b[39m] \u001b[38;5;241m=\u001b[39m \u001b[38;5;28mzip\u001b[39m(\u001b[38;5;241m*\u001b[39m\u001b[43mrecs\u001b[49m\u001b[43m[\u001b[49m\u001b[38;5;124;43m'\u001b[39;49m\u001b[38;5;124;43muser_id\u001b[39;49m\u001b[38;5;124;43m'\u001b[39;49m\u001b[43m]\u001b[49m\u001b[38;5;241;43m.\u001b[39;49m\u001b[43mmap\u001b[49m\u001b[43m(\u001b[49m\u001b[43mmapper\u001b[49m\u001b[43m)\u001b[49m)\n\u001b[0;32m    128\u001b[0m recs \u001b[38;5;241m=\u001b[39m recs\u001b[38;5;241m.\u001b[39mset_index(\u001b[38;5;124m'\u001b[39m\u001b[38;5;124muser_id\u001b[39m\u001b[38;5;124m'\u001b[39m)\u001b[38;5;241m.\u001b[39mapply(pd\u001b[38;5;241m.\u001b[39mSeries\u001b[38;5;241m.\u001b[39mexplode)\u001b[38;5;241m.\u001b[39mreset_index()\n\u001b[0;32m    130\u001b[0m recs \u001b[38;5;241m=\u001b[39m recs[\u001b[38;5;241m~\u001b[39m(recs[\u001b[38;5;124m'\u001b[39m\u001b[38;5;124muser_id\u001b[39m\u001b[38;5;124m'\u001b[39m] \u001b[38;5;241m==\u001b[39m recs[\u001b[38;5;124m'\u001b[39m\u001b[38;5;124msim_user_id\u001b[39m\u001b[38;5;124m'\u001b[39m])] \\\n\u001b[0;32m    131\u001b[0m     \u001b[38;5;241m.\u001b[39mmerge(\u001b[38;5;28mself\u001b[39m\u001b[38;5;241m.\u001b[39mwatched, on\u001b[38;5;241m=\u001b[39m[\u001b[38;5;124m'\u001b[39m\u001b[38;5;124msim_user_id\u001b[39m\u001b[38;5;124m'\u001b[39m], how\u001b[38;5;241m=\u001b[39m\u001b[38;5;124m'\u001b[39m\u001b[38;5;124mleft\u001b[39m\u001b[38;5;124m'\u001b[39m) \\\n\u001b[0;32m    132\u001b[0m     \u001b[38;5;241m.\u001b[39mexplode(\u001b[38;5;124m'\u001b[39m\u001b[38;5;124mitem_id\u001b[39m\u001b[38;5;124m'\u001b[39m) \\\n\u001b[0;32m    133\u001b[0m     \u001b[38;5;241m.\u001b[39msort_values([\u001b[38;5;124m'\u001b[39m\u001b[38;5;124muser_id\u001b[39m\u001b[38;5;124m'\u001b[39m, \u001b[38;5;124m'\u001b[39m\u001b[38;5;124msim\u001b[39m\u001b[38;5;124m'\u001b[39m], ascending\u001b[38;5;241m=\u001b[39m\u001b[38;5;28;01mFalse\u001b[39;00m) \\\n\u001b[0;32m    134\u001b[0m     \u001b[38;5;241m.\u001b[39mdrop_duplicates([\u001b[38;5;124m'\u001b[39m\u001b[38;5;124muser_id\u001b[39m\u001b[38;5;124m'\u001b[39m, \u001b[38;5;124m'\u001b[39m\u001b[38;5;124mitem_id\u001b[39m\u001b[38;5;124m'\u001b[39m], keep\u001b[38;5;241m=\u001b[39m\u001b[38;5;124m'\u001b[39m\u001b[38;5;124mfirst\u001b[39m\u001b[38;5;124m'\u001b[39m) \\\n\u001b[0;32m    135\u001b[0m     \u001b[38;5;241m.\u001b[39mmerge(\u001b[38;5;28mself\u001b[39m\u001b[38;5;241m.\u001b[39mitem_idf, left_on\u001b[38;5;241m=\u001b[39m\u001b[38;5;124m'\u001b[39m\u001b[38;5;124mitem_id\u001b[39m\u001b[38;5;124m'\u001b[39m, right_on\u001b[38;5;241m=\u001b[39m\u001b[38;5;124m'\u001b[39m\u001b[38;5;124mindex\u001b[39m\u001b[38;5;124m'\u001b[39m, how\u001b[38;5;241m=\u001b[39m\u001b[38;5;124m'\u001b[39m\u001b[38;5;124mleft\u001b[39m\u001b[38;5;124m'\u001b[39m)\n",
      "File \u001b[1;32m~\\.conda\\envs\\RecSys\\lib\\site-packages\\pandas\\core\\series.py:4397\u001b[0m, in \u001b[0;36mSeries.map\u001b[1;34m(self, arg, na_action)\u001b[0m\n\u001b[0;32m   4318\u001b[0m \u001b[38;5;28;01mdef\u001b[39;00m \u001b[38;5;21mmap\u001b[39m(\n\u001b[0;32m   4319\u001b[0m     \u001b[38;5;28mself\u001b[39m,\n\u001b[0;32m   4320\u001b[0m     arg: Callable \u001b[38;5;241m|\u001b[39m Mapping \u001b[38;5;241m|\u001b[39m Series,\n\u001b[0;32m   4321\u001b[0m     na_action: Literal[\u001b[38;5;124m\"\u001b[39m\u001b[38;5;124mignore\u001b[39m\u001b[38;5;124m\"\u001b[39m] \u001b[38;5;241m|\u001b[39m \u001b[38;5;28;01mNone\u001b[39;00m \u001b[38;5;241m=\u001b[39m \u001b[38;5;28;01mNone\u001b[39;00m,\n\u001b[0;32m   4322\u001b[0m ) \u001b[38;5;241m-\u001b[39m\u001b[38;5;241m>\u001b[39m Series:\n\u001b[0;32m   4323\u001b[0m \u001b[38;5;250m    \u001b[39m\u001b[38;5;124;03m\"\"\"\u001b[39;00m\n\u001b[0;32m   4324\u001b[0m \u001b[38;5;124;03m    Map values of Series according to an input mapping or function.\u001b[39;00m\n\u001b[0;32m   4325\u001b[0m \n\u001b[1;32m   (...)\u001b[0m\n\u001b[0;32m   4395\u001b[0m \u001b[38;5;124;03m    dtype: object\u001b[39;00m\n\u001b[0;32m   4396\u001b[0m \u001b[38;5;124;03m    \"\"\"\u001b[39;00m\n\u001b[1;32m-> 4397\u001b[0m     new_values \u001b[38;5;241m=\u001b[39m \u001b[38;5;28;43mself\u001b[39;49m\u001b[38;5;241;43m.\u001b[39;49m\u001b[43m_map_values\u001b[49m\u001b[43m(\u001b[49m\u001b[43marg\u001b[49m\u001b[43m,\u001b[49m\u001b[43m \u001b[49m\u001b[43mna_action\u001b[49m\u001b[38;5;241;43m=\u001b[39;49m\u001b[43mna_action\u001b[49m\u001b[43m)\u001b[49m\n\u001b[0;32m   4398\u001b[0m     \u001b[38;5;28;01mreturn\u001b[39;00m \u001b[38;5;28mself\u001b[39m\u001b[38;5;241m.\u001b[39m_constructor(new_values, index\u001b[38;5;241m=\u001b[39m\u001b[38;5;28mself\u001b[39m\u001b[38;5;241m.\u001b[39mindex, copy\u001b[38;5;241m=\u001b[39m\u001b[38;5;28;01mFalse\u001b[39;00m)\u001b[38;5;241m.\u001b[39m__finalize__(\n\u001b[0;32m   4399\u001b[0m         \u001b[38;5;28mself\u001b[39m, method\u001b[38;5;241m=\u001b[39m\u001b[38;5;124m\"\u001b[39m\u001b[38;5;124mmap\u001b[39m\u001b[38;5;124m\"\u001b[39m\n\u001b[0;32m   4400\u001b[0m     )\n",
      "File \u001b[1;32m~\\.conda\\envs\\RecSys\\lib\\site-packages\\pandas\\core\\base.py:924\u001b[0m, in \u001b[0;36mIndexOpsMixin._map_values\u001b[1;34m(self, mapper, na_action)\u001b[0m\n\u001b[0;32m    921\u001b[0m         \u001b[38;5;28;01mraise\u001b[39;00m \u001b[38;5;167;01mValueError\u001b[39;00m(msg)\n\u001b[0;32m    923\u001b[0m \u001b[38;5;66;03m# mapper is a function\u001b[39;00m\n\u001b[1;32m--> 924\u001b[0m new_values \u001b[38;5;241m=\u001b[39m \u001b[43mmap_f\u001b[49m\u001b[43m(\u001b[49m\u001b[43mvalues\u001b[49m\u001b[43m,\u001b[49m\u001b[43m \u001b[49m\u001b[43mmapper\u001b[49m\u001b[43m)\u001b[49m\n\u001b[0;32m    926\u001b[0m \u001b[38;5;28;01mreturn\u001b[39;00m new_values\n",
      "File \u001b[1;32m~\\.conda\\envs\\RecSys\\lib\\site-packages\\pandas\\_libs\\lib.pyx:2834\u001b[0m, in \u001b[0;36mpandas._libs.lib.map_infer\u001b[1;34m()\u001b[0m\n",
      "File \u001b[1;32mF:\\education\\9 sem\\RecSys\\HW3\\userknn.py:80\u001b[0m, in \u001b[0;36mUserKnn._generate_recs_mapper.<locals>._recs_mapper\u001b[1;34m(user)\u001b[0m\n\u001b[0;32m     79\u001b[0m \u001b[38;5;28;01mdef\u001b[39;00m \u001b[38;5;21m_recs_mapper\u001b[39m(user):\n\u001b[1;32m---> 80\u001b[0m     user_id \u001b[38;5;241m=\u001b[39m \u001b[38;5;28;43mself\u001b[39;49m\u001b[38;5;241;43m.\u001b[39;49m\u001b[43musers_mapping\u001b[49m\u001b[43m[\u001b[49m\u001b[43muser\u001b[49m\u001b[43m]\u001b[49m\n\u001b[0;32m     81\u001b[0m     users, sim \u001b[38;5;241m=\u001b[39m model\u001b[38;5;241m.\u001b[39msimilar_items(user_id, N\u001b[38;5;241m=\u001b[39mN)\n\u001b[0;32m     82\u001b[0m     \u001b[38;5;28;01mreturn\u001b[39;00m [\u001b[38;5;28mself\u001b[39m\u001b[38;5;241m.\u001b[39musers_inv_mapping[user] \u001b[38;5;28;01mfor\u001b[39;00m user \u001b[38;5;129;01min\u001b[39;00m users], sim\n",
      "\u001b[1;31mKeyError\u001b[0m: 9999999"
     ]
    }
   ],
   "source": [
    "userknn_model.eval(cold_user_id)"
   ]
  },
  {
   "cell_type": "code",
   "execution_count": 24,
   "id": "056994af-c0bd-4850-be43-c522fdbbce03",
   "metadata": {},
   "outputs": [],
   "source": [
    "pop = PopularModel()\n",
    "pop.fit(dataset);"
   ]
  },
  {
   "cell_type": "code",
   "execution_count": 25,
   "id": "00a159e8-ec3e-46de-b75f-6e9c37008b57",
   "metadata": {},
   "outputs": [],
   "source": [
    "pop_recs = pop.recommend(\n",
    "    users=dataset.user_id_map.external_ids,\n",
    "    dataset=dataset,\n",
    "    k=10,\n",
    "    filter_viewed=False  # True - удаляет просмотренные айтемы из рекомендаций \n",
    ")"
   ]
  },
  {
   "cell_type": "code",
   "execution_count": 26,
   "id": "4cd9d591-ed26-416e-a783-27c176ec1a18",
   "metadata": {},
   "outputs": [],
   "source": [
    "pop_recs = pop_recs.head(10)['item_id'].to_list()"
   ]
  },
  {
   "cell_type": "code",
   "execution_count": 27,
   "id": "e1453421-0d35-4b53-9b87-aeec23e50597",
   "metadata": {},
   "outputs": [],
   "source": [
    "# with open(\"popular_answer.pkl\", \"wb\") as file:\n",
    "#     pickle.dump(pop_recs, file)"
   ]
  },
  {
   "cell_type": "code",
   "execution_count": 30,
   "id": "fdeaaf86-9fc2-47d9-835e-029cf686b086",
   "metadata": {},
   "outputs": [],
   "source": [
    "with open(\"popular_answer.pkl\", \"rb\") as file:\n",
    "    pop_recs = pickle.load(file)"
   ]
  },
  {
   "cell_type": "code",
   "execution_count": 31,
   "id": "ccc271be-e168-49cc-a7e0-d9ec402a4c4d",
   "metadata": {},
   "outputs": [],
   "source": [
    "def predict_rec(user_id):\n",
    "    if user_id in userknn_model.users_mapping:\n",
    "        print('userKNN')\n",
    "        ans = userknn_model.eval(user_id).item_id.to_list()\n",
    "    else:\n",
    "        print('popular')\n",
    "        ans = pop_recs\n",
    "    return ans"
   ]
  },
  {
   "cell_type": "code",
   "execution_count": 32,
   "id": "1639ea33-e560-4bc6-9f8c-900d1727de48",
   "metadata": {},
   "outputs": [
    {
     "name": "stdout",
     "output_type": "stream",
     "text": [
      "popular\n"
     ]
    },
    {
     "data": {
      "text/plain": [
       "[10440, 15297, 9728, 13865, 4151, 3734, 2657, 4880, 142, 6809]"
      ]
     },
     "execution_count": 32,
     "metadata": {},
     "output_type": "execute_result"
    }
   ],
   "source": [
    "predict_rec(cold_user_id)"
   ]
  },
  {
   "cell_type": "code",
   "execution_count": 33,
   "id": "e8396b76-fe6e-46cc-b3f9-d063ca978573",
   "metadata": {},
   "outputs": [
    {
     "name": "stdout",
     "output_type": "stream",
     "text": [
      "userKNN\n"
     ]
    },
    {
     "data": {
      "text/plain": [
       "[6939]"
      ]
     },
     "execution_count": 33,
     "metadata": {},
     "output_type": "execute_result"
    }
   ],
   "source": [
    "predict_rec(hot_user_id)"
   ]
  },
  {
   "cell_type": "markdown",
   "id": "b6e2f0ea-58d3-42c2-8ba3-3ea4330e0612",
   "metadata": {},
   "source": [
    "# Количество рекомендаций меньше N (пункт 2 задание 2) (3 балла)"
   ]
  },
  {
   "cell_type": "markdown",
   "id": "53a10d37-6953-4d06-b67e-bf66108c6b46",
   "metadata": {},
   "source": [
    "Данную проблему можно решать следующими способами:\n",
    "1) при получении от модели userKNN количества рекомендаций меньше N дополняем отсутсвующие айтемы популярным начиная с самого популярного\n",
    "2) при определении похожих юзеров сделать цикл while в котором мы увеличивем количество рассматриваемых юзеров (параметр N в Recommender), который будет прекращаться при достижении нужного количества айтемов (k_recs)\n",
    "\n",
    "Второй способ кажется более правильным, но у него узкие места:\n",
    "1) большое количество операций merge для проверки достаточности количества айтемов для рекомендации (merge айтемов сходжих пользователей)\n",
    "2) долгое дополнение айтемов для новых и слишком уникальных пользователей (малое количество айтемов у похожих пользователей) -- т.е для достижения нужного количества айтемов нужно много схожих пользователей\n",
    "\n",
    "Поэтому в данном пункте был выбран первый способ с дополнением от модели popular"
   ]
  },
  {
   "cell_type": "code",
   "execution_count": 34,
   "id": "24787ad7-22a8-4281-b231-5b22e405e56e",
   "metadata": {},
   "outputs": [
    {
     "data": {
      "text/plain": [
       "50092"
      ]
     },
     "execution_count": 34,
     "metadata": {},
     "output_type": "execute_result"
    }
   ],
   "source": [
    "# количество юзеров в тесте с количеством рекомендаций меньше 10\n",
    "recos.groupby('user_id').count().query('item_id < 10').shape[0]"
   ]
  },
  {
   "cell_type": "code",
   "execution_count": 35,
   "id": "0773308b-d6c9-44c7-8a12-fdfdd73361f3",
   "metadata": {},
   "outputs": [],
   "source": [
    "bad_user_id = 663436\n",
    "k_recs = 10"
   ]
  },
  {
   "cell_type": "code",
   "execution_count": 36,
   "id": "8259d2d5-0b25-4a32-914b-ffeee533e540",
   "metadata": {},
   "outputs": [],
   "source": [
    "ans = userknn_model.eval(bad_user_id).item_id.to_list()"
   ]
  },
  {
   "cell_type": "code",
   "execution_count": 37,
   "id": "3d5acb38-19c0-4c17-aace-e95920d7770e",
   "metadata": {},
   "outputs": [
    {
     "data": {
      "text/plain": [
       "([6939], 1)"
      ]
     },
     "execution_count": 37,
     "metadata": {},
     "output_type": "execute_result"
    }
   ],
   "source": [
    "ans, len(ans)"
   ]
  },
  {
   "cell_type": "markdown",
   "id": "372ba61b-602c-484b-9f0a-41bd01f6b914",
   "metadata": {},
   "source": [
    "при в предикте userKNN оказался только 1 айтем"
   ]
  },
  {
   "cell_type": "code",
   "execution_count": 38,
   "id": "d3d61fdb-2d85-4918-a453-9eadf705e2a7",
   "metadata": {},
   "outputs": [],
   "source": [
    "new_ans = ans + [item for item in pop_recs if item not in ans][:k_recs-len(ans)]"
   ]
  },
  {
   "cell_type": "code",
   "execution_count": 39,
   "id": "b20380dd-8fa2-4ba6-92f1-f0f36fd331bd",
   "metadata": {},
   "outputs": [
    {
     "data": {
      "text/plain": [
       "([6939, 10440, 15297, 9728, 13865, 4151, 3734, 2657, 4880, 142], 10)"
      ]
     },
     "execution_count": 39,
     "metadata": {},
     "output_type": "execute_result"
    }
   ],
   "source": [
    "new_ans, len(new_ans)"
   ]
  },
  {
   "cell_type": "markdown",
   "id": "0c0aa685-e133-4ba2-b30c-21d720444522",
   "metadata": {},
   "source": [
    "в результате получаем дополненный ответ userKNN популярным, при чём в дополнении популярным нужно удалять айтемы, которые уже есть в userKNN"
   ]
  },
  {
   "cell_type": "markdown",
   "id": "116a8d1e-6911-4189-980f-f4cdba3eaf19",
   "metadata": {},
   "source": [
    "при таком подходе мы всё равно ограничены лимитом выдачи popular модели, но по требованиям к рекомендациям сервиса их должно быть строго 10, и в крайнем случае можно расширить лимит выдачи popular модели с запасом"
   ]
  },
  {
   "cell_type": "code",
   "execution_count": null,
   "id": "1ef7c146-8b8f-4b34-a09f-513875f52fb0",
   "metadata": {},
   "outputs": [],
   "source": []
  }
 ],
 "metadata": {
  "kernelspec": {
   "display_name": "Python 3 (ipykernel)",
   "language": "python",
   "name": "python3"
  },
  "language_info": {
   "codemirror_mode": {
    "name": "ipython",
    "version": 3
   },
   "file_extension": ".py",
   "mimetype": "text/x-python",
   "name": "python",
   "nbconvert_exporter": "python",
   "pygments_lexer": "ipython3",
   "version": "3.9.18"
  }
 },
 "nbformat": 4,
 "nbformat_minor": 5
}
