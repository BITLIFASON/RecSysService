{
 "cells": [
  {
   "cell_type": "markdown",
   "id": "30cb7527-71e7-4a14-a2d3-8275346ae1cd",
   "metadata": {},
   "source": [
    "# Конфигурация"
   ]
  },
  {
   "cell_type": "code",
   "execution_count": 1,
   "id": "fd78f78e-0729-4d77-bd75-489b758a5106",
   "metadata": {},
   "outputs": [],
   "source": [
    "import pickle\n",
    "from collections import Counter\n",
    "import random\n",
    "\n",
    "import pandas as pd\n",
    "import numpy as np\n",
    "from scipy import sparse\n",
    "\n",
    "from tqdm.auto import tqdm\n",
    "\n",
    "import gensim.downloader as api\n",
    "\n",
    "import rectools \n",
    "from rectools.model_selection import TimeRangeSplitter\n",
    "from rectools.metrics import MAP, NDCG, Precision, Recall, MeanInvUserFreq, Serendipity, calc_metrics\n",
    "from rectools.tools.ann import UserToItemAnnRecommender\n",
    "\n",
    "import tensorflow.keras.backend as K\n",
    "from tensorflow import keras\n",
    "\n",
    "from sklearn.metrics.pairwise import euclidean_distances, cosine_distances, cosine_similarity"
   ]
  },
  {
   "cell_type": "code",
   "execution_count": 2,
   "id": "5e6728ee-1463-4fff-b3fc-27c56111de55",
   "metadata": {},
   "outputs": [],
   "source": [
    "K_RECOS = 10\n",
    "RANDOM_SEED = 42\n",
    "\n",
    "np.random.seed(RANDOM_SEED)"
   ]
  },
  {
   "cell_type": "code",
   "execution_count": 3,
   "id": "72c6fd0f-0854-4408-8d31-66c808362600",
   "metadata": {},
   "outputs": [],
   "source": [
    "metrics = {'MAP@1': MAP(k=1), 'MAP@5': MAP(k=5), 'MAP@10': MAP(k=10),\n",
    "           'NDCG@1': NDCG(k=1), 'NDCG@5': NDCG(k=5), 'NDCG@10': NDCG(k=10),\n",
    "           'Precision@1': Precision(k=1), 'Precision@5': Precision(k=5), 'Precision@10': Precision(k=10),\n",
    "           'Recall@1': Recall(k=1), 'Recall@5': Recall(k=5), 'Recall@10': Recall(k=10),\n",
    "           'MeanInvUserFreq@1': MeanInvUserFreq(k=1), 'MeanInvUserFreq@5': MeanInvUserFreq(k=5), 'MeanInvUserFreq@10': MeanInvUserFreq(k=10),\n",
    "           'Serendipity@1': Serendipity(k=1), 'Serendipity@5': Serendipity(k=5), 'Serendipity@10': Serendipity(k=10)}"
   ]
  },
  {
   "cell_type": "markdown",
   "id": "7977735d-5b00-479d-abb4-f95724644a78",
   "metadata": {},
   "source": [
    "# Загрузка и обработка данных"
   ]
  },
  {
   "cell_type": "code",
   "execution_count": 4,
   "id": "c947de6a-d747-43f1-ba4e-4b2926b1b19a",
   "metadata": {},
   "outputs": [],
   "source": [
    "users = pd.read_csv('data_original/users.csv')\n",
    "items = pd.read_csv('data_original/items.csv')\n",
    "interactions = pd.read_csv('data_original/interactions.csv', parse_dates=[\"last_watch_dt\"])"
   ]
  },
  {
   "cell_type": "markdown",
   "id": "80cd307a-c85a-46dd-b41a-0647e3ebaf82",
   "metadata": {},
   "source": [
    "## Обработка юзеров"
   ]
  },
  {
   "cell_type": "code",
   "execution_count": 5,
   "id": "47ad6ba8-6778-42ad-9162-7fe8140c2063",
   "metadata": {},
   "outputs": [],
   "source": [
    "users.fillna('unknown', inplace=True)"
   ]
  },
  {
   "cell_type": "code",
   "execution_count": 6,
   "id": "03fb7cbd-3e87-403d-a063-9d534f1f0723",
   "metadata": {},
   "outputs": [],
   "source": [
    "users['age'] = users['age'].astype('category')"
   ]
  },
  {
   "cell_type": "code",
   "execution_count": 7,
   "id": "6b1205cc-dfe7-4e0e-b273-507f7d69553c",
   "metadata": {},
   "outputs": [],
   "source": [
    "users['income'] = users['income'].astype('category')"
   ]
  },
  {
   "cell_type": "code",
   "execution_count": 8,
   "id": "708bf117-9830-445f-be19-626cedc50913",
   "metadata": {},
   "outputs": [],
   "source": [
    "users['sex'] = users['sex'].astype('category')"
   ]
  },
  {
   "cell_type": "code",
   "execution_count": 9,
   "id": "b7b66158-d02f-40fe-ac76-d3ff0a4afedb",
   "metadata": {},
   "outputs": [],
   "source": [
    "users['kids_flg'] = users['kids_flg'].astype('bool')"
   ]
  },
  {
   "cell_type": "markdown",
   "id": "1caf16a4-c716-4330-a957-63310e497e79",
   "metadata": {},
   "source": [
    "## Обработка айтемов"
   ]
  },
  {
   "cell_type": "markdown",
   "id": "1a5d2a28-1208-44f0-a46a-0468d8c107a2",
   "metadata": {},
   "source": [
    "### Тип контента"
   ]
  },
  {
   "cell_type": "code",
   "execution_count": 10,
   "id": "b1412c95-f087-4220-8817-0aa28db8a739",
   "metadata": {},
   "outputs": [],
   "source": [
    "items['content_type'] = items['content_type'].astype('category')"
   ]
  },
  {
   "cell_type": "markdown",
   "id": "71a5bd35-73cd-4279-bebd-5b7b6b21fb40",
   "metadata": {},
   "source": [
    "### Заголовок"
   ]
  },
  {
   "cell_type": "code",
   "execution_count": 11,
   "id": "8280d1cc-390d-4ce0-91d2-f8d0f21de5c0",
   "metadata": {},
   "outputs": [],
   "source": [
    "items['title'] = items['title'].str.lower()"
   ]
  },
  {
   "cell_type": "code",
   "execution_count": 12,
   "id": "0334f580-ac1c-4ae6-ad6f-95f7652c2a76",
   "metadata": {},
   "outputs": [],
   "source": [
    "items['title_orig'] = items['title_orig'].fillna('unknown') "
   ]
  },
  {
   "cell_type": "markdown",
   "id": "d0da5bc5-9021-43cc-b47d-009f75fd47e4",
   "metadata": {},
   "source": [
    "### Год выпуска"
   ]
  },
  {
   "cell_type": "code",
   "execution_count": 13,
   "id": "65c3a614-6529-4b15-8e14-b19c49d1e3e0",
   "metadata": {},
   "outputs": [],
   "source": [
    "items['release_year'] = items['release_year'].fillna(2020) "
   ]
  },
  {
   "cell_type": "code",
   "execution_count": 14,
   "id": "7e7318fc-8eed-473b-a41f-f332b55ea7b7",
   "metadata": {},
   "outputs": [],
   "source": [
    "items.loc[items['release_year'] < 1920, 'release_year_cat'] = 'inf_1920'\n",
    "items.loc[items['release_year'] >= 2020, 'release_year_cat'] = '2020_inf'"
   ]
  },
  {
   "cell_type": "code",
   "execution_count": 15,
   "id": "9e2295a1-62e3-40fd-9593-addd94e71786",
   "metadata": {},
   "outputs": [],
   "source": [
    "for i in range (1920, 2020, 10):\n",
    "    items.loc[(items['release_year'] >= i) & (items['release_year'] < i+10), 'release_year_cat'] = f'{i}-{i+10}'"
   ]
  },
  {
   "cell_type": "code",
   "execution_count": 16,
   "id": "bc204bf8-d9b1-4a38-b32e-eea840176d1f",
   "metadata": {},
   "outputs": [],
   "source": [
    "items = items.drop(columns=['release_year'])\n",
    "items['release_year_cat'] = items['release_year_cat'].astype('category')"
   ]
  },
  {
   "cell_type": "markdown",
   "id": "a315dc09-864c-4098-a7e3-4562832933da",
   "metadata": {},
   "source": [
    "### Жанр"
   ]
  },
  {
   "cell_type": "code",
   "execution_count": 17,
   "id": "79d120a6-06c1-4195-84fc-a93d73b7180c",
   "metadata": {},
   "outputs": [],
   "source": [
    "items['genres'] = items['genres'].astype('category')"
   ]
  },
  {
   "cell_type": "markdown",
   "id": "f01b87e7-47d6-4d1b-a46d-464ea1925cbc",
   "metadata": {},
   "source": [
    "### Страна"
   ]
  },
  {
   "cell_type": "code",
   "execution_count": 18,
   "id": "2f4c797c-6ccf-4012-b365-b575feeafec3",
   "metadata": {},
   "outputs": [],
   "source": [
    "items['countries'] = items['countries'].fillna('Россия') "
   ]
  },
  {
   "cell_type": "code",
   "execution_count": 19,
   "id": "caacfd78-38cc-4242-b950-fbd5e9992942",
   "metadata": {},
   "outputs": [],
   "source": [
    "items['countries'] = items['countries'].str.lower()\n",
    "items['countries'] = items['countries'].apply(lambda x: ', '.join(sorted(list(set(x.split(', '))))))"
   ]
  },
  {
   "cell_type": "code",
   "execution_count": 20,
   "id": "9fd3d6d2-bddb-4d53-b38c-12d5e7ce731c",
   "metadata": {},
   "outputs": [],
   "source": [
    "items['countries'] = items['countries'].astype('category')"
   ]
  },
  {
   "cell_type": "markdown",
   "id": "86869b15-88a0-4379-920d-3eecfcf54037",
   "metadata": {},
   "source": [
    "### Возрастные ограничения"
   ]
  },
  {
   "cell_type": "code",
   "execution_count": 21,
   "id": "45c2c24b-45da-4bf2-9b00-7d7f892dbf38",
   "metadata": {},
   "outputs": [],
   "source": [
    "items['for_kids'] = items['for_kids'].fillna(0)"
   ]
  },
  {
   "cell_type": "code",
   "execution_count": 22,
   "id": "6d671acc-732b-4e15-8089-7c2608a7e7e4",
   "metadata": {},
   "outputs": [],
   "source": [
    "items['for_kids'] = items['for_kids'].astype('bool')"
   ]
  },
  {
   "cell_type": "code",
   "execution_count": 23,
   "id": "ff4b3d6a-1433-4856-9a10-cabb6ea7bc69",
   "metadata": {},
   "outputs": [],
   "source": [
    "items['age_rating'] = items['age_rating'].fillna(0) "
   ]
  },
  {
   "cell_type": "code",
   "execution_count": 24,
   "id": "e9a38634-c279-41f0-b467-00859b82fb07",
   "metadata": {},
   "outputs": [],
   "source": [
    "items['age_rating'] = items['age_rating'].astype('category')"
   ]
  },
  {
   "cell_type": "markdown",
   "id": "6bb86c65-1e26-48ae-8ab5-402fd3d2b311",
   "metadata": {},
   "source": [
    "### Студия"
   ]
  },
  {
   "cell_type": "code",
   "execution_count": 25,
   "id": "e7744325-dafd-4024-9ccb-bca00d6858a2",
   "metadata": {},
   "outputs": [],
   "source": [
    "items['studios'] = items['studios'].fillna('unknown')"
   ]
  },
  {
   "cell_type": "code",
   "execution_count": 26,
   "id": "7b77178a-2b49-47c8-9d6c-0994d1760d67",
   "metadata": {},
   "outputs": [],
   "source": [
    "items['studios'] = items['studios'].str.lower()\n",
    "items['studios'] = items['studios'].apply(lambda x: ', '.join(sorted(list(set(x.split(', '))))))"
   ]
  },
  {
   "cell_type": "code",
   "execution_count": 27,
   "id": "eafe0862-a96b-4511-a9a5-85d5717e9f35",
   "metadata": {},
   "outputs": [],
   "source": [
    "items['studios'] = items['studios'].astype('category')"
   ]
  },
  {
   "cell_type": "markdown",
   "id": "5d7ebd64-859b-4579-a9f7-07eea4899133",
   "metadata": {},
   "source": [
    "### Директор"
   ]
  },
  {
   "cell_type": "code",
   "execution_count": 28,
   "id": "aaf2e83b-bb1a-4dea-82f3-145e9d96795e",
   "metadata": {},
   "outputs": [],
   "source": [
    "items['directors'] = items['directors'].fillna('unknown')"
   ]
  },
  {
   "cell_type": "code",
   "execution_count": 29,
   "id": "14998226-275d-47b8-865a-8e9c7ca9c48b",
   "metadata": {},
   "outputs": [],
   "source": [
    "items['directors'] = items['directors'].str.lower()"
   ]
  },
  {
   "cell_type": "code",
   "execution_count": 30,
   "id": "ba5f2d91-c766-4c15-9d36-72d381c7a5a5",
   "metadata": {},
   "outputs": [],
   "source": [
    "items['directors'] = items['directors'].astype('category')"
   ]
  },
  {
   "cell_type": "markdown",
   "id": "156058d0-fc98-4add-b5db-61386be54970",
   "metadata": {},
   "source": [
    "### Актёры"
   ]
  },
  {
   "cell_type": "code",
   "execution_count": 31,
   "id": "400196a9-4489-4a94-b6ab-631e113aeb2a",
   "metadata": {},
   "outputs": [],
   "source": [
    "items['actors'] = items['actors'].fillna('unknown')"
   ]
  },
  {
   "cell_type": "code",
   "execution_count": 32,
   "id": "6ac05e92-5b3f-413e-b178-6997184d8ada",
   "metadata": {},
   "outputs": [],
   "source": [
    "items['actors'] = items['actors'].astype('category')"
   ]
  },
  {
   "cell_type": "markdown",
   "id": "2bef00ed-73a2-4c41-8436-ed6f025b0fbb",
   "metadata": {},
   "source": [
    "### Ключевые слова"
   ]
  },
  {
   "cell_type": "code",
   "execution_count": 33,
   "id": "297b58dd-e568-4bc8-afb1-73eb04b70cf3",
   "metadata": {},
   "outputs": [],
   "source": [
    "items['keywords'] = items['keywords'].fillna('unknown')"
   ]
  },
  {
   "cell_type": "code",
   "execution_count": 34,
   "id": "7f3ad4a8-acaa-4310-a5ec-3959c857633e",
   "metadata": {},
   "outputs": [],
   "source": [
    "items['keywords'] = items['keywords'].apply(lambda x: list(x.lower().replace(',','').split()))"
   ]
  },
  {
   "cell_type": "markdown",
   "id": "b29854a9-9591-466f-9e33-e4c54f0e588c",
   "metadata": {},
   "source": [
    "### Описание"
   ]
  },
  {
   "cell_type": "code",
   "execution_count": 35,
   "id": "88344061-be4d-4583-87de-9cc6f2705b79",
   "metadata": {},
   "outputs": [],
   "source": [
    "items['description'] = items['description'].fillna('unknown')"
   ]
  },
  {
   "cell_type": "markdown",
   "id": "3845e9ba-15c4-41e3-9611-f68994062029",
   "metadata": {},
   "source": [
    "## Обработка взаимодействий"
   ]
  },
  {
   "cell_type": "code",
   "execution_count": 36,
   "id": "53cfd670-eb21-41fd-9b09-6414b24a6634",
   "metadata": {},
   "outputs": [],
   "source": [
    "interactions['watched_pct'] = interactions['watched_pct'].astype(pd.Int8Dtype())"
   ]
  },
  {
   "cell_type": "code",
   "execution_count": 37,
   "id": "2cb9582f-f865-4749-8407-71bf94687227",
   "metadata": {},
   "outputs": [],
   "source": [
    "interactions['watched_pct'] = interactions['watched_pct'].fillna(0)"
   ]
  },
  {
   "cell_type": "markdown",
   "id": "f6e060a6-d34c-4671-a71e-b147f2df0cd2",
   "metadata": {},
   "source": [
    "# Подготовка данных"
   ]
  },
  {
   "cell_type": "markdown",
   "id": "99a16354-cdd3-4940-b5c2-38517d7d0e95",
   "metadata": {},
   "source": [
    "В качестве фичей юзеров были выбраны: возраст, доход, пол, наличие детей"
   ]
  },
  {
   "cell_type": "code",
   "execution_count": 38,
   "id": "dc568359-ed15-4748-b52d-83fa78c59a91",
   "metadata": {},
   "outputs": [
    {
     "data": {
      "text/html": [
       "<div>\n",
       "<style scoped>\n",
       "    .dataframe tbody tr th:only-of-type {\n",
       "        vertical-align: middle;\n",
       "    }\n",
       "\n",
       "    .dataframe tbody tr th {\n",
       "        vertical-align: top;\n",
       "    }\n",
       "\n",
       "    .dataframe thead th {\n",
       "        text-align: right;\n",
       "    }\n",
       "</style>\n",
       "<table border=\"1\" class=\"dataframe\">\n",
       "  <thead>\n",
       "    <tr style=\"text-align: right;\">\n",
       "      <th></th>\n",
       "      <th>user_id</th>\n",
       "      <th>age_age_18_24</th>\n",
       "      <th>age_age_25_34</th>\n",
       "      <th>age_age_35_44</th>\n",
       "      <th>age_age_45_54</th>\n",
       "      <th>age_age_55_64</th>\n",
       "      <th>age_age_65_inf</th>\n",
       "      <th>age_unknown</th>\n",
       "      <th>income_income_0_20</th>\n",
       "      <th>income_income_150_inf</th>\n",
       "      <th>income_income_20_40</th>\n",
       "      <th>income_income_40_60</th>\n",
       "      <th>income_income_60_90</th>\n",
       "      <th>income_income_90_150</th>\n",
       "      <th>income_unknown</th>\n",
       "      <th>sex_unknown</th>\n",
       "      <th>sex_Ж</th>\n",
       "      <th>sex_М</th>\n",
       "      <th>kids_flg_False</th>\n",
       "      <th>kids_flg_True</th>\n",
       "    </tr>\n",
       "  </thead>\n",
       "  <tbody>\n",
       "    <tr>\n",
       "      <th>0</th>\n",
       "      <td>973171</td>\n",
       "      <td>0</td>\n",
       "      <td>1</td>\n",
       "      <td>0</td>\n",
       "      <td>0</td>\n",
       "      <td>0</td>\n",
       "      <td>0</td>\n",
       "      <td>0</td>\n",
       "      <td>0</td>\n",
       "      <td>0</td>\n",
       "      <td>0</td>\n",
       "      <td>0</td>\n",
       "      <td>1</td>\n",
       "      <td>0</td>\n",
       "      <td>0</td>\n",
       "      <td>0</td>\n",
       "      <td>0</td>\n",
       "      <td>1</td>\n",
       "      <td>0</td>\n",
       "      <td>1</td>\n",
       "    </tr>\n",
       "    <tr>\n",
       "      <th>1</th>\n",
       "      <td>962099</td>\n",
       "      <td>1</td>\n",
       "      <td>0</td>\n",
       "      <td>0</td>\n",
       "      <td>0</td>\n",
       "      <td>0</td>\n",
       "      <td>0</td>\n",
       "      <td>0</td>\n",
       "      <td>0</td>\n",
       "      <td>0</td>\n",
       "      <td>1</td>\n",
       "      <td>0</td>\n",
       "      <td>0</td>\n",
       "      <td>0</td>\n",
       "      <td>0</td>\n",
       "      <td>0</td>\n",
       "      <td>0</td>\n",
       "      <td>1</td>\n",
       "      <td>1</td>\n",
       "      <td>0</td>\n",
       "    </tr>\n",
       "    <tr>\n",
       "      <th>2</th>\n",
       "      <td>1047345</td>\n",
       "      <td>0</td>\n",
       "      <td>0</td>\n",
       "      <td>0</td>\n",
       "      <td>1</td>\n",
       "      <td>0</td>\n",
       "      <td>0</td>\n",
       "      <td>0</td>\n",
       "      <td>0</td>\n",
       "      <td>0</td>\n",
       "      <td>0</td>\n",
       "      <td>1</td>\n",
       "      <td>0</td>\n",
       "      <td>0</td>\n",
       "      <td>0</td>\n",
       "      <td>0</td>\n",
       "      <td>1</td>\n",
       "      <td>0</td>\n",
       "      <td>1</td>\n",
       "      <td>0</td>\n",
       "    </tr>\n",
       "    <tr>\n",
       "      <th>3</th>\n",
       "      <td>721985</td>\n",
       "      <td>0</td>\n",
       "      <td>0</td>\n",
       "      <td>0</td>\n",
       "      <td>1</td>\n",
       "      <td>0</td>\n",
       "      <td>0</td>\n",
       "      <td>0</td>\n",
       "      <td>0</td>\n",
       "      <td>0</td>\n",
       "      <td>1</td>\n",
       "      <td>0</td>\n",
       "      <td>0</td>\n",
       "      <td>0</td>\n",
       "      <td>0</td>\n",
       "      <td>0</td>\n",
       "      <td>1</td>\n",
       "      <td>0</td>\n",
       "      <td>1</td>\n",
       "      <td>0</td>\n",
       "    </tr>\n",
       "    <tr>\n",
       "      <th>4</th>\n",
       "      <td>704055</td>\n",
       "      <td>0</td>\n",
       "      <td>0</td>\n",
       "      <td>1</td>\n",
       "      <td>0</td>\n",
       "      <td>0</td>\n",
       "      <td>0</td>\n",
       "      <td>0</td>\n",
       "      <td>0</td>\n",
       "      <td>0</td>\n",
       "      <td>0</td>\n",
       "      <td>0</td>\n",
       "      <td>1</td>\n",
       "      <td>0</td>\n",
       "      <td>0</td>\n",
       "      <td>0</td>\n",
       "      <td>1</td>\n",
       "      <td>0</td>\n",
       "      <td>1</td>\n",
       "      <td>0</td>\n",
       "    </tr>\n",
       "  </tbody>\n",
       "</table>\n",
       "</div>"
      ],
      "text/plain": [
       "   user_id  age_age_18_24  age_age_25_34  age_age_35_44  age_age_45_54  \\\n",
       "0   973171              0              1              0              0   \n",
       "1   962099              1              0              0              0   \n",
       "2  1047345              0              0              0              1   \n",
       "3   721985              0              0              0              1   \n",
       "4   704055              0              0              1              0   \n",
       "\n",
       "   age_age_55_64  age_age_65_inf  age_unknown  income_income_0_20  \\\n",
       "0              0               0            0                   0   \n",
       "1              0               0            0                   0   \n",
       "2              0               0            0                   0   \n",
       "3              0               0            0                   0   \n",
       "4              0               0            0                   0   \n",
       "\n",
       "   income_income_150_inf  income_income_20_40  income_income_40_60  \\\n",
       "0                      0                    0                    0   \n",
       "1                      0                    1                    0   \n",
       "2                      0                    0                    1   \n",
       "3                      0                    1                    0   \n",
       "4                      0                    0                    0   \n",
       "\n",
       "   income_income_60_90  income_income_90_150  income_unknown  sex_unknown  \\\n",
       "0                    1                     0               0            0   \n",
       "1                    0                     0               0            0   \n",
       "2                    0                     0               0            0   \n",
       "3                    0                     0               0            0   \n",
       "4                    1                     0               0            0   \n",
       "\n",
       "   sex_Ж  sex_М  kids_flg_False  kids_flg_True  \n",
       "0      0      1               0              1  \n",
       "1      0      1               1              0  \n",
       "2      1      0               1              0  \n",
       "3      1      0               1              0  \n",
       "4      1      0               1              0  "
      ]
     },
     "execution_count": 38,
     "metadata": {},
     "output_type": "execute_result"
    }
   ],
   "source": [
    "user_cat_feats = [\"age\", \"income\", \"sex\", \"kids_flg\"]\n",
    "users_ohe = users.user_id\n",
    "for feat in user_cat_feats:\n",
    "    # получаем датафрейм с one-hot encoding для каждой категориальной фичи\n",
    "    ohe_feat = pd.get_dummies(users[feat], prefix=feat)\n",
    "    # конкатенируем ohe-hot датафрейм с датафреймом, \n",
    "    # который мы получили на предыдущем шаге\n",
    "    users_ohe = pd.concat([users_ohe, ohe_feat], axis=1)\n",
    "\n",
    "users_ohe.head()"
   ]
  },
  {
   "cell_type": "code",
   "execution_count": 39,
   "id": "7313b7e9-a23c-4d5d-9b83-ac51fa6a27be",
   "metadata": {},
   "outputs": [
    {
     "name": "stdout",
     "output_type": "stream",
     "text": [
      "Number user features: 19\n"
     ]
    }
   ],
   "source": [
    "print('Number user features:', len(users_ohe.columns)-1)"
   ]
  },
  {
   "cell_type": "code",
   "execution_count": 40,
   "id": "401e87d9-0998-418c-88a9-b1d20af621ea",
   "metadata": {},
   "outputs": [],
   "source": [
    "users_ohe[\"uid\"] = users_ohe[\"user_id\"].astype(\"category\")\n",
    "users_ohe[\"uid\"] = users_ohe[\"uid\"].cat.codes\n",
    "\n",
    "uid_to_user_id = users_ohe[[\"uid\", \"user_id\"]].to_dict()[\"user_id\"]\n",
    "user_id_to_uid = {v:k for k, v in zip(uid_to_user_id.keys(), uid_to_user_id.values())}\n",
    "\n",
    "users_ohe.drop(columns=[\"uid\"], inplace=True)"
   ]
  },
  {
   "cell_type": "code",
   "execution_count": 62,
   "id": "05d8a75c-2ee6-40a6-8012-430401e17e16",
   "metadata": {},
   "outputs": [],
   "source": [
    "# with open('user_id_to_uid.pkl', 'wb') as file:\n",
    "#     pickle.dump(user_id_to_uid, file)"
   ]
  },
  {
   "cell_type": "code",
   "execution_count": 63,
   "id": "19af0837-ce1c-43c7-8bbe-0a849846bf34",
   "metadata": {},
   "outputs": [],
   "source": [
    "# users_ohe.to_pickle('users_features_dssm.pkl')"
   ]
  },
  {
   "cell_type": "markdown",
   "id": "a27dcd81-ebf3-4ca3-af90-127f8ccfcee9",
   "metadata": {},
   "source": [
    "В качестве фичей айтемов были выбраны: тип контента, диапазон даты выхода, флаг \"для детей\", возрастной рейтинг, студия, страна, директор"
   ]
  },
  {
   "cell_type": "code",
   "execution_count": 64,
   "id": "5335e48f-af34-4598-9999-3b400e9afd32",
   "metadata": {},
   "outputs": [],
   "source": [
    "item_cat_feats = ['content_type', 'release_year_cat',\n",
    "                  'for_kids', 'age_rating', \n",
    "                  'studios', 'countries', 'directors']\n",
    "\n",
    "items_ohe = items.item_id\n",
    "\n",
    "for feat in item_cat_feats:\n",
    "    ohe_feat = pd.get_dummies(items[feat], prefix=feat)\n",
    "    items_ohe = pd.concat([items_ohe, ohe_feat], axis=1) "
   ]
  },
  {
   "cell_type": "markdown",
   "id": "9a84d0f2-51dc-432d-a702-8621ddf4d46e",
   "metadata": {},
   "source": [
    "А также подготовлены текстовые фичи из word2vec"
   ]
  },
  {
   "cell_type": "code",
   "execution_count": 65,
   "id": "d0845dfd-ef71-4a54-9701-22f2eed0d681",
   "metadata": {},
   "outputs": [],
   "source": [
    "wv = api.load('word2vec-ruscorpora-300')"
   ]
  },
  {
   "cell_type": "code",
   "execution_count": 66,
   "id": "c7e5c327-7b7b-4177-bf63-e360f435c0b8",
   "metadata": {},
   "outputs": [],
   "source": [
    "# убираем теги из словаря word2vec\n",
    "vectors = np.zeros((len(wv.index_to_key), wv.vector_size))\n",
    "new_index = 0\n",
    "word_to_index = {}\n",
    "for i, word_with_tag in enumerate(wv.index_to_key):\n",
    "    word, tag = word_with_tag.split('_')\n",
    "    if word not in word_to_index:\n",
    "        word_to_index[word] = new_index\n",
    "        new_index += 1\n",
    "        vectors[word_to_index[word]] = wv.vectors[i]\n",
    "wv.index_to_key = list(word_to_index.keys())\n",
    "wv.key_to_index = {word: index for index, word in enumerate(wv.index_to_key)}\n",
    "wv.vectors = vectors"
   ]
  },
  {
   "cell_type": "code",
   "execution_count": 67,
   "id": "70b5b06d-fa3c-4f6d-be78-c8f716a826c0",
   "metadata": {},
   "outputs": [],
   "source": [
    "# получаем вектора для айтемов как сумму их ключевых слов из word2vec\n",
    "embedding_matrix = np.zeros((items.shape[0], wv.vector_size))\n",
    "for i in range(items.shape[0]):\n",
    "    embedding_matrix[i] = wv.get_mean_vector(items.loc[i, 'keywords']).copy()"
   ]
  },
  {
   "cell_type": "code",
   "execution_count": 68,
   "id": "81a29c4e-c58d-4648-8f28-462b2db1cbb3",
   "metadata": {},
   "outputs": [],
   "source": [
    "items_ohe = pd.concat([items_ohe, pd.DataFrame(embedding_matrix).add_prefix('word2vec_')], axis=1) "
   ]
  },
  {
   "cell_type": "code",
   "execution_count": 69,
   "id": "bacd864a-f55f-47c0-92da-b8d653cca751",
   "metadata": {},
   "outputs": [
    {
     "data": {
      "text/html": [
       "<div>\n",
       "<style scoped>\n",
       "    .dataframe tbody tr th:only-of-type {\n",
       "        vertical-align: middle;\n",
       "    }\n",
       "\n",
       "    .dataframe tbody tr th {\n",
       "        vertical-align: top;\n",
       "    }\n",
       "\n",
       "    .dataframe thead th {\n",
       "        text-align: right;\n",
       "    }\n",
       "</style>\n",
       "<table border=\"1\" class=\"dataframe\">\n",
       "  <thead>\n",
       "    <tr style=\"text-align: right;\">\n",
       "      <th></th>\n",
       "      <th>item_id</th>\n",
       "      <th>content_type_film</th>\n",
       "      <th>content_type_series</th>\n",
       "      <th>release_year_cat_1920-1930</th>\n",
       "      <th>release_year_cat_1930-1940</th>\n",
       "      <th>release_year_cat_1940-1950</th>\n",
       "      <th>release_year_cat_1950-1960</th>\n",
       "      <th>release_year_cat_1960-1970</th>\n",
       "      <th>release_year_cat_1970-1980</th>\n",
       "      <th>release_year_cat_1980-1990</th>\n",
       "      <th>...</th>\n",
       "      <th>word2vec_290</th>\n",
       "      <th>word2vec_291</th>\n",
       "      <th>word2vec_292</th>\n",
       "      <th>word2vec_293</th>\n",
       "      <th>word2vec_294</th>\n",
       "      <th>word2vec_295</th>\n",
       "      <th>word2vec_296</th>\n",
       "      <th>word2vec_297</th>\n",
       "      <th>word2vec_298</th>\n",
       "      <th>word2vec_299</th>\n",
       "    </tr>\n",
       "  </thead>\n",
       "  <tbody>\n",
       "    <tr>\n",
       "      <th>0</th>\n",
       "      <td>10711</td>\n",
       "      <td>1</td>\n",
       "      <td>0</td>\n",
       "      <td>0</td>\n",
       "      <td>0</td>\n",
       "      <td>0</td>\n",
       "      <td>0</td>\n",
       "      <td>0</td>\n",
       "      <td>0</td>\n",
       "      <td>0</td>\n",
       "      <td>...</td>\n",
       "      <td>0.036104</td>\n",
       "      <td>0.030113</td>\n",
       "      <td>0.001830</td>\n",
       "      <td>0.026430</td>\n",
       "      <td>-0.009028</td>\n",
       "      <td>-0.000474</td>\n",
       "      <td>0.019233</td>\n",
       "      <td>0.063747</td>\n",
       "      <td>-0.010099</td>\n",
       "      <td>0.046014</td>\n",
       "    </tr>\n",
       "    <tr>\n",
       "      <th>1</th>\n",
       "      <td>2508</td>\n",
       "      <td>1</td>\n",
       "      <td>0</td>\n",
       "      <td>0</td>\n",
       "      <td>0</td>\n",
       "      <td>0</td>\n",
       "      <td>0</td>\n",
       "      <td>0</td>\n",
       "      <td>0</td>\n",
       "      <td>0</td>\n",
       "      <td>...</td>\n",
       "      <td>0.033976</td>\n",
       "      <td>0.034263</td>\n",
       "      <td>0.013838</td>\n",
       "      <td>0.015138</td>\n",
       "      <td>-0.033904</td>\n",
       "      <td>-0.045648</td>\n",
       "      <td>0.062685</td>\n",
       "      <td>0.065262</td>\n",
       "      <td>0.001389</td>\n",
       "      <td>0.030032</td>\n",
       "    </tr>\n",
       "    <tr>\n",
       "      <th>2</th>\n",
       "      <td>10716</td>\n",
       "      <td>1</td>\n",
       "      <td>0</td>\n",
       "      <td>0</td>\n",
       "      <td>0</td>\n",
       "      <td>0</td>\n",
       "      <td>0</td>\n",
       "      <td>0</td>\n",
       "      <td>0</td>\n",
       "      <td>0</td>\n",
       "      <td>...</td>\n",
       "      <td>0.030757</td>\n",
       "      <td>-0.003070</td>\n",
       "      <td>-0.017414</td>\n",
       "      <td>0.020658</td>\n",
       "      <td>-0.017720</td>\n",
       "      <td>-0.016413</td>\n",
       "      <td>0.050801</td>\n",
       "      <td>0.050227</td>\n",
       "      <td>-0.038631</td>\n",
       "      <td>-0.000711</td>\n",
       "    </tr>\n",
       "    <tr>\n",
       "      <th>3</th>\n",
       "      <td>7868</td>\n",
       "      <td>1</td>\n",
       "      <td>0</td>\n",
       "      <td>0</td>\n",
       "      <td>0</td>\n",
       "      <td>0</td>\n",
       "      <td>0</td>\n",
       "      <td>0</td>\n",
       "      <td>0</td>\n",
       "      <td>0</td>\n",
       "      <td>...</td>\n",
       "      <td>0.029124</td>\n",
       "      <td>0.004448</td>\n",
       "      <td>-0.011717</td>\n",
       "      <td>0.025576</td>\n",
       "      <td>-0.020309</td>\n",
       "      <td>-0.041174</td>\n",
       "      <td>0.029119</td>\n",
       "      <td>0.037307</td>\n",
       "      <td>0.003491</td>\n",
       "      <td>0.044989</td>\n",
       "    </tr>\n",
       "    <tr>\n",
       "      <th>4</th>\n",
       "      <td>16268</td>\n",
       "      <td>1</td>\n",
       "      <td>0</td>\n",
       "      <td>0</td>\n",
       "      <td>0</td>\n",
       "      <td>0</td>\n",
       "      <td>0</td>\n",
       "      <td>0</td>\n",
       "      <td>1</td>\n",
       "      <td>0</td>\n",
       "      <td>...</td>\n",
       "      <td>0.002734</td>\n",
       "      <td>-0.018169</td>\n",
       "      <td>-0.031675</td>\n",
       "      <td>0.007064</td>\n",
       "      <td>-0.011285</td>\n",
       "      <td>-0.038776</td>\n",
       "      <td>0.014847</td>\n",
       "      <td>0.058526</td>\n",
       "      <td>-0.033943</td>\n",
       "      <td>0.020064</td>\n",
       "    </tr>\n",
       "  </tbody>\n",
       "</table>\n",
       "<p>5 rows × 8889 columns</p>\n",
       "</div>"
      ],
      "text/plain": [
       "   item_id  content_type_film  content_type_series  \\\n",
       "0    10711                  1                    0   \n",
       "1     2508                  1                    0   \n",
       "2    10716                  1                    0   \n",
       "3     7868                  1                    0   \n",
       "4    16268                  1                    0   \n",
       "\n",
       "   release_year_cat_1920-1930  release_year_cat_1930-1940  \\\n",
       "0                           0                           0   \n",
       "1                           0                           0   \n",
       "2                           0                           0   \n",
       "3                           0                           0   \n",
       "4                           0                           0   \n",
       "\n",
       "   release_year_cat_1940-1950  release_year_cat_1950-1960  \\\n",
       "0                           0                           0   \n",
       "1                           0                           0   \n",
       "2                           0                           0   \n",
       "3                           0                           0   \n",
       "4                           0                           0   \n",
       "\n",
       "   release_year_cat_1960-1970  release_year_cat_1970-1980  \\\n",
       "0                           0                           0   \n",
       "1                           0                           0   \n",
       "2                           0                           0   \n",
       "3                           0                           0   \n",
       "4                           0                           1   \n",
       "\n",
       "   release_year_cat_1980-1990  ...  word2vec_290  word2vec_291  word2vec_292  \\\n",
       "0                           0  ...      0.036104      0.030113      0.001830   \n",
       "1                           0  ...      0.033976      0.034263      0.013838   \n",
       "2                           0  ...      0.030757     -0.003070     -0.017414   \n",
       "3                           0  ...      0.029124      0.004448     -0.011717   \n",
       "4                           0  ...      0.002734     -0.018169     -0.031675   \n",
       "\n",
       "   word2vec_293  word2vec_294  word2vec_295  word2vec_296  word2vec_297  \\\n",
       "0      0.026430     -0.009028     -0.000474      0.019233      0.063747   \n",
       "1      0.015138     -0.033904     -0.045648      0.062685      0.065262   \n",
       "2      0.020658     -0.017720     -0.016413      0.050801      0.050227   \n",
       "3      0.025576     -0.020309     -0.041174      0.029119      0.037307   \n",
       "4      0.007064     -0.011285     -0.038776      0.014847      0.058526   \n",
       "\n",
       "   word2vec_298  word2vec_299  \n",
       "0     -0.010099      0.046014  \n",
       "1      0.001389      0.030032  \n",
       "2     -0.038631     -0.000711  \n",
       "3      0.003491      0.044989  \n",
       "4     -0.033943      0.020064  \n",
       "\n",
       "[5 rows x 8889 columns]"
      ]
     },
     "execution_count": 69,
     "metadata": {},
     "output_type": "execute_result"
    }
   ],
   "source": [
    "items_ohe.head()"
   ]
  },
  {
   "cell_type": "code",
   "execution_count": 70,
   "id": "f3499345-3d91-4640-82d3-a20a3e16b18a",
   "metadata": {},
   "outputs": [],
   "source": [
    "del wv, vectors, embedding_matrix, word_to_index"
   ]
  },
  {
   "cell_type": "code",
   "execution_count": 71,
   "id": "51365eff-a39e-4254-a6dc-4c83ab492632",
   "metadata": {},
   "outputs": [
    {
     "name": "stdout",
     "output_type": "stream",
     "text": [
      "Number item features: 8888\n"
     ]
    }
   ],
   "source": [
    "print('Number item features:', len(items_ohe.columns)-1)"
   ]
  },
  {
   "cell_type": "markdown",
   "id": "097b0791-41cb-432f-b0ca-485aca997d08",
   "metadata": {},
   "source": [
    "# Фильтрация данных"
   ]
  },
  {
   "cell_type": "markdown",
   "id": "737983fd-e200-460a-b6fa-d3db1c70f0ef",
   "metadata": {},
   "source": [
    "В датасете взаимодействий есть непопулярные фильмы и малоактивные пользователи. Кроме того, в таблице взаимодействий есть события с низким качеством взаимодействия - когда юзер начал смотреть фильм, но вскоре после начала просмотра выключил.\n",
    "\n",
    "Отфильтруем такие события, малоактивных юзеров и непопулярные фильмы."
   ]
  },
  {
   "cell_type": "code",
   "execution_count": 72,
   "id": "1ae20412-ce01-4428-bb6f-de0797508857",
   "metadata": {},
   "outputs": [
    {
     "name": "stdout",
     "output_type": "stream",
     "text": [
      "N users before: 962179\n",
      "N items before: 15706\n",
      "\n",
      "N users after: 79515\n",
      "N items after: 9387\n"
     ]
    }
   ],
   "source": [
    "print(f\"N users before: {interactions.user_id.nunique()}\")\n",
    "print(f\"N items before: {interactions.item_id.nunique()}\\n\")\n",
    "\n",
    "# отфильтруем все события взаимодействий, в которых пользователь посмотрел\n",
    "# фильм менее чем на 10 процентов\n",
    "interactions = interactions[interactions.watched_pct > 10]\n",
    "\n",
    "# соберем всех пользователей, которые посмотрели \n",
    "# больше 10 фильмов\n",
    "valid_users = []\n",
    "\n",
    "c = Counter(interactions.user_id)\n",
    "for user_id, entries in c.most_common():\n",
    "    if entries > 10:\n",
    "        valid_users.append(user_id)\n",
    "\n",
    "# и соберем все фильмы, которые посмотрели больше 3 пользователей\n",
    "valid_items = []\n",
    "\n",
    "c = Counter(interactions.item_id)\n",
    "for item_id, entries in c.most_common():\n",
    "    if entries > 3:\n",
    "        valid_items.append(item_id)\n",
    "\n",
    "# отбросим непопулярные фильмы и неактивных юзеров\n",
    "interactions = interactions[interactions.user_id.isin(valid_users)]\n",
    "interactions = interactions[interactions.item_id.isin(valid_items)]\n",
    "\n",
    "print(f\"N users after: {interactions.user_id.nunique()}\")\n",
    "print(f\"N items after: {interactions.item_id.nunique()}\")"
   ]
  },
  {
   "cell_type": "markdown",
   "id": "2d9b1b8d-00f6-4824-b0f0-74cb82438f32",
   "metadata": {},
   "source": [
    "После фильтрации может получиться так, что некоторые айтемы/юзеры есть в датасете взаимодействий, но при этом они отсутствуют в датасетах айтемов/юзеров или наоборот. Поэтому найдем id айтемов и id юзеров, которые есть во всех датасетах и оставим только их."
   ]
  },
  {
   "cell_type": "code",
   "execution_count": 73,
   "id": "f6ec73c7-b9c5-4057-84e7-75a76c004a90",
   "metadata": {},
   "outputs": [
    {
     "name": "stdout",
     "output_type": "stream",
     "text": [
      "65974\n",
      "9293\n"
     ]
    }
   ],
   "source": [
    "common_users = set(interactions.user_id.unique()).intersection(set(users_ohe.user_id.unique()))\n",
    "\n",
    "interactions = interactions[interactions.user_id.isin(common_users)]\n",
    "users_ohe = users_ohe[users_ohe.user_id.isin(common_users)]\n",
    "\n",
    "common_items = set(interactions.item_id.unique()).intersection(set(items_ohe.item_id.unique()))\n",
    "\n",
    "interactions = interactions[interactions.item_id.isin(common_items)]\n",
    "items_ohe = items_ohe[items_ohe.item_id.isin(common_items)]\n",
    "\n",
    "print(len(common_users))\n",
    "print(len(common_items))"
   ]
  },
  {
   "cell_type": "markdown",
   "id": "408a0e4a-41a2-4205-8b0d-1b2b71bfd3ea",
   "metadata": {},
   "source": [
    "# Разделение данных"
   ]
  },
  {
   "cell_type": "markdown",
   "id": "5d6ded2f-2d87-4a3c-80e1-a74758ea09c4",
   "metadata": {},
   "source": [
    "Основная сложность в разделении данных заключается в сопоставлении индексов в train и test"
   ]
  },
  {
   "cell_type": "code",
   "execution_count": 74,
   "id": "48200183-1e92-4a97-87e6-3c4f83a1a42f",
   "metadata": {},
   "outputs": [
    {
     "name": "stdout",
     "output_type": "stream",
     "text": [
      "train: (1368251, 5)\n",
      "test: (103085, 5)\n",
      "hot test: (97278, 5)\n"
     ]
    }
   ],
   "source": [
    "max_date = interactions['last_watch_dt'].max()\n",
    "\n",
    "interactions_train = interactions[(interactions['last_watch_dt'] < max_date - pd.Timedelta(days=7))].copy()\n",
    "users_ohe_train = users_ohe[users_ohe['user_id'].isin(interactions_train['user_id'].unique())].copy()\n",
    "items_ohe_train = items_ohe[items_ohe['item_id'].isin(interactions_train['item_id'].unique())].copy()\n",
    "\n",
    "interactions_test = interactions[(interactions['last_watch_dt'] >= max_date - pd.Timedelta(days=7))].copy()\n",
    "\n",
    "# оставляем только теплых пользователей в тесте\n",
    "interactions_hot_test = interactions_test[(interactions_test['user_id'].isin(interactions_train['user_id'].unique())) & (interactions_test['item_id'].isin(interactions_train['item_id'].unique()))].copy()\n",
    "users_ohe_hot_test = users_ohe[users_ohe['user_id'].isin(interactions_hot_test['user_id'].unique())].copy()\n",
    "\n",
    "catalog = interactions_train['item_id'].unique()\n",
    "\n",
    "print(f\"train: {interactions_train.shape}\")\n",
    "print(f\"test: {interactions_test.shape}\")\n",
    "print(f\"hot test: {interactions_hot_test.shape}\")"
   ]
  },
  {
   "cell_type": "code",
   "execution_count": 75,
   "id": "0e754b38-2c2e-42ac-9f93-1861547c6693",
   "metadata": {},
   "outputs": [],
   "source": [
    "# items_ohe_train.to_pickle('items_features_dssm.pkl')"
   ]
  },
  {
   "cell_type": "code",
   "execution_count": 76,
   "id": "e11e341c-ffa5-4a14-9e65-feec23f46339",
   "metadata": {},
   "outputs": [],
   "source": [
    "del interactions, users_ohe, items_ohe"
   ]
  },
  {
   "cell_type": "markdown",
   "id": "4af1de0f-016e-42dd-ad25-a8247666d798",
   "metadata": {},
   "source": [
    "Соберем взаимодействия в матрицу user*item так, чтобы в строках этой матрицы были user_id, в столбцах - item_id, а на пересечениях строк и столбцов - единица, если пользователь взаимодействовал с айтемом и ноль, если нет.\n",
    "\n",
    "Такую матрицу удобно собирать в numpy array, однако нужно помнить, что numpy array индексируется порядковыми индексами, а нам же удобнее использовать item_id и user_id.\n",
    "\n",
    "Создадим внутренние индексы для user_id и item_id - uid и iid. Для этого просто соберем все user_id и item_id и пронумеруем их по порядку."
   ]
  },
  {
   "cell_type": "code",
   "execution_count": 77,
   "id": "ac8c3152-ec15-4ed5-92d5-d3d518b9d785",
   "metadata": {},
   "outputs": [
    {
     "name": "stdout",
     "output_type": "stream",
     "text": [
      "[0, 1, 2, 3, 4]\n",
      "[0, 1, 2, 3, 4]\n",
      "[0, 2, 3, 6, 7]\n",
      "[0, 1, 2, 3, 4]\n"
     ]
    }
   ],
   "source": [
    "interactions_train[\"uid\"] = interactions_train[\"user_id\"].astype(\"category\")\n",
    "interactions_train[\"uid\"] = interactions_train[\"uid\"].cat.codes\n",
    "\n",
    "interactions_hot_test[\"uid\"] = interactions_hot_test[\"user_id\"].astype(\"category\")\n",
    "interactions_hot_test[\"uid\"] = interactions_hot_test[\"uid\"].cat.codes\n",
    "\n",
    "interactions_train[\"iid\"] = interactions_train[\"item_id\"].astype(\"category\")\n",
    "interactions_train[\"iid\"] = interactions_train[\"iid\"].cat.codes\n",
    "\n",
    "mapping_iid = dict(zip(interactions_train['item_id'], interactions_train['iid']))\n",
    "interactions_hot_test['iid'] = interactions_hot_test['item_id'].map(mapping_iid)\n",
    "del mapping_iid\n",
    "\n",
    "print(sorted(interactions_train.iid.unique())[:5])\n",
    "print(sorted(interactions_train.uid.unique())[:5])\n",
    "print(sorted(interactions_hot_test.iid.unique())[:5])\n",
    "print(sorted(interactions_hot_test.uid.unique())[:5])"
   ]
  },
  {
   "cell_type": "code",
   "execution_count": 78,
   "id": "81ecce26-d739-4309-bfb0-57415a7851aa",
   "metadata": {},
   "outputs": [
    {
     "data": {
      "text/html": [
       "<div>\n",
       "<style scoped>\n",
       "    .dataframe tbody tr th:only-of-type {\n",
       "        vertical-align: middle;\n",
       "    }\n",
       "\n",
       "    .dataframe tbody tr th {\n",
       "        vertical-align: top;\n",
       "    }\n",
       "\n",
       "    .dataframe thead th {\n",
       "        text-align: right;\n",
       "    }\n",
       "</style>\n",
       "<table border=\"1\" class=\"dataframe\">\n",
       "  <thead>\n",
       "    <tr style=\"text-align: right;\">\n",
       "      <th></th>\n",
       "      <th>user_id</th>\n",
       "      <th>item_id</th>\n",
       "      <th>last_watch_dt</th>\n",
       "      <th>total_dur</th>\n",
       "      <th>watched_pct</th>\n",
       "      <th>uid</th>\n",
       "      <th>iid</th>\n",
       "    </tr>\n",
       "  </thead>\n",
       "  <tbody>\n",
       "    <tr>\n",
       "      <th>0</th>\n",
       "      <td>176549</td>\n",
       "      <td>9506</td>\n",
       "      <td>2021-05-11</td>\n",
       "      <td>4250</td>\n",
       "      <td>72</td>\n",
       "      <td>10562</td>\n",
       "      <td>5297</td>\n",
       "    </tr>\n",
       "    <tr>\n",
       "      <th>1</th>\n",
       "      <td>699317</td>\n",
       "      <td>1659</td>\n",
       "      <td>2021-05-29</td>\n",
       "      <td>8317</td>\n",
       "      <td>100</td>\n",
       "      <td>41956</td>\n",
       "      <td>927</td>\n",
       "    </tr>\n",
       "    <tr>\n",
       "      <th>6</th>\n",
       "      <td>1016458</td>\n",
       "      <td>354</td>\n",
       "      <td>2021-08-14</td>\n",
       "      <td>1672</td>\n",
       "      <td>25</td>\n",
       "      <td>60778</td>\n",
       "      <td>184</td>\n",
       "    </tr>\n",
       "    <tr>\n",
       "      <th>7</th>\n",
       "      <td>884009</td>\n",
       "      <td>693</td>\n",
       "      <td>2021-08-04</td>\n",
       "      <td>703</td>\n",
       "      <td>14</td>\n",
       "      <td>52930</td>\n",
       "      <td>376</td>\n",
       "    </tr>\n",
       "    <tr>\n",
       "      <th>14</th>\n",
       "      <td>5324</td>\n",
       "      <td>8437</td>\n",
       "      <td>2021-04-18</td>\n",
       "      <td>6598</td>\n",
       "      <td>92</td>\n",
       "      <td>309</td>\n",
       "      <td>4701</td>\n",
       "    </tr>\n",
       "  </tbody>\n",
       "</table>\n",
       "</div>"
      ],
      "text/plain": [
       "    user_id  item_id last_watch_dt  total_dur  watched_pct    uid   iid\n",
       "0    176549     9506    2021-05-11       4250           72  10562  5297\n",
       "1    699317     1659    2021-05-29       8317          100  41956   927\n",
       "6   1016458      354    2021-08-14       1672           25  60778   184\n",
       "7    884009      693    2021-08-04        703           14  52930   376\n",
       "14     5324     8437    2021-04-18       6598           92    309  4701"
      ]
     },
     "execution_count": 78,
     "metadata": {},
     "output_type": "execute_result"
    }
   ],
   "source": [
    "interactions_train.head()"
   ]
  },
  {
   "cell_type": "code",
   "execution_count": 79,
   "id": "4a4c2f26-e9a7-4f5b-bb27-59907120efa9",
   "metadata": {},
   "outputs": [
    {
     "data": {
      "text/html": [
       "<div>\n",
       "<style scoped>\n",
       "    .dataframe tbody tr th:only-of-type {\n",
       "        vertical-align: middle;\n",
       "    }\n",
       "\n",
       "    .dataframe tbody tr th {\n",
       "        vertical-align: top;\n",
       "    }\n",
       "\n",
       "    .dataframe thead th {\n",
       "        text-align: right;\n",
       "    }\n",
       "</style>\n",
       "<table border=\"1\" class=\"dataframe\">\n",
       "  <thead>\n",
       "    <tr style=\"text-align: right;\">\n",
       "      <th></th>\n",
       "      <th>user_id</th>\n",
       "      <th>item_id</th>\n",
       "      <th>last_watch_dt</th>\n",
       "      <th>total_dur</th>\n",
       "      <th>watched_pct</th>\n",
       "      <th>uid</th>\n",
       "      <th>iid</th>\n",
       "    </tr>\n",
       "  </thead>\n",
       "  <tbody>\n",
       "    <tr>\n",
       "      <th>64</th>\n",
       "      <td>73446</td>\n",
       "      <td>14488</td>\n",
       "      <td>2021-08-19</td>\n",
       "      <td>6011</td>\n",
       "      <td>100</td>\n",
       "      <td>1830</td>\n",
       "      <td>8093</td>\n",
       "    </tr>\n",
       "    <tr>\n",
       "      <th>141</th>\n",
       "      <td>626036</td>\n",
       "      <td>11109</td>\n",
       "      <td>2021-08-22</td>\n",
       "      <td>1323</td>\n",
       "      <td>19</td>\n",
       "      <td>15738</td>\n",
       "      <td>6189</td>\n",
       "    </tr>\n",
       "    <tr>\n",
       "      <th>225</th>\n",
       "      <td>45247</td>\n",
       "      <td>7135</td>\n",
       "      <td>2021-08-18</td>\n",
       "      <td>5229</td>\n",
       "      <td>83</td>\n",
       "      <td>1147</td>\n",
       "      <td>3987</td>\n",
       "    </tr>\n",
       "    <tr>\n",
       "      <th>360</th>\n",
       "      <td>962127</td>\n",
       "      <td>9617</td>\n",
       "      <td>2021-08-17</td>\n",
       "      <td>1910</td>\n",
       "      <td>23</td>\n",
       "      <td>24307</td>\n",
       "      <td>5354</td>\n",
       "    </tr>\n",
       "    <tr>\n",
       "      <th>366</th>\n",
       "      <td>217842</td>\n",
       "      <td>5680</td>\n",
       "      <td>2021-08-22</td>\n",
       "      <td>7494</td>\n",
       "      <td>100</td>\n",
       "      <td>5460</td>\n",
       "      <td>3175</td>\n",
       "    </tr>\n",
       "  </tbody>\n",
       "</table>\n",
       "</div>"
      ],
      "text/plain": [
       "     user_id  item_id last_watch_dt  total_dur  watched_pct    uid   iid\n",
       "64     73446    14488    2021-08-19       6011          100   1830  8093\n",
       "141   626036    11109    2021-08-22       1323           19  15738  6189\n",
       "225    45247     7135    2021-08-18       5229           83   1147  3987\n",
       "360   962127     9617    2021-08-17       1910           23  24307  5354\n",
       "366   217842     5680    2021-08-22       7494          100   5460  3175"
      ]
     },
     "execution_count": 79,
     "metadata": {},
     "output_type": "execute_result"
    }
   ],
   "source": [
    "interactions_hot_test.head()"
   ]
  },
  {
   "cell_type": "code",
   "execution_count": 80,
   "id": "b2e1d763-9e0f-4991-b6af-eac93424b445",
   "metadata": {},
   "outputs": [
    {
     "name": "stdout",
     "output_type": "stream",
     "text": [
      "9221\n",
      "9221\n",
      "65711\n",
      "65711\n",
      "27715\n",
      "27715\n",
      "set()\n"
     ]
    }
   ],
   "source": [
    "print(interactions_train.item_id.nunique())\n",
    "print(items_ohe_train.item_id.nunique())\n",
    "\n",
    "print(interactions_train.user_id.nunique())\n",
    "print(users_ohe_train.user_id.nunique())\n",
    "\n",
    "print(interactions_hot_test.user_id.nunique())\n",
    "print(users_ohe_hot_test.user_id.nunique())\n",
    "\n",
    "print(set(items_ohe_train.item_id.unique()) - set(interactions_train.item_id.unique()))"
   ]
  },
  {
   "cell_type": "markdown",
   "id": "2061398c-9cd6-40cf-8d1d-f240f5d3cff5",
   "metadata": {},
   "source": [
    "Для того, чтобы можно было удобно превратить iid/uid в item_id/user_id и наоборот соберем словари \n",
    "\n",
    "{iid: item_id}, {uid: user_id} и {item_id: iid}, {user_id: uid}."
   ]
  },
  {
   "cell_type": "code",
   "execution_count": 81,
   "id": "740cc7ab-1100-4ca7-aece-bbfb98507517",
   "metadata": {},
   "outputs": [],
   "source": [
    "iid_to_item_id_train = interactions_train[[\"iid\", \"item_id\"]].drop_duplicates().set_index(\"iid\").to_dict()[\"item_id\"]\n",
    "item_id_to_iid_train = interactions_train[[\"iid\", \"item_id\"]].drop_duplicates().set_index(\"item_id\").to_dict()[\"iid\"]\n",
    "\n",
    "uid_to_user_id_train = interactions_train[[\"uid\", \"user_id\"]].drop_duplicates().set_index(\"uid\").to_dict()[\"user_id\"]\n",
    "user_id_to_uid_train = interactions_train[[\"uid\", \"user_id\"]].drop_duplicates().set_index(\"user_id\").to_dict()[\"uid\"]\n",
    "\n",
    "uid_to_user_id_hot_test = interactions_hot_test[[\"uid\", \"user_id\"]].drop_duplicates().set_index(\"uid\").to_dict()[\"user_id\"]\n",
    "user_id_to_uid_hot_test = interactions_hot_test[[\"uid\", \"user_id\"]].drop_duplicates().set_index(\"user_id\").to_dict()[\"uid\"]"
   ]
  },
  {
   "cell_type": "code",
   "execution_count": 82,
   "id": "12678689-cade-4850-97cb-1bf21e207707",
   "metadata": {},
   "outputs": [],
   "source": [
    "# with open('iid_to_item_id.pkl', 'wb') as file:\n",
    "#     pickle.dump(iid_to_item_id_train, file)"
   ]
  },
  {
   "cell_type": "code",
   "execution_count": 83,
   "id": "94a1e43d-269d-460c-9105-5cbc48804efa",
   "metadata": {},
   "outputs": [],
   "source": [
    "# with open('item_id_to_iid.pkl', 'wb') as file:\n",
    "#     pickle.dump(item_id_to_iid_train, file)"
   ]
  },
  {
   "cell_type": "markdown",
   "id": "99169e62-6131-40e2-ad38-2b93ee5ec17f",
   "metadata": {},
   "source": [
    "И проиндексируем датасеты users_ohe и items_ohe по внутренним айди:"
   ]
  },
  {
   "cell_type": "code",
   "execution_count": 84,
   "id": "a0ca7d1a-21f3-4679-808f-7270e32261c4",
   "metadata": {},
   "outputs": [],
   "source": [
    "items_ohe_train[\"iid\"] = items_ohe_train[\"item_id\"].apply(lambda x: item_id_to_iid_train[x])\n",
    "items_ohe_train = items_ohe_train.set_index(\"iid\")\n",
    "\n",
    "users_ohe_train[\"uid\"] = users_ohe_train[\"user_id\"].apply(lambda x: user_id_to_uid_train[x])\n",
    "users_ohe_train = users_ohe_train.set_index(\"uid\")\n",
    "\n",
    "users_ohe_hot_test[\"uid\"] = users_ohe_hot_test[\"user_id\"].apply(lambda x: user_id_to_uid_hot_test[x])\n",
    "users_ohe_hot_test = users_ohe_hot_test.set_index(\"uid\")"
   ]
  },
  {
   "cell_type": "code",
   "execution_count": 85,
   "id": "40a45340-5d74-4901-b68d-186da1bc5112",
   "metadata": {},
   "outputs": [],
   "source": [
    "items_ohe_train.sort_index(inplace=True)\n",
    "users_ohe_train.sort_index(inplace=True)\n",
    "users_ohe_hot_test.sort_index(inplace=True)"
   ]
  },
  {
   "cell_type": "code",
   "execution_count": 86,
   "id": "3de26434-f443-462e-8547-2fd3c72ca670",
   "metadata": {},
   "outputs": [
    {
     "data": {
      "text/html": [
       "<div>\n",
       "<style scoped>\n",
       "    .dataframe tbody tr th:only-of-type {\n",
       "        vertical-align: middle;\n",
       "    }\n",
       "\n",
       "    .dataframe tbody tr th {\n",
       "        vertical-align: top;\n",
       "    }\n",
       "\n",
       "    .dataframe thead th {\n",
       "        text-align: right;\n",
       "    }\n",
       "</style>\n",
       "<table border=\"1\" class=\"dataframe\">\n",
       "  <thead>\n",
       "    <tr style=\"text-align: right;\">\n",
       "      <th></th>\n",
       "      <th>item_id</th>\n",
       "      <th>content_type_film</th>\n",
       "      <th>content_type_series</th>\n",
       "      <th>release_year_cat_1920-1930</th>\n",
       "      <th>release_year_cat_1930-1940</th>\n",
       "      <th>release_year_cat_1940-1950</th>\n",
       "      <th>release_year_cat_1950-1960</th>\n",
       "      <th>release_year_cat_1960-1970</th>\n",
       "      <th>release_year_cat_1970-1980</th>\n",
       "      <th>release_year_cat_1980-1990</th>\n",
       "      <th>...</th>\n",
       "      <th>word2vec_290</th>\n",
       "      <th>word2vec_291</th>\n",
       "      <th>word2vec_292</th>\n",
       "      <th>word2vec_293</th>\n",
       "      <th>word2vec_294</th>\n",
       "      <th>word2vec_295</th>\n",
       "      <th>word2vec_296</th>\n",
       "      <th>word2vec_297</th>\n",
       "      <th>word2vec_298</th>\n",
       "      <th>word2vec_299</th>\n",
       "    </tr>\n",
       "    <tr>\n",
       "      <th>iid</th>\n",
       "      <th></th>\n",
       "      <th></th>\n",
       "      <th></th>\n",
       "      <th></th>\n",
       "      <th></th>\n",
       "      <th></th>\n",
       "      <th></th>\n",
       "      <th></th>\n",
       "      <th></th>\n",
       "      <th></th>\n",
       "      <th></th>\n",
       "      <th></th>\n",
       "      <th></th>\n",
       "      <th></th>\n",
       "      <th></th>\n",
       "      <th></th>\n",
       "      <th></th>\n",
       "      <th></th>\n",
       "      <th></th>\n",
       "      <th></th>\n",
       "      <th></th>\n",
       "    </tr>\n",
       "  </thead>\n",
       "  <tbody>\n",
       "    <tr>\n",
       "      <th>0</th>\n",
       "      <td>0</td>\n",
       "      <td>0</td>\n",
       "      <td>1</td>\n",
       "      <td>0</td>\n",
       "      <td>0</td>\n",
       "      <td>0</td>\n",
       "      <td>0</td>\n",
       "      <td>0</td>\n",
       "      <td>0</td>\n",
       "      <td>0</td>\n",
       "      <td>...</td>\n",
       "      <td>0.010037</td>\n",
       "      <td>0.025415</td>\n",
       "      <td>0.005816</td>\n",
       "      <td>-0.003805</td>\n",
       "      <td>-0.005076</td>\n",
       "      <td>-0.032212</td>\n",
       "      <td>0.036976</td>\n",
       "      <td>0.024176</td>\n",
       "      <td>0.018876</td>\n",
       "      <td>0.036757</td>\n",
       "    </tr>\n",
       "    <tr>\n",
       "      <th>1</th>\n",
       "      <td>1</td>\n",
       "      <td>1</td>\n",
       "      <td>0</td>\n",
       "      <td>0</td>\n",
       "      <td>0</td>\n",
       "      <td>0</td>\n",
       "      <td>0</td>\n",
       "      <td>0</td>\n",
       "      <td>0</td>\n",
       "      <td>0</td>\n",
       "      <td>...</td>\n",
       "      <td>0.009541</td>\n",
       "      <td>0.051739</td>\n",
       "      <td>0.006029</td>\n",
       "      <td>0.016854</td>\n",
       "      <td>-0.051090</td>\n",
       "      <td>0.017357</td>\n",
       "      <td>0.021642</td>\n",
       "      <td>0.024663</td>\n",
       "      <td>-0.016797</td>\n",
       "      <td>0.035952</td>\n",
       "    </tr>\n",
       "    <tr>\n",
       "      <th>2</th>\n",
       "      <td>2</td>\n",
       "      <td>1</td>\n",
       "      <td>0</td>\n",
       "      <td>0</td>\n",
       "      <td>0</td>\n",
       "      <td>0</td>\n",
       "      <td>0</td>\n",
       "      <td>0</td>\n",
       "      <td>0</td>\n",
       "      <td>0</td>\n",
       "      <td>...</td>\n",
       "      <td>0.068823</td>\n",
       "      <td>0.019328</td>\n",
       "      <td>0.038019</td>\n",
       "      <td>-0.017185</td>\n",
       "      <td>-0.000445</td>\n",
       "      <td>0.003444</td>\n",
       "      <td>0.004976</td>\n",
       "      <td>0.021308</td>\n",
       "      <td>0.021809</td>\n",
       "      <td>0.056520</td>\n",
       "    </tr>\n",
       "    <tr>\n",
       "      <th>3</th>\n",
       "      <td>3</td>\n",
       "      <td>1</td>\n",
       "      <td>0</td>\n",
       "      <td>0</td>\n",
       "      <td>0</td>\n",
       "      <td>0</td>\n",
       "      <td>0</td>\n",
       "      <td>0</td>\n",
       "      <td>0</td>\n",
       "      <td>0</td>\n",
       "      <td>...</td>\n",
       "      <td>0.015820</td>\n",
       "      <td>0.013845</td>\n",
       "      <td>-0.010117</td>\n",
       "      <td>0.014662</td>\n",
       "      <td>-0.017577</td>\n",
       "      <td>-0.012337</td>\n",
       "      <td>0.007987</td>\n",
       "      <td>0.028970</td>\n",
       "      <td>-0.027093</td>\n",
       "      <td>0.020757</td>\n",
       "    </tr>\n",
       "    <tr>\n",
       "      <th>4</th>\n",
       "      <td>4</td>\n",
       "      <td>1</td>\n",
       "      <td>0</td>\n",
       "      <td>0</td>\n",
       "      <td>0</td>\n",
       "      <td>0</td>\n",
       "      <td>0</td>\n",
       "      <td>0</td>\n",
       "      <td>0</td>\n",
       "      <td>0</td>\n",
       "      <td>...</td>\n",
       "      <td>0.003355</td>\n",
       "      <td>0.009198</td>\n",
       "      <td>-0.004302</td>\n",
       "      <td>0.030392</td>\n",
       "      <td>-0.018730</td>\n",
       "      <td>-0.059582</td>\n",
       "      <td>0.027593</td>\n",
       "      <td>0.034496</td>\n",
       "      <td>0.018268</td>\n",
       "      <td>0.043874</td>\n",
       "    </tr>\n",
       "  </tbody>\n",
       "</table>\n",
       "<p>5 rows × 8889 columns</p>\n",
       "</div>"
      ],
      "text/plain": [
       "     item_id  content_type_film  content_type_series  \\\n",
       "iid                                                    \n",
       "0          0                  0                    1   \n",
       "1          1                  1                    0   \n",
       "2          2                  1                    0   \n",
       "3          3                  1                    0   \n",
       "4          4                  1                    0   \n",
       "\n",
       "     release_year_cat_1920-1930  release_year_cat_1930-1940  \\\n",
       "iid                                                           \n",
       "0                             0                           0   \n",
       "1                             0                           0   \n",
       "2                             0                           0   \n",
       "3                             0                           0   \n",
       "4                             0                           0   \n",
       "\n",
       "     release_year_cat_1940-1950  release_year_cat_1950-1960  \\\n",
       "iid                                                           \n",
       "0                             0                           0   \n",
       "1                             0                           0   \n",
       "2                             0                           0   \n",
       "3                             0                           0   \n",
       "4                             0                           0   \n",
       "\n",
       "     release_year_cat_1960-1970  release_year_cat_1970-1980  \\\n",
       "iid                                                           \n",
       "0                             0                           0   \n",
       "1                             0                           0   \n",
       "2                             0                           0   \n",
       "3                             0                           0   \n",
       "4                             0                           0   \n",
       "\n",
       "     release_year_cat_1980-1990  ...  word2vec_290  word2vec_291  \\\n",
       "iid                              ...                               \n",
       "0                             0  ...      0.010037      0.025415   \n",
       "1                             0  ...      0.009541      0.051739   \n",
       "2                             0  ...      0.068823      0.019328   \n",
       "3                             0  ...      0.015820      0.013845   \n",
       "4                             0  ...      0.003355      0.009198   \n",
       "\n",
       "     word2vec_292  word2vec_293  word2vec_294  word2vec_295  word2vec_296  \\\n",
       "iid                                                                         \n",
       "0        0.005816     -0.003805     -0.005076     -0.032212      0.036976   \n",
       "1        0.006029      0.016854     -0.051090      0.017357      0.021642   \n",
       "2        0.038019     -0.017185     -0.000445      0.003444      0.004976   \n",
       "3       -0.010117      0.014662     -0.017577     -0.012337      0.007987   \n",
       "4       -0.004302      0.030392     -0.018730     -0.059582      0.027593   \n",
       "\n",
       "     word2vec_297  word2vec_298  word2vec_299  \n",
       "iid                                            \n",
       "0        0.024176      0.018876      0.036757  \n",
       "1        0.024663     -0.016797      0.035952  \n",
       "2        0.021308      0.021809      0.056520  \n",
       "3        0.028970     -0.027093      0.020757  \n",
       "4        0.034496      0.018268      0.043874  \n",
       "\n",
       "[5 rows x 8889 columns]"
      ]
     },
     "execution_count": 86,
     "metadata": {},
     "output_type": "execute_result"
    }
   ],
   "source": [
    "items_ohe_train.head()"
   ]
  },
  {
   "cell_type": "code",
   "execution_count": 87,
   "id": "27429ec0-3657-4de4-adf2-0c9b47c67ce4",
   "metadata": {},
   "outputs": [
    {
     "data": {
      "text/html": [
       "<div>\n",
       "<style scoped>\n",
       "    .dataframe tbody tr th:only-of-type {\n",
       "        vertical-align: middle;\n",
       "    }\n",
       "\n",
       "    .dataframe tbody tr th {\n",
       "        vertical-align: top;\n",
       "    }\n",
       "\n",
       "    .dataframe thead th {\n",
       "        text-align: right;\n",
       "    }\n",
       "</style>\n",
       "<table border=\"1\" class=\"dataframe\">\n",
       "  <thead>\n",
       "    <tr style=\"text-align: right;\">\n",
       "      <th></th>\n",
       "      <th>user_id</th>\n",
       "      <th>age_age_18_24</th>\n",
       "      <th>age_age_25_34</th>\n",
       "      <th>age_age_35_44</th>\n",
       "      <th>age_age_45_54</th>\n",
       "      <th>age_age_55_64</th>\n",
       "      <th>age_age_65_inf</th>\n",
       "      <th>age_unknown</th>\n",
       "      <th>income_income_0_20</th>\n",
       "      <th>income_income_150_inf</th>\n",
       "      <th>income_income_20_40</th>\n",
       "      <th>income_income_40_60</th>\n",
       "      <th>income_income_60_90</th>\n",
       "      <th>income_income_90_150</th>\n",
       "      <th>income_unknown</th>\n",
       "      <th>sex_unknown</th>\n",
       "      <th>sex_Ж</th>\n",
       "      <th>sex_М</th>\n",
       "      <th>kids_flg_False</th>\n",
       "      <th>kids_flg_True</th>\n",
       "    </tr>\n",
       "    <tr>\n",
       "      <th>uid</th>\n",
       "      <th></th>\n",
       "      <th></th>\n",
       "      <th></th>\n",
       "      <th></th>\n",
       "      <th></th>\n",
       "      <th></th>\n",
       "      <th></th>\n",
       "      <th></th>\n",
       "      <th></th>\n",
       "      <th></th>\n",
       "      <th></th>\n",
       "      <th></th>\n",
       "      <th></th>\n",
       "      <th></th>\n",
       "      <th></th>\n",
       "      <th></th>\n",
       "      <th></th>\n",
       "      <th></th>\n",
       "      <th></th>\n",
       "      <th></th>\n",
       "    </tr>\n",
       "  </thead>\n",
       "  <tbody>\n",
       "    <tr>\n",
       "      <th>0</th>\n",
       "      <td>2</td>\n",
       "      <td>0</td>\n",
       "      <td>1</td>\n",
       "      <td>0</td>\n",
       "      <td>0</td>\n",
       "      <td>0</td>\n",
       "      <td>0</td>\n",
       "      <td>0</td>\n",
       "      <td>0</td>\n",
       "      <td>0</td>\n",
       "      <td>0</td>\n",
       "      <td>1</td>\n",
       "      <td>0</td>\n",
       "      <td>0</td>\n",
       "      <td>0</td>\n",
       "      <td>0</td>\n",
       "      <td>0</td>\n",
       "      <td>1</td>\n",
       "      <td>0</td>\n",
       "      <td>1</td>\n",
       "    </tr>\n",
       "    <tr>\n",
       "      <th>1</th>\n",
       "      <td>21</td>\n",
       "      <td>0</td>\n",
       "      <td>0</td>\n",
       "      <td>0</td>\n",
       "      <td>1</td>\n",
       "      <td>0</td>\n",
       "      <td>0</td>\n",
       "      <td>0</td>\n",
       "      <td>0</td>\n",
       "      <td>0</td>\n",
       "      <td>1</td>\n",
       "      <td>0</td>\n",
       "      <td>0</td>\n",
       "      <td>0</td>\n",
       "      <td>0</td>\n",
       "      <td>0</td>\n",
       "      <td>1</td>\n",
       "      <td>0</td>\n",
       "      <td>1</td>\n",
       "      <td>0</td>\n",
       "    </tr>\n",
       "    <tr>\n",
       "      <th>2</th>\n",
       "      <td>53</td>\n",
       "      <td>0</td>\n",
       "      <td>0</td>\n",
       "      <td>0</td>\n",
       "      <td>1</td>\n",
       "      <td>0</td>\n",
       "      <td>0</td>\n",
       "      <td>0</td>\n",
       "      <td>0</td>\n",
       "      <td>0</td>\n",
       "      <td>1</td>\n",
       "      <td>0</td>\n",
       "      <td>0</td>\n",
       "      <td>0</td>\n",
       "      <td>0</td>\n",
       "      <td>0</td>\n",
       "      <td>0</td>\n",
       "      <td>1</td>\n",
       "      <td>1</td>\n",
       "      <td>0</td>\n",
       "    </tr>\n",
       "    <tr>\n",
       "      <th>3</th>\n",
       "      <td>60</td>\n",
       "      <td>0</td>\n",
       "      <td>0</td>\n",
       "      <td>1</td>\n",
       "      <td>0</td>\n",
       "      <td>0</td>\n",
       "      <td>0</td>\n",
       "      <td>0</td>\n",
       "      <td>0</td>\n",
       "      <td>0</td>\n",
       "      <td>1</td>\n",
       "      <td>0</td>\n",
       "      <td>0</td>\n",
       "      <td>0</td>\n",
       "      <td>0</td>\n",
       "      <td>0</td>\n",
       "      <td>0</td>\n",
       "      <td>1</td>\n",
       "      <td>0</td>\n",
       "      <td>1</td>\n",
       "    </tr>\n",
       "    <tr>\n",
       "      <th>4</th>\n",
       "      <td>81</td>\n",
       "      <td>1</td>\n",
       "      <td>0</td>\n",
       "      <td>0</td>\n",
       "      <td>0</td>\n",
       "      <td>0</td>\n",
       "      <td>0</td>\n",
       "      <td>0</td>\n",
       "      <td>0</td>\n",
       "      <td>0</td>\n",
       "      <td>1</td>\n",
       "      <td>0</td>\n",
       "      <td>0</td>\n",
       "      <td>0</td>\n",
       "      <td>0</td>\n",
       "      <td>0</td>\n",
       "      <td>1</td>\n",
       "      <td>0</td>\n",
       "      <td>1</td>\n",
       "      <td>0</td>\n",
       "    </tr>\n",
       "  </tbody>\n",
       "</table>\n",
       "</div>"
      ],
      "text/plain": [
       "     user_id  age_age_18_24  age_age_25_34  age_age_35_44  age_age_45_54  \\\n",
       "uid                                                                        \n",
       "0          2              0              1              0              0   \n",
       "1         21              0              0              0              1   \n",
       "2         53              0              0              0              1   \n",
       "3         60              0              0              1              0   \n",
       "4         81              1              0              0              0   \n",
       "\n",
       "     age_age_55_64  age_age_65_inf  age_unknown  income_income_0_20  \\\n",
       "uid                                                                   \n",
       "0                0               0            0                   0   \n",
       "1                0               0            0                   0   \n",
       "2                0               0            0                   0   \n",
       "3                0               0            0                   0   \n",
       "4                0               0            0                   0   \n",
       "\n",
       "     income_income_150_inf  income_income_20_40  income_income_40_60  \\\n",
       "uid                                                                    \n",
       "0                        0                    0                    1   \n",
       "1                        0                    1                    0   \n",
       "2                        0                    1                    0   \n",
       "3                        0                    1                    0   \n",
       "4                        0                    1                    0   \n",
       "\n",
       "     income_income_60_90  income_income_90_150  income_unknown  sex_unknown  \\\n",
       "uid                                                                           \n",
       "0                      0                     0               0            0   \n",
       "1                      0                     0               0            0   \n",
       "2                      0                     0               0            0   \n",
       "3                      0                     0               0            0   \n",
       "4                      0                     0               0            0   \n",
       "\n",
       "     sex_Ж  sex_М  kids_flg_False  kids_flg_True  \n",
       "uid                                               \n",
       "0        0      1               0              1  \n",
       "1        1      0               1              0  \n",
       "2        0      1               1              0  \n",
       "3        0      1               0              1  \n",
       "4        1      0               1              0  "
      ]
     },
     "execution_count": 87,
     "metadata": {},
     "output_type": "execute_result"
    }
   ],
   "source": [
    "users_ohe_train.head()"
   ]
  },
  {
   "cell_type": "code",
   "execution_count": 88,
   "id": "5ab29c12-590e-4c2d-8c2f-24ee64aed465",
   "metadata": {},
   "outputs": [
    {
     "data": {
      "text/html": [
       "<div>\n",
       "<style scoped>\n",
       "    .dataframe tbody tr th:only-of-type {\n",
       "        vertical-align: middle;\n",
       "    }\n",
       "\n",
       "    .dataframe tbody tr th {\n",
       "        vertical-align: top;\n",
       "    }\n",
       "\n",
       "    .dataframe thead th {\n",
       "        text-align: right;\n",
       "    }\n",
       "</style>\n",
       "<table border=\"1\" class=\"dataframe\">\n",
       "  <thead>\n",
       "    <tr style=\"text-align: right;\">\n",
       "      <th></th>\n",
       "      <th>user_id</th>\n",
       "      <th>age_age_18_24</th>\n",
       "      <th>age_age_25_34</th>\n",
       "      <th>age_age_35_44</th>\n",
       "      <th>age_age_45_54</th>\n",
       "      <th>age_age_55_64</th>\n",
       "      <th>age_age_65_inf</th>\n",
       "      <th>age_unknown</th>\n",
       "      <th>income_income_0_20</th>\n",
       "      <th>income_income_150_inf</th>\n",
       "      <th>income_income_20_40</th>\n",
       "      <th>income_income_40_60</th>\n",
       "      <th>income_income_60_90</th>\n",
       "      <th>income_income_90_150</th>\n",
       "      <th>income_unknown</th>\n",
       "      <th>sex_unknown</th>\n",
       "      <th>sex_Ж</th>\n",
       "      <th>sex_М</th>\n",
       "      <th>kids_flg_False</th>\n",
       "      <th>kids_flg_True</th>\n",
       "    </tr>\n",
       "    <tr>\n",
       "      <th>uid</th>\n",
       "      <th></th>\n",
       "      <th></th>\n",
       "      <th></th>\n",
       "      <th></th>\n",
       "      <th></th>\n",
       "      <th></th>\n",
       "      <th></th>\n",
       "      <th></th>\n",
       "      <th></th>\n",
       "      <th></th>\n",
       "      <th></th>\n",
       "      <th></th>\n",
       "      <th></th>\n",
       "      <th></th>\n",
       "      <th></th>\n",
       "      <th></th>\n",
       "      <th></th>\n",
       "      <th></th>\n",
       "      <th></th>\n",
       "      <th></th>\n",
       "    </tr>\n",
       "  </thead>\n",
       "  <tbody>\n",
       "    <tr>\n",
       "      <th>0</th>\n",
       "      <td>21</td>\n",
       "      <td>0</td>\n",
       "      <td>0</td>\n",
       "      <td>0</td>\n",
       "      <td>1</td>\n",
       "      <td>0</td>\n",
       "      <td>0</td>\n",
       "      <td>0</td>\n",
       "      <td>0</td>\n",
       "      <td>0</td>\n",
       "      <td>1</td>\n",
       "      <td>0</td>\n",
       "      <td>0</td>\n",
       "      <td>0</td>\n",
       "      <td>0</td>\n",
       "      <td>0</td>\n",
       "      <td>1</td>\n",
       "      <td>0</td>\n",
       "      <td>1</td>\n",
       "      <td>0</td>\n",
       "    </tr>\n",
       "    <tr>\n",
       "      <th>1</th>\n",
       "      <td>53</td>\n",
       "      <td>0</td>\n",
       "      <td>0</td>\n",
       "      <td>0</td>\n",
       "      <td>1</td>\n",
       "      <td>0</td>\n",
       "      <td>0</td>\n",
       "      <td>0</td>\n",
       "      <td>0</td>\n",
       "      <td>0</td>\n",
       "      <td>1</td>\n",
       "      <td>0</td>\n",
       "      <td>0</td>\n",
       "      <td>0</td>\n",
       "      <td>0</td>\n",
       "      <td>0</td>\n",
       "      <td>0</td>\n",
       "      <td>1</td>\n",
       "      <td>1</td>\n",
       "      <td>0</td>\n",
       "    </tr>\n",
       "    <tr>\n",
       "      <th>2</th>\n",
       "      <td>241</td>\n",
       "      <td>0</td>\n",
       "      <td>1</td>\n",
       "      <td>0</td>\n",
       "      <td>0</td>\n",
       "      <td>0</td>\n",
       "      <td>0</td>\n",
       "      <td>0</td>\n",
       "      <td>0</td>\n",
       "      <td>0</td>\n",
       "      <td>0</td>\n",
       "      <td>1</td>\n",
       "      <td>0</td>\n",
       "      <td>0</td>\n",
       "      <td>0</td>\n",
       "      <td>0</td>\n",
       "      <td>1</td>\n",
       "      <td>0</td>\n",
       "      <td>1</td>\n",
       "      <td>0</td>\n",
       "    </tr>\n",
       "    <tr>\n",
       "      <th>3</th>\n",
       "      <td>321</td>\n",
       "      <td>0</td>\n",
       "      <td>0</td>\n",
       "      <td>0</td>\n",
       "      <td>1</td>\n",
       "      <td>0</td>\n",
       "      <td>0</td>\n",
       "      <td>0</td>\n",
       "      <td>0</td>\n",
       "      <td>0</td>\n",
       "      <td>0</td>\n",
       "      <td>1</td>\n",
       "      <td>0</td>\n",
       "      <td>0</td>\n",
       "      <td>0</td>\n",
       "      <td>0</td>\n",
       "      <td>0</td>\n",
       "      <td>1</td>\n",
       "      <td>1</td>\n",
       "      <td>0</td>\n",
       "    </tr>\n",
       "    <tr>\n",
       "      <th>4</th>\n",
       "      <td>322</td>\n",
       "      <td>0</td>\n",
       "      <td>0</td>\n",
       "      <td>1</td>\n",
       "      <td>0</td>\n",
       "      <td>0</td>\n",
       "      <td>0</td>\n",
       "      <td>0</td>\n",
       "      <td>0</td>\n",
       "      <td>0</td>\n",
       "      <td>0</td>\n",
       "      <td>0</td>\n",
       "      <td>0</td>\n",
       "      <td>1</td>\n",
       "      <td>0</td>\n",
       "      <td>0</td>\n",
       "      <td>0</td>\n",
       "      <td>1</td>\n",
       "      <td>1</td>\n",
       "      <td>0</td>\n",
       "    </tr>\n",
       "  </tbody>\n",
       "</table>\n",
       "</div>"
      ],
      "text/plain": [
       "     user_id  age_age_18_24  age_age_25_34  age_age_35_44  age_age_45_54  \\\n",
       "uid                                                                        \n",
       "0         21              0              0              0              1   \n",
       "1         53              0              0              0              1   \n",
       "2        241              0              1              0              0   \n",
       "3        321              0              0              0              1   \n",
       "4        322              0              0              1              0   \n",
       "\n",
       "     age_age_55_64  age_age_65_inf  age_unknown  income_income_0_20  \\\n",
       "uid                                                                   \n",
       "0                0               0            0                   0   \n",
       "1                0               0            0                   0   \n",
       "2                0               0            0                   0   \n",
       "3                0               0            0                   0   \n",
       "4                0               0            0                   0   \n",
       "\n",
       "     income_income_150_inf  income_income_20_40  income_income_40_60  \\\n",
       "uid                                                                    \n",
       "0                        0                    1                    0   \n",
       "1                        0                    1                    0   \n",
       "2                        0                    0                    1   \n",
       "3                        0                    0                    1   \n",
       "4                        0                    0                    0   \n",
       "\n",
       "     income_income_60_90  income_income_90_150  income_unknown  sex_unknown  \\\n",
       "uid                                                                           \n",
       "0                      0                     0               0            0   \n",
       "1                      0                     0               0            0   \n",
       "2                      0                     0               0            0   \n",
       "3                      0                     0               0            0   \n",
       "4                      0                     1               0            0   \n",
       "\n",
       "     sex_Ж  sex_М  kids_flg_False  kids_flg_True  \n",
       "uid                                               \n",
       "0        1      0               1              0  \n",
       "1        0      1               1              0  \n",
       "2        1      0               1              0  \n",
       "3        0      1               1              0  \n",
       "4        0      1               1              0  "
      ]
     },
     "execution_count": 88,
     "metadata": {},
     "output_type": "execute_result"
    }
   ],
   "source": [
    "users_ohe_hot_test.head()"
   ]
  },
  {
   "cell_type": "markdown",
   "id": "40fc389d-2521-4e49-b966-12a262f62d3b",
   "metadata": {},
   "source": [
    "## Использовать информацию о качестве взаимодействия юзеров с айтемами для более репрезентативного сэмплирования (пункт 1 задание 1) (3 балла)"
   ]
  },
  {
   "cell_type": "markdown",
   "id": "e23e3ecc-1aa9-451b-86e9-47befe3e4121",
   "metadata": {},
   "source": [
    "В качестве информации использовался процент просмотренного, таким образом более просмотренные айтемы имеют большую вероятность быть выбранными, но вычисление вероятностей замедлилось\n",
    "\n",
    "Также пробовал использовать количество просмотренных минут, результаты получились лучше, но создание вектора замедляется ещё в 2 раза"
   ]
  },
  {
   "cell_type": "code",
   "execution_count": 89,
   "id": "2e7d02eb-3f6a-4d44-8570-406ec19b0e1e",
   "metadata": {},
   "outputs": [
    {
     "name": "stdout",
     "output_type": "stream",
     "text": [
      "CPU times: total: 27.9 s\n",
      "Wall time: 29.5 s\n"
     ]
    }
   ],
   "source": [
    "%%time\n",
    "interactions_vec_train = np.zeros((interactions_train.uid.nunique(), \n",
    "                                   interactions_train.iid.nunique())) \n",
    "\n",
    "for i, (user_id, item_id) in enumerate(zip(interactions_train.uid, interactions_train.iid)):\n",
    "    # interactions_vec_train[user_id, item_id] += interactions_train.watched_pct.iat[i] * interactions_train.total_dur.iat[i]\n",
    "    interactions_vec_train[user_id, item_id] += interactions_train.watched_pct.iat[i]\n",
    "\n",
    "res = interactions_vec_train.sum(axis=1)\n",
    "for i in range(len(interactions_vec_train)):\n",
    "    interactions_vec_train[i] /= res[i]"
   ]
  },
  {
   "cell_type": "code",
   "execution_count": 90,
   "id": "6e506d26-12de-4ebb-b972-8ee054a8fa85",
   "metadata": {},
   "outputs": [
    {
     "name": "stdout",
     "output_type": "stream",
     "text": [
      "CPU times: total: 3.19 s\n",
      "Wall time: 3.5 s\n"
     ]
    }
   ],
   "source": [
    "%%time\n",
    "interactions_vec_hot_test = np.zeros((interactions_hot_test.uid.nunique(), \n",
    "                                      interactions_train.iid.nunique())) \n",
    "\n",
    "for i, (user_id, item_id) in enumerate(zip(interactions_hot_test.uid, interactions_hot_test.iid)):\n",
    "    # interactions_vec_hot_test[user_id, item_id] += interactions_hot_test.watched_pct.iat[i] * interactions_hot_test.total_dur.iat[i]\n",
    "    interactions_vec_hot_test[user_id, item_id] += interactions_hot_test.watched_pct.iat[i]\n",
    "\n",
    "res = interactions_vec_hot_test.sum(axis=1)\n",
    "for i in range(len(interactions_vec_hot_test)):\n",
    "    interactions_vec_hot_test[i] /= res[i]"
   ]
  },
  {
   "cell_type": "markdown",
   "id": "1b63b2ce-e80e-493d-8577-07a6a27d72ff",
   "metadata": {},
   "source": [
    "## Генератор и семплирование\n",
    "\n",
    "Сделаем простой генератор. Он будет брать рандромного юзера, и два разных айтема - хороший пример и плохой:\n",
    "- хорошим примером будет тот айтем, который был взят из датасета взаимодействий в соответствии с распределением просмотренных айтемов для этого юзера;\n",
    "- а плохим айтемом будет просто любой другой _случайный айтем_*\n"
   ]
  },
  {
   "cell_type": "code",
   "execution_count": 64,
   "id": "b7da8899-d291-4c71-8670-036bec5f0fa2",
   "metadata": {},
   "outputs": [],
   "source": [
    "def generator(items, users, interactions, batch_size=16):\n",
    "    while True:\n",
    "        uid_meta = []\n",
    "        uid_interaction = []\n",
    "        pos = []\n",
    "        neg = []\n",
    "        for _ in range(batch_size):\n",
    "            \n",
    "            # берем рандомный uid\n",
    "            uid_i = random.randint(0, interactions.shape[0]-1)\n",
    "            \n",
    "            # iid хорошего айтема\n",
    "            pos_i = np.random.choice(range(interactions.shape[1]), p=interactions[uid_i])\n",
    "            \n",
    "            # iid плохого айтема\n",
    "            neg_i = np.random.choice(range(interactions.shape[1]))\n",
    "            \n",
    "            # фичи юзера\n",
    "            uid_meta.append(users.loc[uid_i])\n",
    "            \n",
    "            # вектор айтемов, с которыми юзер взаимодействовал\n",
    "            uid_interaction.append(interactions[uid_i])\n",
    "            \n",
    "            # фичи хорошего айтема\n",
    "            pos.append(items.loc[pos_i])\n",
    "            \n",
    "            # фичи плохого айтема\n",
    "            neg.append(items.loc[neg_i])\n",
    "            \n",
    "        yield [np.array(uid_meta), np.array(uid_interaction), np.array(pos), np.array(neg)], [np.array(uid_meta), np.array(uid_interaction)]"
   ]
  },
  {
   "cell_type": "code",
   "execution_count": 65,
   "id": "33b3243c-7631-4b44-828e-ef873d446593",
   "metadata": {},
   "outputs": [
    {
     "name": "stdout",
     "output_type": "stream",
     "text": [
      "вектор фичей юзера: (2, 19)\n",
      "вектор взаимодействий юзера с айтемами: (2, 9221)\n",
      "вектор 'хорошего' айтема: (2, 8888)\n",
      "вектор 'плохого' айтема: (2, 8888)\n",
      "\n",
      "вектор фичей юзера: (2, 19)\n",
      "вектор взаимодействий юзера с айтемами: (2, 9221)\n"
     ]
    }
   ],
   "source": [
    "# инициализируем генератор\n",
    "gen = generator(items=items_ohe_train.drop([\"item_id\"], axis=1), \n",
    "                users=users_ohe_train.drop([\"user_id\"], axis=1), \n",
    "                interactions=interactions_vec_train,\n",
    "                batch_size=2)\n",
    "\n",
    "ret = next(gen)\n",
    "\n",
    "print(f\"вектор фичей юзера: {ret[0][0].shape}\")\n",
    "print(f\"вектор взаимодействий юзера с айтемами: {ret[0][1].shape}\")\n",
    "print(f\"вектор 'хорошего' айтема: {ret[0][2].shape}\")\n",
    "print(f\"вектор 'плохого' айтема: {ret[0][3].shape}\")\n",
    "print()\n",
    "print(f\"вектор фичей юзера: {ret[1][0].shape}\")\n",
    "print(f\"вектор взаимодействий юзера с айтемами: {ret[1][1].shape}\")\n",
    "del ret"
   ]
  },
  {
   "cell_type": "code",
   "execution_count": 91,
   "id": "ca3ec4f0-4bd6-481a-b9c6-60cf9a990f3b",
   "metadata": {},
   "outputs": [
    {
     "name": "stdout",
     "output_type": "stream",
     "text": [
      "N_FACTORS: 512\n",
      "ITEM_MODEL_SHAPE: (8888,)\n",
      "USER_META_MODEL_SHAPE: (19,)\n",
      "USER_INTERACTION_MODEL_SHAPE: (9221,)\n"
     ]
    }
   ],
   "source": [
    "N_FACTORS = 512\n",
    "\n",
    "# в датасетах есть столбец user_id/item_id, помним, что он не является фичей для обучения!\n",
    "ITEM_MODEL_SHAPE = (items_ohe_train.drop([\"item_id\"], axis=1).shape[1], ) \n",
    "USER_META_MODEL_SHAPE = (users_ohe_train.drop([\"user_id\"], axis=1).shape[1], )\n",
    "\n",
    "USER_INTERACTION_MODEL_SHAPE = (interactions_vec_train.shape[1], )\n",
    "\n",
    "print(f\"N_FACTORS: {N_FACTORS}\")\n",
    "print(f\"ITEM_MODEL_SHAPE: {ITEM_MODEL_SHAPE}\")\n",
    "print(f\"USER_META_MODEL_SHAPE: {USER_META_MODEL_SHAPE}\")\n",
    "print(f\"USER_INTERACTION_MODEL_SHAPE: {USER_INTERACTION_MODEL_SHAPE}\")"
   ]
  },
  {
   "cell_type": "markdown",
   "id": "397adc00-abf9-4c6e-9d54-3bc40b2c1e92",
   "metadata": {},
   "source": [
    "# Модель"
   ]
  },
  {
   "cell_type": "markdown",
   "id": "eba1b34f-1c58-42f0-aed4-68b8883bac5f",
   "metadata": {},
   "source": [
    "## Инициализация"
   ]
  },
  {
   "cell_type": "code",
   "execution_count": 92,
   "id": "2c1495aa-c93d-4da0-af3a-93744515b03b",
   "metadata": {},
   "outputs": [],
   "source": [
    "def triplet_loss(y_true, y_pred, n_dims=N_FACTORS, alpha=0.4):\n",
    "    # будем ожидать, что на вход функции прилетит три сконкатенированных \n",
    "    # вектора - вектор юзера и два вектора айтема\n",
    "    anchor = y_pred[:, 0:n_dims]\n",
    "    positive = y_pred[:, n_dims:n_dims*2]\n",
    "    negative = y_pred[:, n_dims*2:n_dims*3]\n",
    "\n",
    "    # считаем расстояния от вектора юзера до вектора хорошего айтема\n",
    "    pos_dist = K.sum(K.square(anchor - positive), axis=1)\n",
    "    # и до плохого\n",
    "    neg_dist = K.sum(K.square(anchor - negative), axis=1)\n",
    "\n",
    "    # считаем лосс\n",
    "    basic_loss = pos_dist - neg_dist + alpha\n",
    "    loss = K.maximum(basic_loss, 0.0) # возвращаем ноль, если лосс отрицательный\n",
    " \n",
    "    return loss"
   ]
  },
  {
   "cell_type": "code",
   "execution_count": 68,
   "id": "5e18f68c-7ebc-4c7a-ac7d-2ec05ed8ba42",
   "metadata": {},
   "outputs": [],
   "source": [
    "def item_model(n_factors=N_FACTORS):\n",
    "    # входной слой\n",
    "    inp = keras.layers.Input(shape=ITEM_MODEL_SHAPE)\n",
    "    \n",
    "    # полносвязный слой\n",
    "    layer_1 = keras.layers.Dense(N_FACTORS, activation='elu', use_bias=False,\n",
    "                                 kernel_regularizer=keras.regularizers.l2(1e-6),\n",
    "                                 activity_regularizer=keras.regularizers.l2(l2=1e-6))(inp)\n",
    "\n",
    "    # делаем residual connection - складываем два слоя, \n",
    "    # чтобы градиенты не затухали во время обучения\n",
    "    layer_2 = keras.layers.Dense(N_FACTORS, activation='elu', use_bias=False,\n",
    "                                 kernel_regularizer=keras.regularizers.l2(1e-6),\n",
    "                                 activity_regularizer=keras.regularizers.l2(l2=1e-6))(layer_1)\n",
    "    \n",
    "    add = keras.layers.Add()([layer_1, layer_2])\n",
    "    \n",
    "    # выходной слой\n",
    "    out = keras.layers.Dense(N_FACTORS, activation='linear', use_bias=False,\n",
    "                             kernel_regularizer=keras.regularizers.l2(1e-6),\n",
    "                             activity_regularizer=keras.regularizers.l2(l2=1e-6))(add)\n",
    "    \n",
    "    return keras.models.Model(inp, out)\n",
    "\n",
    "\n",
    "def user_model(n_factors=N_FACTORS):\n",
    "    \n",
    "    # входной слой для вектора фичей юзера (из users_ohe)\n",
    "    inp_meta = keras.layers.Input(shape=USER_META_MODEL_SHAPE)\n",
    "    \n",
    "    # входной слой для вектора просмотров (из iteractions_vec)\n",
    "    inp_interaction = keras.layers.Input(shape=USER_INTERACTION_MODEL_SHAPE)\n",
    "\n",
    "    # полносвязный слой\n",
    "    layer_1_meta = keras.layers.Dense(N_FACTORS, activation='elu', use_bias=False,\n",
    "                                 kernel_regularizer=keras.regularizers.l2(1e-6),\n",
    "                                 activity_regularizer=keras.regularizers.l2(l2=1e-6))(inp_meta)\n",
    "\n",
    "    layer_1_interaction = keras.layers.Dense(N_FACTORS, activation='elu', use_bias=False,\n",
    "                                 kernel_regularizer=keras.regularizers.l2(1e-6),\n",
    "                                 activity_regularizer=keras.regularizers.l2(l2=1e-6))(inp_interaction)\n",
    "\n",
    "    # делаем residual connection - складываем два слоя,\n",
    "    # чтобы градиенты не затухали во время обучения\n",
    "    layer_2_meta = keras.layers.Dense(N_FACTORS, activation='elu', use_bias=False,\n",
    "                                 kernel_regularizer=keras.regularizers.l2(1e-6),\n",
    "                                 activity_regularizer=keras.regularizers.l2(l2=1e-6))(layer_1_meta)\n",
    "    \n",
    "\n",
    "    add = keras.layers.Add()([layer_1_meta, layer_2_meta])\n",
    "    \n",
    "    # конкатенируем вектор фичей с вектором просмотров\n",
    "    concat_meta_interaction = keras.layers.Concatenate()([add, layer_1_interaction])\n",
    "    \n",
    "    # выходной слой\n",
    "    out = keras.layers.Dense(N_FACTORS, activation='linear', use_bias=False,\n",
    "                             kernel_regularizer=keras.regularizers.l2(1e-6),\n",
    "                             activity_regularizer=keras.regularizers.l2(l2=1e-6))(concat_meta_interaction)\n",
    "    \n",
    "    return keras.models.Model([inp_meta, inp_interaction], out)"
   ]
  },
  {
   "cell_type": "code",
   "execution_count": 69,
   "id": "dbb7e085-8196-4907-9944-953c5e9b0923",
   "metadata": {},
   "outputs": [],
   "source": [
    "# инициализируем модели юзера и айтема\n",
    "i2v = item_model()\n",
    "u2v = user_model()\n",
    "\n",
    "# вход для вектора фичей юзера (из users_ohe)\n",
    "ancor_meta_in = keras.layers.Input(shape=USER_META_MODEL_SHAPE)\n",
    "\n",
    "# вход для вектора просмотра юзера (из interactions_vec)\n",
    "ancor_interaction_in = keras.layers.Input(shape=USER_INTERACTION_MODEL_SHAPE)\n",
    "\n",
    "# вход для вектора \"хорошего\" айтема\n",
    "pos_in = keras.layers.Input(shape=ITEM_MODEL_SHAPE)\n",
    "\n",
    "# вход для вектора \"плохого\" айтема\n",
    "neg_in = keras.layers.Input(shape=ITEM_MODEL_SHAPE)\n",
    "\n",
    "# получаем вектор юзера\n",
    "ancor = u2v([ancor_meta_in, ancor_interaction_in]) # model_1\n",
    "\n",
    "# получаем вектор \"хорошего\" айтема\n",
    "pos = i2v(pos_in) # model\n",
    "\n",
    "# получаем вектор \"плохого\" айтема\n",
    "neg = i2v(neg_in) # model\n",
    "\n",
    "# конкатенируем полученные векторы\n",
    "res = keras.layers.Concatenate(name=\"concat_ancor_pos_neg\")([ancor, pos, neg])\n",
    "\n",
    "# собираем модель\n",
    "model = keras.models.Model([ancor_meta_in, ancor_interaction_in, pos_in, neg_in], res)"
   ]
  },
  {
   "cell_type": "code",
   "execution_count": 70,
   "id": "7c8499b9-1829-4dbe-802a-bea6c5a8167e",
   "metadata": {},
   "outputs": [],
   "source": [
    "model_name = 'recsys_resnet_linear'\n",
    "\n",
    "# логируем процесс обучения в тензорборд\n",
    "t_board = keras.callbacks.TensorBoard(log_dir=f'runs/{model_name}')\n",
    "\n",
    "# уменьшаем learning_rate, если лосс долго не уменьшается (в течение двух эпох)\n",
    "decay = keras.callbacks.ReduceLROnPlateau(monitor='loss', patience=2, factor=0.8, verbose=1)\n",
    "\n",
    "# сохраняем модель после каждой эпохи, если лосс уменьшился\n",
    "check = keras.callbacks.ModelCheckpoint(filepath=model_name+'.h5', monitor=\"loss\")"
   ]
  },
  {
   "cell_type": "code",
   "execution_count": 71,
   "id": "332c72fc-e05c-4a12-b1d2-91ccc94bf2d4",
   "metadata": {},
   "outputs": [],
   "source": [
    "# компилируем модель, используем оптимайзер Adam и triplet loss\n",
    "opt = keras.optimizers.Adam(learning_rate=0.001)\n",
    "model.compile(loss=triplet_loss, optimizer=opt)"
   ]
  },
  {
   "cell_type": "code",
   "execution_count": 72,
   "id": "461926ff-180e-436c-b5e5-9a48467bbd7e",
   "metadata": {},
   "outputs": [
    {
     "name": "stdout",
     "output_type": "stream",
     "text": [
      "Model: \"model_3\"\n",
      "__________________________________________________________________________________________________\n",
      " Layer (type)                Output Shape                 Param #   Connected to                  \n",
      "==================================================================================================\n",
      " input_8 (InputLayer)        [(None, 8888)]               0         []                            \n",
      "                                                                                                  \n",
      " dense_7 (Dense)             (None, 512)                  4550656   ['input_8[0][0]']             \n",
      "                                                                                                  \n",
      " dense_8 (Dense)             (None, 512)                  262144    ['dense_7[0][0]']             \n",
      "                                                                                                  \n",
      " add_2 (Add)                 (None, 512)                  0         ['dense_7[0][0]',             \n",
      "                                                                     'dense_8[0][0]']             \n",
      "                                                                                                  \n",
      " dense_9 (Dense)             (None, 512)                  262144    ['add_2[0][0]']               \n",
      "                                                                                                  \n",
      "==================================================================================================\n",
      "Total params: 5074944 (19.36 MB)\n",
      "Trainable params: 5074944 (19.36 MB)\n",
      "Non-trainable params: 0 (0.00 Byte)\n",
      "__________________________________________________________________________________________________\n"
     ]
    }
   ],
   "source": [
    "# модель айтема\n",
    "item_model().summary()"
   ]
  },
  {
   "cell_type": "code",
   "execution_count": 73,
   "id": "50e188f0-76f5-4ba4-bff8-424d07342e60",
   "metadata": {},
   "outputs": [
    {
     "name": "stdout",
     "output_type": "stream",
     "text": [
      "Model: \"model_4\"\n",
      "__________________________________________________________________________________________________\n",
      " Layer (type)                Output Shape                 Param #   Connected to                  \n",
      "==================================================================================================\n",
      " input_9 (InputLayer)        [(None, 19)]                 0         []                            \n",
      "                                                                                                  \n",
      " dense_10 (Dense)            (None, 512)                  9728      ['input_9[0][0]']             \n",
      "                                                                                                  \n",
      " dense_12 (Dense)            (None, 512)                  262144    ['dense_10[0][0]']            \n",
      "                                                                                                  \n",
      " input_10 (InputLayer)       [(None, 9221)]               0         []                            \n",
      "                                                                                                  \n",
      " add_3 (Add)                 (None, 512)                  0         ['dense_10[0][0]',            \n",
      "                                                                     'dense_12[0][0]']            \n",
      "                                                                                                  \n",
      " dense_11 (Dense)            (None, 512)                  4721152   ['input_10[0][0]']            \n",
      "                                                                                                  \n",
      " concatenate_1 (Concatenate  (None, 1024)                 0         ['add_3[0][0]',               \n",
      " )                                                                   'dense_11[0][0]']            \n",
      "                                                                                                  \n",
      " dense_13 (Dense)            (None, 512)                  524288    ['concatenate_1[0][0]']       \n",
      "                                                                                                  \n",
      "==================================================================================================\n",
      "Total params: 5517312 (21.05 MB)\n",
      "Trainable params: 5517312 (21.05 MB)\n",
      "Non-trainable params: 0 (0.00 Byte)\n",
      "__________________________________________________________________________________________________\n"
     ]
    }
   ],
   "source": [
    "# модель юзера\n",
    "user_model().summary()"
   ]
  },
  {
   "cell_type": "code",
   "execution_count": 74,
   "id": "c937b02c-e2fa-4705-a3d4-de17574ecbf2",
   "metadata": {},
   "outputs": [
    {
     "name": "stdout",
     "output_type": "stream",
     "text": [
      "Model: \"model_2\"\n",
      "__________________________________________________________________________________________________\n",
      " Layer (type)                Output Shape                 Param #   Connected to                  \n",
      "==================================================================================================\n",
      " input_4 (InputLayer)        [(None, 19)]                 0         []                            \n",
      "                                                                                                  \n",
      " input_5 (InputLayer)        [(None, 9221)]               0         []                            \n",
      "                                                                                                  \n",
      " input_6 (InputLayer)        [(None, 8888)]               0         []                            \n",
      "                                                                                                  \n",
      " input_7 (InputLayer)        [(None, 8888)]               0         []                            \n",
      "                                                                                                  \n",
      " model_1 (Functional)        (None, 512)                  5517312   ['input_4[0][0]',             \n",
      "                                                                     'input_5[0][0]']             \n",
      "                                                                                                  \n",
      " model (Functional)          (None, 512)                  5074944   ['input_6[0][0]',             \n",
      "                                                                     'input_7[0][0]']             \n",
      "                                                                                                  \n",
      " concat_ancor_pos_neg (Conc  (None, 1536)                 0         ['model_1[0][0]',             \n",
      " atenate)                                                            'model[0][0]',               \n",
      "                                                                     'model[1][0]']               \n",
      "                                                                                                  \n",
      "==================================================================================================\n",
      "Total params: 10592256 (40.41 MB)\n",
      "Trainable params: 10592256 (40.41 MB)\n",
      "Non-trainable params: 0 (0.00 Byte)\n",
      "__________________________________________________________________________________________________\n"
     ]
    }
   ],
   "source": [
    "# общая модель\n",
    "model.summary()"
   ]
  },
  {
   "cell_type": "markdown",
   "id": "93043890-8b7b-4aa1-968a-df2649b2ae98",
   "metadata": {},
   "source": [
    "## Обучение"
   ]
  },
  {
   "cell_type": "code",
   "execution_count": 75,
   "id": "9c2867cf-295d-4f7b-b471-26616f4f0566",
   "metadata": {},
   "outputs": [
    {
     "name": "stdout",
     "output_type": "stream",
     "text": [
      "Epoch 1/30\n",
      "100/100 [==============================] - ETA: 0s - loss: 0.3303"
     ]
    },
    {
     "name": "stderr",
     "output_type": "stream",
     "text": [
      "C:\\Users\\BIT\\.conda\\envs\\RecSys\\lib\\site-packages\\keras\\src\\engine\\training.py:3000: UserWarning: You are saving your model as an HDF5 file via `model.save()`. This file format is considered legacy. We recommend using instead the native Keras format, e.g. `model.save('my_model.keras')`.\n",
      "  saving_api.save_model(\n"
     ]
    },
    {
     "name": "stdout",
     "output_type": "stream",
     "text": [
      "100/100 [==============================] - 109s 1s/step - loss: 0.3303 - lr: 0.0010\n",
      "Epoch 2/30\n",
      "100/100 [==============================] - 109s 1s/step - loss: 0.2241 - lr: 0.0010\n",
      "Epoch 3/30\n",
      "100/100 [==============================] - 109s 1s/step - loss: 0.2101 - lr: 0.0010\n",
      "Epoch 4/30\n",
      "100/100 [==============================] - 108s 1s/step - loss: 0.1878 - lr: 0.0010\n",
      "Epoch 5/30\n",
      "100/100 [==============================] - 110s 1s/step - loss: 0.1711 - lr: 0.0010\n",
      "Epoch 6/30\n",
      "100/100 [==============================] - 111s 1s/step - loss: 0.1878 - lr: 0.0010\n",
      "Epoch 7/30\n",
      "100/100 [==============================] - 107s 1s/step - loss: 0.1695 - lr: 0.0010\n",
      "Epoch 8/30\n",
      "100/100 [==============================] - 106s 1s/step - loss: 0.1705 - lr: 0.0010\n",
      "Epoch 9/30\n",
      "100/100 [==============================] - 104s 1s/step - loss: 0.1598 - lr: 0.0010\n",
      "Epoch 10/30\n",
      "100/100 [==============================] - 104s 1s/step - loss: 0.1621 - lr: 0.0010\n",
      "Epoch 11/30\n",
      "100/100 [==============================] - 108s 1s/step - loss: 0.1557 - lr: 0.0010\n",
      "Epoch 12/30\n",
      "100/100 [==============================] - 108s 1s/step - loss: 0.1474 - lr: 0.0010\n",
      "Epoch 13/30\n",
      "100/100 [==============================] - 106s 1s/step - loss: 0.1468 - lr: 0.0010\n",
      "Epoch 14/30\n",
      "100/100 [==============================] - 105s 1s/step - loss: 0.1430 - lr: 0.0010\n",
      "Epoch 15/30\n",
      "100/100 [==============================] - 106s 1s/step - loss: 0.1506 - lr: 0.0010\n",
      "Epoch 16/30\n",
      "100/100 [==============================] - 105s 1s/step - loss: 0.1386 - lr: 0.0010\n",
      "Epoch 17/30\n",
      "100/100 [==============================] - 108s 1s/step - loss: 0.1445 - lr: 0.0010\n",
      "Epoch 18/30\n",
      "100/100 [==============================] - ETA: 0s - loss: 0.1408\n",
      "Epoch 18: ReduceLROnPlateau reducing learning rate to 0.000800000037997961.\n",
      "100/100 [==============================] - 108s 1s/step - loss: 0.1408 - lr: 0.0010\n",
      "Epoch 19/30\n",
      "100/100 [==============================] - 104s 1s/step - loss: 0.1247 - lr: 8.0000e-04\n",
      "Epoch 20/30\n",
      "100/100 [==============================] - 104s 1s/step - loss: 0.1167 - lr: 8.0000e-04\n",
      "Epoch 21/30\n",
      "100/100 [==============================] - 106s 1s/step - loss: 0.1130 - lr: 8.0000e-04\n",
      "Epoch 22/30\n",
      "100/100 [==============================] - 105s 1s/step - loss: 0.1134 - lr: 8.0000e-04\n",
      "Epoch 23/30\n",
      "100/100 [==============================] - 105s 1s/step - loss: 0.1113 - lr: 8.0000e-04\n",
      "Epoch 24/30\n",
      "100/100 [==============================] - 112s 1s/step - loss: 0.1117 - lr: 8.0000e-04\n",
      "Epoch 25/30\n",
      "100/100 [==============================] - 116s 1s/step - loss: 0.1087 - lr: 8.0000e-04\n",
      "Epoch 26/30\n",
      "100/100 [==============================] - 110s 1s/step - loss: 0.1147 - lr: 8.0000e-04\n",
      "Epoch 27/30\n",
      "100/100 [==============================] - ETA: 0s - loss: 0.1118\n",
      "Epoch 27: ReduceLROnPlateau reducing learning rate to 0.0006400000303983689.\n",
      "100/100 [==============================] - 109s 1s/step - loss: 0.1118 - lr: 8.0000e-04\n",
      "Epoch 28/30\n",
      "100/100 [==============================] - 108s 1s/step - loss: 0.0984 - lr: 6.4000e-04\n",
      "Epoch 29/30\n",
      "100/100 [==============================] - 109s 1s/step - loss: 0.0964 - lr: 6.4000e-04\n",
      "Epoch 30/30\n",
      "100/100 [==============================] - 111s 1s/step - loss: 0.0952 - lr: 6.4000e-04\n"
     ]
    },
    {
     "data": {
      "text/plain": [
       "<keras.src.callbacks.History at 0x24d89d9eac0>"
      ]
     },
     "execution_count": 75,
     "metadata": {},
     "output_type": "execute_result"
    }
   ],
   "source": [
    "# начинаем обучение, не забывая дропнуть столбцы item_id и user_id \n",
    "# из датафреймов при инициализации генератора.\n",
    "\n",
    "# batch_size можно (и лучше) поставить побольше, если вы не органичены в ресурсах\n",
    "\n",
    "model.fit(generator(items=items_ohe_train.drop([\"item_id\"], axis=1), \n",
    "                    users=users_ohe_train.drop([\"user_id\"], axis=1), \n",
    "                    interactions=interactions_vec_train,\n",
    "                    batch_size=64), \n",
    "          steps_per_epoch=100,\n",
    "          epochs=30,\n",
    "          initial_epoch=0,\n",
    "          callbacks=[decay, t_board, check]\n",
    ")"
   ]
  },
  {
   "cell_type": "markdown",
   "id": "a70f7bfd-e7f2-4393-9350-c86f59ab9d99",
   "metadata": {},
   "source": [
    "# Загрузка модели"
   ]
  },
  {
   "cell_type": "code",
   "execution_count": 93,
   "id": "8fee051a-a3ca-4c85-b53a-ccac50c48b63",
   "metadata": {},
   "outputs": [],
   "source": [
    "save_model = keras.models.load_model(filepath=\"recsys_resnet_linear.h5\", custom_objects={'triplet_loss': triplet_loss})"
   ]
  },
  {
   "cell_type": "code",
   "execution_count": 94,
   "id": "2f75ea54-e494-4c43-86df-fd07a88e99ba",
   "metadata": {},
   "outputs": [],
   "source": [
    "u2v = save_model.get_layer('model_1')"
   ]
  },
  {
   "cell_type": "code",
   "execution_count": 95,
   "id": "4831f2d9-6f03-4592-a3ab-d7bba6c0a78e",
   "metadata": {},
   "outputs": [],
   "source": [
    "i2v = save_model.get_layer('model')"
   ]
  },
  {
   "cell_type": "markdown",
   "id": "af5fd2c3-27db-404c-9464-9d9b517ea505",
   "metadata": {},
   "source": [
    "## Инференс на тёплых пользователях"
   ]
  },
  {
   "cell_type": "code",
   "execution_count": 96,
   "id": "bb25a83f-3ace-4a4b-9f4a-50bdf96d9366",
   "metadata": {},
   "outputs": [],
   "source": [
    "# получаем фичи всех айтемов\n",
    "items_feats_hot_test = items_ohe_train.drop([\"item_id\"], axis=1).to_numpy()"
   ]
  },
  {
   "cell_type": "code",
   "execution_count": 97,
   "id": "6d965ee6-5f35-4357-9990-d8d62b3629c3",
   "metadata": {},
   "outputs": [
    {
     "name": "stdout",
     "output_type": "stream",
     "text": [
      "289/289 [==============================] - 2s 6ms/step\n"
     ]
    }
   ],
   "source": [
    "# получаем векторы всех айтемов\n",
    "items_vecs_hot_test = i2v.predict(items_feats_hot_test)"
   ]
  },
  {
   "cell_type": "code",
   "execution_count": 98,
   "id": "31ecca33-5084-4a37-82a2-7ddfdfe4b205",
   "metadata": {},
   "outputs": [],
   "source": [
    "# получаем фичи всех юзеров\n",
    "users_meta_feats_hot_test = users_ohe_hot_test.drop([\"user_id\"], axis=1).to_numpy()\n",
    "\n",
    "# получаем интеракции из train всех юзеров из hot_test\n",
    "interactions_vec_inference = interactions_vec_train[users_ohe_hot_test.index.map(uid_to_user_id_hot_test).map(user_id_to_uid_train)].copy()"
   ]
  },
  {
   "cell_type": "code",
   "execution_count": 99,
   "id": "f4df648c-b0d1-4c97-a897-41121969df77",
   "metadata": {},
   "outputs": [
    {
     "name": "stdout",
     "output_type": "stream",
     "text": [
      "867/867 [==============================] - 5s 6ms/step\n"
     ]
    }
   ],
   "source": [
    "# получаем вектора всех юзеров\n",
    "users_vec_hot_test = u2v.predict([np.array(users_meta_feats_hot_test), \n",
    "                                  np.array(interactions_vec_inference)])"
   ]
  },
  {
   "cell_type": "code",
   "execution_count": 100,
   "id": "19710c5b-534c-47da-bcf0-f54a4d7dc4e1",
   "metadata": {},
   "outputs": [],
   "source": [
    "dists = cosine_distances(users_vec_hot_test, items_vecs_hot_test)"
   ]
  },
  {
   "cell_type": "code",
   "execution_count": 101,
   "id": "2bea0778-6a4f-4754-b63d-24778a152462",
   "metadata": {},
   "outputs": [],
   "source": [
    "top10_iids = np.argsort(dists, axis=1)[:,:10]"
   ]
  },
  {
   "cell_type": "code",
   "execution_count": 102,
   "id": "14becfde-d771-42ba-8e9a-cea7c8ae7c9e",
   "metadata": {},
   "outputs": [
    {
     "data": {
      "text/plain": [
       "array([[8580, 5413, 3580, ..., 8647, 1235, 4375],\n",
       "       [8580, 5413, 4169, ..., 7239, 4375, 6547],\n",
       "       [7732, 7221, 6570, ..., 7904, 1991,  306],\n",
       "       ...,\n",
       "       [ 406, 7250, 2285, ..., 4233, 5758, 6075],\n",
       "       [6570, 7732, 7755, ..., 7154, 5199, 4505],\n",
       "       [5175, 5413, 8580, ..., 3184, 2285, 4233]], dtype=int64)"
      ]
     },
     "execution_count": 102,
     "metadata": {},
     "output_type": "execute_result"
    }
   ],
   "source": [
    "top10_iids"
   ]
  },
  {
   "cell_type": "code",
   "execution_count": 103,
   "id": "1ddde2f0-d1cb-4843-99a6-e5f0d5e30d0f",
   "metadata": {},
   "outputs": [],
   "source": [
    "top10_iids_item = [iid_to_item_id_train[iid] for iid in top10_iids.reshape(-1)]"
   ]
  },
  {
   "cell_type": "code",
   "execution_count": 106,
   "id": "5c0f2699-44d9-45cd-9112-c57ebe780659",
   "metadata": {},
   "outputs": [],
   "source": [
    "top10_iids_item = np.array(top10_iids_item).reshape(top10_iids.shape)"
   ]
  },
  {
   "cell_type": "code",
   "execution_count": 108,
   "id": "3f3c920f-b004-41b5-9edc-8069d5713598",
   "metadata": {},
   "outputs": [],
   "source": [
    "df_dssm = pd.DataFrame(columns = ['user_id', 'item_id'])"
   ]
  },
  {
   "cell_type": "code",
   "execution_count": 109,
   "id": "e4d46b3b-b332-46b7-879b-643c363f1f0f",
   "metadata": {},
   "outputs": [],
   "source": [
    "df_dssm = pd.DataFrame({'user_id': [uid_to_user_id_hot_test[uid] for uid in users_ohe_hot_test.index]})"
   ]
  },
  {
   "cell_type": "code",
   "execution_count": 110,
   "id": "6adc2968-a9f9-4446-931d-cecc94e61938",
   "metadata": {},
   "outputs": [],
   "source": [
    "df_dssm['item_id'] = list(top10_iids_item)"
   ]
  },
  {
   "cell_type": "code",
   "execution_count": 91,
   "id": "d07f22ba-dcd9-4859-9920-7db69ec25dbe",
   "metadata": {},
   "outputs": [],
   "source": [
    "df_dssm = df_dssm.explode('item_id')\n",
    "df_dssm['rank'] = df_dssm.groupby('user_id').cumcount() + 1\n",
    "df_dssm = df_dssm.groupby('user_id').agg({'item_id': list}).reset_index()"
   ]
  },
  {
   "cell_type": "code",
   "execution_count": 92,
   "id": "1dce10d9-12ab-4308-82b7-e5cde0faea62",
   "metadata": {},
   "outputs": [],
   "source": [
    "df_dssm = df_dssm.explode('item_id')\n",
    "df_dssm['rank'] = df_dssm.groupby('user_id').cumcount() + 1"
   ]
  },
  {
   "cell_type": "code",
   "execution_count": 93,
   "id": "110cc3a9-a82c-40c0-a9cf-7a5908de39bf",
   "metadata": {},
   "outputs": [
    {
     "data": {
      "text/html": [
       "<div>\n",
       "<style scoped>\n",
       "    .dataframe tbody tr th:only-of-type {\n",
       "        vertical-align: middle;\n",
       "    }\n",
       "\n",
       "    .dataframe tbody tr th {\n",
       "        vertical-align: top;\n",
       "    }\n",
       "\n",
       "    .dataframe thead th {\n",
       "        text-align: right;\n",
       "    }\n",
       "</style>\n",
       "<table border=\"1\" class=\"dataframe\">\n",
       "  <thead>\n",
       "    <tr style=\"text-align: right;\">\n",
       "      <th></th>\n",
       "      <th>user_id</th>\n",
       "      <th>item_id</th>\n",
       "      <th>rank</th>\n",
       "    </tr>\n",
       "  </thead>\n",
       "  <tbody>\n",
       "    <tr>\n",
       "      <th>24</th>\n",
       "      <td>930</td>\n",
       "      <td>6402</td>\n",
       "      <td>1</td>\n",
       "    </tr>\n",
       "    <tr>\n",
       "      <th>24</th>\n",
       "      <td>930</td>\n",
       "      <td>6626</td>\n",
       "      <td>2</td>\n",
       "    </tr>\n",
       "    <tr>\n",
       "      <th>24</th>\n",
       "      <td>930</td>\n",
       "      <td>12701</td>\n",
       "      <td>3</td>\n",
       "    </tr>\n",
       "    <tr>\n",
       "      <th>24</th>\n",
       "      <td>930</td>\n",
       "      <td>3229</td>\n",
       "      <td>4</td>\n",
       "    </tr>\n",
       "    <tr>\n",
       "      <th>24</th>\n",
       "      <td>930</td>\n",
       "      <td>2358</td>\n",
       "      <td>5</td>\n",
       "    </tr>\n",
       "    <tr>\n",
       "      <th>24</th>\n",
       "      <td>930</td>\n",
       "      <td>6351</td>\n",
       "      <td>6</td>\n",
       "    </tr>\n",
       "    <tr>\n",
       "      <th>24</th>\n",
       "      <td>930</td>\n",
       "      <td>14337</td>\n",
       "      <td>7</td>\n",
       "    </tr>\n",
       "    <tr>\n",
       "      <th>24</th>\n",
       "      <td>930</td>\n",
       "      <td>1844</td>\n",
       "      <td>8</td>\n",
       "    </tr>\n",
       "    <tr>\n",
       "      <th>24</th>\n",
       "      <td>930</td>\n",
       "      <td>8447</td>\n",
       "      <td>9</td>\n",
       "    </tr>\n",
       "    <tr>\n",
       "      <th>24</th>\n",
       "      <td>930</td>\n",
       "      <td>9728</td>\n",
       "      <td>10</td>\n",
       "    </tr>\n",
       "  </tbody>\n",
       "</table>\n",
       "</div>"
      ],
      "text/plain": [
       "    user_id item_id  rank\n",
       "24      930    6402     1\n",
       "24      930    6626     2\n",
       "24      930   12701     3\n",
       "24      930    3229     4\n",
       "24      930    2358     5\n",
       "24      930    6351     6\n",
       "24      930   14337     7\n",
       "24      930    1844     8\n",
       "24      930    8447     9\n",
       "24      930    9728    10"
      ]
     },
     "execution_count": 93,
     "metadata": {},
     "output_type": "execute_result"
    }
   ],
   "source": [
    "df_dssm[240:250]"
   ]
  },
  {
   "cell_type": "code",
   "execution_count": 94,
   "id": "8be68fc4-b100-4444-b2ce-fc4e4bde5a43",
   "metadata": {},
   "outputs": [
    {
     "data": {
      "text/html": [
       "<div>\n",
       "<style scoped>\n",
       "    .dataframe tbody tr th:only-of-type {\n",
       "        vertical-align: middle;\n",
       "    }\n",
       "\n",
       "    .dataframe tbody tr th {\n",
       "        vertical-align: top;\n",
       "    }\n",
       "\n",
       "    .dataframe thead th {\n",
       "        text-align: right;\n",
       "    }\n",
       "</style>\n",
       "<table border=\"1\" class=\"dataframe\">\n",
       "  <thead>\n",
       "    <tr style=\"text-align: right;\">\n",
       "      <th></th>\n",
       "      <th>user_id</th>\n",
       "      <th>item_id</th>\n",
       "      <th>last_watch_dt</th>\n",
       "      <th>total_dur</th>\n",
       "      <th>watched_pct</th>\n",
       "      <th>uid</th>\n",
       "      <th>iid</th>\n",
       "    </tr>\n",
       "  </thead>\n",
       "  <tbody>\n",
       "    <tr>\n",
       "      <th>1021831</th>\n",
       "      <td>930</td>\n",
       "      <td>3542</td>\n",
       "      <td>2021-08-22</td>\n",
       "      <td>1863</td>\n",
       "      <td>33</td>\n",
       "      <td>24</td>\n",
       "      <td>1992</td>\n",
       "    </tr>\n",
       "  </tbody>\n",
       "</table>\n",
       "</div>"
      ],
      "text/plain": [
       "         user_id  item_id last_watch_dt  total_dur  watched_pct  uid   iid\n",
       "1021831      930     3542    2021-08-22       1863           33   24  1992"
      ]
     },
     "execution_count": 94,
     "metadata": {},
     "output_type": "execute_result"
    }
   ],
   "source": [
    "interactions_hot_test[interactions_hot_test.user_id==930]"
   ]
  },
  {
   "cell_type": "markdown",
   "id": "8c016932-58c0-42db-9b2b-de9c08a2f85e",
   "metadata": {},
   "source": [
    "# Раcчёт метрик на тёплых пользователях"
   ]
  },
  {
   "cell_type": "code",
   "execution_count": 95,
   "id": "698b01a1-56f1-4261-91d9-6a55ae11f904",
   "metadata": {},
   "outputs": [],
   "source": [
    "metric_values_hot_test = calc_metrics(\n",
    "    metrics,\n",
    "    reco=df_dssm,\n",
    "    interactions=interactions_hot_test,\n",
    "    prev_interactions=interactions_train,\n",
    "    catalog=catalog,\n",
    ")"
   ]
  },
  {
   "cell_type": "code",
   "execution_count": 96,
   "id": "64d3dccd-94f3-4dd1-9a2e-4888393e9c1a",
   "metadata": {},
   "outputs": [
    {
     "data": {
      "text/html": [
       "<div>\n",
       "<style scoped>\n",
       "    .dataframe tbody tr th:only-of-type {\n",
       "        vertical-align: middle;\n",
       "    }\n",
       "\n",
       "    .dataframe tbody tr th {\n",
       "        vertical-align: top;\n",
       "    }\n",
       "\n",
       "    .dataframe thead th {\n",
       "        text-align: right;\n",
       "    }\n",
       "</style>\n",
       "<table border=\"1\" class=\"dataframe\">\n",
       "  <thead>\n",
       "    <tr style=\"text-align: right;\">\n",
       "      <th></th>\n",
       "      <th>Precision@1</th>\n",
       "      <th>Recall@1</th>\n",
       "      <th>Precision@5</th>\n",
       "      <th>Recall@5</th>\n",
       "      <th>Precision@10</th>\n",
       "      <th>Recall@10</th>\n",
       "      <th>NDCG@1</th>\n",
       "      <th>NDCG@5</th>\n",
       "      <th>NDCG@10</th>\n",
       "      <th>MAP@1</th>\n",
       "      <th>MAP@5</th>\n",
       "      <th>MAP@10</th>\n",
       "      <th>MeanInvUserFreq@1</th>\n",
       "      <th>MeanInvUserFreq@5</th>\n",
       "      <th>MeanInvUserFreq@10</th>\n",
       "      <th>Serendipity@1</th>\n",
       "      <th>Serendipity@5</th>\n",
       "      <th>Serendipity@10</th>\n",
       "    </tr>\n",
       "  </thead>\n",
       "  <tbody>\n",
       "    <tr>\n",
       "      <th>DSSM</th>\n",
       "      <td>0.015695</td>\n",
       "      <td>0.005545</td>\n",
       "      <td>0.014288</td>\n",
       "      <td>0.024223</td>\n",
       "      <td>0.012365</td>\n",
       "      <td>0.040824</td>\n",
       "      <td>0.015695</td>\n",
       "      <td>0.014693</td>\n",
       "      <td>0.013218</td>\n",
       "      <td>0.005545</td>\n",
       "      <td>0.012012</td>\n",
       "      <td>0.014398</td>\n",
       "      <td>5.04937</td>\n",
       "      <td>5.338499</td>\n",
       "      <td>5.601253</td>\n",
       "      <td>0.000117</td>\n",
       "      <td>0.00012</td>\n",
       "      <td>0.000123</td>\n",
       "    </tr>\n",
       "  </tbody>\n",
       "</table>\n",
       "</div>"
      ],
      "text/plain": [
       "      Precision@1  Recall@1  Precision@5  Recall@5  Precision@10  Recall@10  \\\n",
       "DSSM     0.015695  0.005545     0.014288  0.024223      0.012365   0.040824   \n",
       "\n",
       "        NDCG@1    NDCG@5   NDCG@10     MAP@1     MAP@5    MAP@10  \\\n",
       "DSSM  0.015695  0.014693  0.013218  0.005545  0.012012  0.014398   \n",
       "\n",
       "      MeanInvUserFreq@1  MeanInvUserFreq@5  MeanInvUserFreq@10  Serendipity@1  \\\n",
       "DSSM            5.04937           5.338499            5.601253       0.000117   \n",
       "\n",
       "      Serendipity@5  Serendipity@10  \n",
       "DSSM        0.00012        0.000123  "
      ]
     },
     "execution_count": 96,
     "metadata": {},
     "output_type": "execute_result"
    }
   ],
   "source": [
    "pd.DataFrame(metric_values_hot_test, index=['DSSM'])"
   ]
  },
  {
   "cell_type": "markdown",
   "id": "268f2fa2-ec12-48a4-ba42-38924a1d8623",
   "metadata": {},
   "source": [
    "# Возможный офлайн инференс для сервиса"
   ]
  },
  {
   "cell_type": "code",
   "execution_count": 151,
   "id": "890cc8d3-c544-4f8d-ac71-04d0e390d9b4",
   "metadata": {},
   "outputs": [],
   "source": [
    "# загружаем фичи айтемов из трейна\n",
    "items_feats = pd.read_pickle('items_features_dssm.pkl')"
   ]
  },
  {
   "cell_type": "code",
   "execution_count": 152,
   "id": "c096ec25-db5e-408d-9891-dd67275b6ad6",
   "metadata": {},
   "outputs": [],
   "source": [
    "# получаем фичи айтемов из трейна\n",
    "items_feats = items_feats.drop([\"item_id\"], axis=1).to_numpy()"
   ]
  },
  {
   "cell_type": "code",
   "execution_count": 153,
   "id": "345810c9-ccb5-46a2-99ae-61cdb4e1b67d",
   "metadata": {},
   "outputs": [],
   "source": [
    "with open('iid_to_item_id.pkl', 'rb') as file:\n",
    "    iid_to_item_id = pickle.load(file)"
   ]
  },
  {
   "cell_type": "code",
   "execution_count": 154,
   "id": "d9ca1693-ff30-4a21-9551-ee0fd7088cf5",
   "metadata": {},
   "outputs": [],
   "source": [
    "with open('item_id_to_iid.pkl', 'rb') as file:\n",
    "    item_id_to_iid = pickle.load(file)"
   ]
  },
  {
   "cell_type": "code",
   "execution_count": 155,
   "id": "2cebc886-ad5f-4e31-8f46-992d57626089",
   "metadata": {},
   "outputs": [],
   "source": [
    "# загружаем фичи юзеров\n",
    "users_feats = pd.read_pickle('users_features_dssm.pkl')"
   ]
  },
  {
   "cell_type": "code",
   "execution_count": 156,
   "id": "1a34e8e1-2afe-4c93-ab32-1c9cca9bf087",
   "metadata": {},
   "outputs": [],
   "source": [
    "# получаем фичи юзеров\n",
    "users_feats = users_feats.drop([\"user_id\"], axis=1).to_numpy()"
   ]
  },
  {
   "cell_type": "code",
   "execution_count": 157,
   "id": "f5382aa3-8c03-41ca-87dd-22217c0592a6",
   "metadata": {},
   "outputs": [],
   "source": [
    "with open('user_id_to_uid.pkl', 'rb') as file:\n",
    "    user_id_to_uid = pickle.load(file)"
   ]
  },
  {
   "cell_type": "code",
   "execution_count": 158,
   "id": "3ec6d003-8e61-4ae6-9ea3-287bb2ef404f",
   "metadata": {},
   "outputs": [],
   "source": [
    "interactions = pd.read_csv('data_original/interactions.csv', parse_dates=[\"last_watch_dt\"])\n",
    "interactions['watched_pct'] = interactions['watched_pct'].astype(pd.Int8Dtype())\n",
    "interactions = interactions[interactions.watched_pct > 0]\n",
    "interactions = interactions[interactions.item_id.isin(item_id_to_iid.keys())]\n",
    "interactions = interactions[interactions.item_id.isin(item_id_to_iid.keys())]\n",
    "interactions[\"iid\"] = interactions[\"item_id\"].apply(lambda x: item_id_to_iid[x])"
   ]
  },
  {
   "cell_type": "code",
   "execution_count": 159,
   "id": "4623539e-5810-429f-bc91-2e0494bd64ba",
   "metadata": {},
   "outputs": [],
   "source": [
    "intersection_users = set(interactions.user_id).intersection(set(user_id_to_uid))\n",
    "interactions = interactions[interactions.user_id.isin(intersection_users)]"
   ]
  },
  {
   "cell_type": "code",
   "execution_count": 160,
   "id": "7c61d750-ac01-4271-8bbd-49429b534775",
   "metadata": {},
   "outputs": [],
   "source": [
    "interactions.reset_index(drop=True, inplace=True)"
   ]
  },
  {
   "cell_type": "code",
   "execution_count": 161,
   "id": "f11c2633-2deb-4926-979a-e81a8883e596",
   "metadata": {},
   "outputs": [
    {
     "name": "stdout",
     "output_type": "stream",
     "text": [
      "N_FACTORS: 512\n",
      "ITEM_MODEL_SHAPE: (8888,)\n",
      "USER_META_MODEL_SHAPE: (19,)\n",
      "USER_INTERACTION_MODEL_SHAPE: (9221,)\n"
     ]
    }
   ],
   "source": [
    "N_FACTORS = 512\n",
    "\n",
    "ITEM_MODEL_SHAPE = (items_feats.shape[1], ) \n",
    "USER_META_MODEL_SHAPE = (users_feats.shape[1], )\n",
    "\n",
    "USER_INTERACTION_MODEL_SHAPE = (len(item_id_to_iid.keys()), )\n",
    "\n",
    "print(f\"N_FACTORS: {N_FACTORS}\")\n",
    "print(f\"ITEM_MODEL_SHAPE: {ITEM_MODEL_SHAPE}\")\n",
    "print(f\"USER_META_MODEL_SHAPE: {USER_META_MODEL_SHAPE}\")\n",
    "print(f\"USER_INTERACTION_MODEL_SHAPE: {USER_INTERACTION_MODEL_SHAPE}\")"
   ]
  },
  {
   "cell_type": "code",
   "execution_count": 162,
   "id": "4dc6fddb-670f-4c29-ba32-c147e5593da0",
   "metadata": {},
   "outputs": [],
   "source": [
    "def triplet_loss(y_true, y_pred, n_dims=N_FACTORS, alpha=0.4):\n",
    "    # будем ожидать, что на вход функции прилетит три сконкатенированных \n",
    "    # вектора - вектор юзера и два вектора айтема\n",
    "    anchor = y_pred[:, 0:n_dims]\n",
    "    positive = y_pred[:, n_dims:n_dims*2]\n",
    "    negative = y_pred[:, n_dims*2:n_dims*3]\n",
    "\n",
    "    # считаем расстояния от вектора юзера до вектора хорошего айтема\n",
    "    pos_dist = K.sum(K.square(anchor - positive), axis=1)\n",
    "    # и до плохого\n",
    "    neg_dist = K.sum(K.square(anchor - negative), axis=1)\n",
    "\n",
    "    # считаем лосс\n",
    "    basic_loss = pos_dist - neg_dist + alpha\n",
    "    loss = K.maximum(basic_loss, 0.0) # возвращаем ноль, если лосс отрицательный\n",
    " \n",
    "    return loss"
   ]
  },
  {
   "cell_type": "code",
   "execution_count": 163,
   "id": "19d1af20-9a1c-4ffa-a423-a6dd8e0ab14d",
   "metadata": {},
   "outputs": [],
   "source": [
    "save_model = keras.models.load_model(filepath=\"recsys_resnet_linear.h5\", custom_objects={'triplet_loss': triplet_loss})"
   ]
  },
  {
   "cell_type": "code",
   "execution_count": 164,
   "id": "9e2f4eeb-0707-4ae3-bcc6-24c2f2c9e410",
   "metadata": {},
   "outputs": [],
   "source": [
    "u2v = save_model.get_layer('model_1')"
   ]
  },
  {
   "cell_type": "code",
   "execution_count": 165,
   "id": "983f9ed4-7335-49b1-8806-64ab40013f43",
   "metadata": {},
   "outputs": [],
   "source": [
    "i2v = save_model.get_layer('model')"
   ]
  },
  {
   "cell_type": "code",
   "execution_count": 166,
   "id": "1ffe72e0-fdcc-40b6-b5fc-6efd0523eac9",
   "metadata": {},
   "outputs": [
    {
     "name": "stdout",
     "output_type": "stream",
     "text": [
      "289/289 [==============================] - 2s 6ms/step\n"
     ]
    }
   ],
   "source": [
    "# получаем векторы айтемов из трейна\n",
    "items_vecs = i2v.predict(items_feats)"
   ]
  },
  {
   "cell_type": "code",
   "execution_count": 167,
   "id": "5a808525-07d7-4b71-9998-06c5823d8382",
   "metadata": {},
   "outputs": [],
   "source": [
    "def create_user_vec(user_id):\n",
    "    user_interactions_vec = np.zeros((1,len(item_id_to_iid.keys())))\n",
    "\n",
    "    user_interactions = interactions[interactions.user_id == user_id]\n",
    "    \n",
    "    for i, item_id in enumerate(user_interactions.iid):\n",
    "        user_interactions_vec[0, item_id] += user_interactions.watched_pct.iat[i]\n",
    "    \n",
    "    return user_interactions_vec / user_interactions_vec.sum()"
   ]
  },
  {
   "cell_type": "code",
   "execution_count": 168,
   "id": "4dc0dc9e-38b7-4763-985a-ae2ab918007b",
   "metadata": {},
   "outputs": [],
   "source": [
    "user_ids = []\n",
    "recos = []"
   ]
  },
  {
   "cell_type": "code",
   "execution_count": 169,
   "id": "ccae9da3-9f35-4366-93ea-1d6e371ae39a",
   "metadata": {},
   "outputs": [
    {
     "data": {
      "application/vnd.jupyter.widget-view+json": {
       "model_id": "203c0395416049fe9b8bd6892ed62e5f",
       "version_major": 2,
       "version_minor": 0
      },
      "text/plain": [
       "  0%|          | 0/669188 [00:00<?, ?it/s]"
      ]
     },
     "metadata": {},
     "output_type": "display_data"
    },
    {
     "name": "stdout",
     "output_type": "stream",
     "text": [
      "1/1 [==============================] - 0s 105ms/step\n",
      "1/1 [==============================] - 0s 27ms/step\n",
      "1/1 [==============================] - 0s 26ms/step\n",
      "1/1 [==============================] - 0s 29ms/step\n",
      "1/1 [==============================] - 0s 27ms/step\n",
      "1/1 [==============================] - 0s 27ms/step\n",
      "1/1 [==============================] - 0s 28ms/step\n",
      "1/1 [==============================] - 0s 27ms/step\n",
      "1/1 [==============================] - 0s 27ms/step\n"
     ]
    },
    {
     "name": "stderr",
     "output_type": "stream",
     "text": [
      "\n",
      "KeyboardInterrupt\n",
      "\n"
     ]
    }
   ],
   "source": [
    "for user_id in tqdm(interactions.user_id.unique()):\n",
    "    if user_id in user_id_to_uid.keys():\n",
    "        user_interactions_vec = create_user_vec(user_id)\n",
    "        user_vec = u2v.predict([np.array(users_feats[user_id_to_uid[user_id]]).reshape(1,-1),\n",
    "                                np.array(user_interactions_vec)])\n",
    "        dists = cosine_distances(user_vec, items_vecs)\n",
    "        top10_iids = np.argsort(dists, axis=1)[:,:10]\n",
    "        top10_iids_item = [iid_to_item_id[iid] for iid in top10_iids.reshape(-1)]\n",
    "        user_ids.append(user_id)\n",
    "        recos.append(top10_iids_item)"
   ]
  },
  {
   "cell_type": "code",
   "execution_count": null,
   "id": "7729b6f2-61ad-4db5-8c0b-e341d0bc40be",
   "metadata": {},
   "outputs": [],
   "source": [
    "recos_df = pd.DataFrame({'user_id':user_ids, 'rec': recos})"
   ]
  },
  {
   "cell_type": "code",
   "execution_count": null,
   "id": "e8738a55-ac70-4bdd-ad6e-2b19134982ca",
   "metadata": {},
   "outputs": [],
   "source": [
    "recos_df"
   ]
  },
  {
   "cell_type": "markdown",
   "id": "ea54b323-96bf-49ca-99ba-89b31984afca",
   "metadata": {},
   "source": [
    "Офлайн рекомендации не были выданы из-за долгой обработки\n",
    "\n",
    "Это можно было бы исправить батчами, но возникли проблемы с реализацией внутрих uid для создания матрицы векторов юзеров в create_user_vec"
   ]
  },
  {
   "cell_type": "code",
   "execution_count": null,
   "id": "09e60267-d482-4bf7-bf8d-7d727cc6b740",
   "metadata": {},
   "outputs": [],
   "source": []
  }
 ],
 "metadata": {
  "kernelspec": {
   "display_name": "Python 3 (ipykernel)",
   "language": "python",
   "name": "python3"
  },
  "language_info": {
   "codemirror_mode": {
    "name": "ipython",
    "version": 3
   },
   "file_extension": ".py",
   "mimetype": "text/x-python",
   "name": "python",
   "nbconvert_exporter": "python",
   "pygments_lexer": "ipython3",
   "version": "3.9.18"
  }
 },
 "nbformat": 4,
 "nbformat_minor": 5
}
