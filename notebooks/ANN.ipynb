{
 "cells": [
  {
   "cell_type": "markdown",
   "id": "30cb7527-71e7-4a14-a2d3-8275346ae1cd",
   "metadata": {},
   "source": [
    "# Конфигурация"
   ]
  },
  {
   "cell_type": "code",
   "execution_count": 1,
   "id": "fd78f78e-0729-4d77-bd75-489b758a5106",
   "metadata": {},
   "outputs": [
    {
     "name": "stderr",
     "output_type": "stream",
     "text": [
      "C:\\Users\\BIT\\.conda\\envs\\RecSys\\lib\\site-packages\\lightfm\\_lightfm_fast.py:9: UserWarning: LightFM was compiled without OpenMP support. Only a single thread will be used.\n",
      "  warnings.warn(\n"
     ]
    }
   ],
   "source": [
    "import pickle\n",
    "\n",
    "import pandas as pd\n",
    "import numpy as np\n",
    "from scipy import sparse\n",
    "\n",
    "from tqdm.auto import tqdm\n",
    "\n",
    "from implicit.cpu.als import AlternatingLeastSquares\n",
    "from rectools.models.implicit_als import ImplicitALSWrapperModel\n",
    "\n",
    "import nmslib\n",
    "\n",
    "import rectools \n",
    "from rectools import Columns\n",
    "from rectools.dataset import Interactions, Dataset\n",
    "from rectools.model_selection import TimeRangeSplitter\n",
    "from rectools.metrics import MAP, NDCG, Precision, Recall, MeanInvUserFreq, Serendipity, calc_metrics\n",
    "from rectools.tools.ann import UserToItemAnnRecommender"
   ]
  },
  {
   "cell_type": "code",
   "execution_count": 2,
   "id": "5e6728ee-1463-4fff-b3fc-27c56111de55",
   "metadata": {},
   "outputs": [],
   "source": [
    "K_RECOS = 10\n",
    "RANDOM_SEED = 32\n",
    "\n",
    "np.random.seed(RANDOM_SEED)"
   ]
  },
  {
   "cell_type": "code",
   "execution_count": 3,
   "id": "72c6fd0f-0854-4408-8d31-66c808362600",
   "metadata": {},
   "outputs": [],
   "source": [
    "metrics = {'MAP@1': MAP(k=1), 'MAP@5': MAP(k=5), 'MAP@10': MAP(k=10),\n",
    "           'NDCG@1': NDCG(k=1), 'NDCG@5': NDCG(k=5), 'NDCG@10': NDCG(k=10),\n",
    "           'Precision@1': Precision(k=1), 'Precision@5': Precision(k=5), 'Precision@10': Precision(k=10),\n",
    "           'Recall@1': Recall(k=1), 'Recall@5': Recall(k=5), 'Recall@10': Recall(k=10),\n",
    "           'MeanInvUserFreq@1': MeanInvUserFreq(k=1), 'MeanInvUserFreq@5': MeanInvUserFreq(k=5), 'MeanInvUserFreq@10': MeanInvUserFreq(k=10),\n",
    "           'Serendipity@1': Serendipity(k=1), 'Serendipity@5': Serendipity(k=5), 'Serendipity@10': Serendipity(k=10)}"
   ]
  },
  {
   "cell_type": "markdown",
   "id": "7977735d-5b00-479d-abb4-f95724644a78",
   "metadata": {},
   "source": [
    "# Загрузка данных"
   ]
  },
  {
   "cell_type": "code",
   "execution_count": 4,
   "id": "429b5211-408d-41bc-8715-f3c241c49d81",
   "metadata": {},
   "outputs": [],
   "source": [
    "def headtail(df):\n",
    "    return pd.concat([df.head(), df.tail()])"
   ]
  },
  {
   "cell_type": "code",
   "execution_count": 5,
   "id": "21bfa42c-b8f9-4c9e-8cf8-e179134a9319",
   "metadata": {},
   "outputs": [],
   "source": [
    "interactions = pd.read_csv('data_original/interactions.csv', parse_dates=[\"last_watch_dt\"])"
   ]
  },
  {
   "cell_type": "code",
   "execution_count": 6,
   "id": "a105fec5-b370-418a-a3d8-9d05fcfa9938",
   "metadata": {},
   "outputs": [],
   "source": [
    "interactions.rename(\n",
    "    columns={\n",
    "        'last_watch_dt': Columns.Datetime,\n",
    "    }, \n",
    "    inplace=True)"
   ]
  },
  {
   "cell_type": "code",
   "execution_count": 7,
   "id": "15158e8a-13ae-4174-99d6-424525d6bef7",
   "metadata": {},
   "outputs": [],
   "source": [
    "interactions[Columns.Weight] = np.where(interactions['watched_pct'] > 10, 3, 1)"
   ]
  },
  {
   "cell_type": "code",
   "execution_count": 8,
   "id": "d0c1bb35-bf2a-4b87-9310-bea0453098c5",
   "metadata": {},
   "outputs": [],
   "source": [
    "interactions = Interactions(interactions)"
   ]
  },
  {
   "cell_type": "code",
   "execution_count": 9,
   "id": "55307b08-6cc0-473e-9ecc-f90364589e6e",
   "metadata": {},
   "outputs": [
    {
     "data": {
      "text/html": [
       "<div>\n",
       "<style scoped>\n",
       "    .dataframe tbody tr th:only-of-type {\n",
       "        vertical-align: middle;\n",
       "    }\n",
       "\n",
       "    .dataframe tbody tr th {\n",
       "        vertical-align: top;\n",
       "    }\n",
       "\n",
       "    .dataframe thead th {\n",
       "        text-align: right;\n",
       "    }\n",
       "</style>\n",
       "<table border=\"1\" class=\"dataframe\">\n",
       "  <thead>\n",
       "    <tr style=\"text-align: right;\">\n",
       "      <th></th>\n",
       "      <th>user_id</th>\n",
       "      <th>item_id</th>\n",
       "      <th>datetime</th>\n",
       "      <th>total_dur</th>\n",
       "      <th>watched_pct</th>\n",
       "      <th>weight</th>\n",
       "    </tr>\n",
       "  </thead>\n",
       "  <tbody>\n",
       "    <tr>\n",
       "      <th>0</th>\n",
       "      <td>176549</td>\n",
       "      <td>9506</td>\n",
       "      <td>2021-05-11</td>\n",
       "      <td>4250</td>\n",
       "      <td>72.0</td>\n",
       "      <td>3.0</td>\n",
       "    </tr>\n",
       "    <tr>\n",
       "      <th>1</th>\n",
       "      <td>699317</td>\n",
       "      <td>1659</td>\n",
       "      <td>2021-05-29</td>\n",
       "      <td>8317</td>\n",
       "      <td>100.0</td>\n",
       "      <td>3.0</td>\n",
       "    </tr>\n",
       "    <tr>\n",
       "      <th>2</th>\n",
       "      <td>656683</td>\n",
       "      <td>7107</td>\n",
       "      <td>2021-05-09</td>\n",
       "      <td>10</td>\n",
       "      <td>0.0</td>\n",
       "      <td>1.0</td>\n",
       "    </tr>\n",
       "    <tr>\n",
       "      <th>3</th>\n",
       "      <td>864613</td>\n",
       "      <td>7638</td>\n",
       "      <td>2021-07-05</td>\n",
       "      <td>14483</td>\n",
       "      <td>100.0</td>\n",
       "      <td>3.0</td>\n",
       "    </tr>\n",
       "    <tr>\n",
       "      <th>4</th>\n",
       "      <td>964868</td>\n",
       "      <td>9506</td>\n",
       "      <td>2021-04-30</td>\n",
       "      <td>6725</td>\n",
       "      <td>100.0</td>\n",
       "      <td>3.0</td>\n",
       "    </tr>\n",
       "    <tr>\n",
       "      <th>5476246</th>\n",
       "      <td>648596</td>\n",
       "      <td>12225</td>\n",
       "      <td>2021-08-13</td>\n",
       "      <td>76</td>\n",
       "      <td>0.0</td>\n",
       "      <td>1.0</td>\n",
       "    </tr>\n",
       "    <tr>\n",
       "      <th>5476247</th>\n",
       "      <td>546862</td>\n",
       "      <td>9673</td>\n",
       "      <td>2021-04-13</td>\n",
       "      <td>2308</td>\n",
       "      <td>49.0</td>\n",
       "      <td>3.0</td>\n",
       "    </tr>\n",
       "    <tr>\n",
       "      <th>5476248</th>\n",
       "      <td>697262</td>\n",
       "      <td>15297</td>\n",
       "      <td>2021-08-20</td>\n",
       "      <td>18307</td>\n",
       "      <td>63.0</td>\n",
       "      <td>3.0</td>\n",
       "    </tr>\n",
       "    <tr>\n",
       "      <th>5476249</th>\n",
       "      <td>384202</td>\n",
       "      <td>16197</td>\n",
       "      <td>2021-04-19</td>\n",
       "      <td>6203</td>\n",
       "      <td>100.0</td>\n",
       "      <td>3.0</td>\n",
       "    </tr>\n",
       "    <tr>\n",
       "      <th>5476250</th>\n",
       "      <td>319709</td>\n",
       "      <td>4436</td>\n",
       "      <td>2021-08-15</td>\n",
       "      <td>3921</td>\n",
       "      <td>45.0</td>\n",
       "      <td>3.0</td>\n",
       "    </tr>\n",
       "  </tbody>\n",
       "</table>\n",
       "</div>"
      ],
      "text/plain": [
       "         user_id  item_id   datetime  total_dur  watched_pct  weight\n",
       "0         176549     9506 2021-05-11       4250         72.0     3.0\n",
       "1         699317     1659 2021-05-29       8317        100.0     3.0\n",
       "2         656683     7107 2021-05-09         10          0.0     1.0\n",
       "3         864613     7638 2021-07-05      14483        100.0     3.0\n",
       "4         964868     9506 2021-04-30       6725        100.0     3.0\n",
       "5476246   648596    12225 2021-08-13         76          0.0     1.0\n",
       "5476247   546862     9673 2021-04-13       2308         49.0     3.0\n",
       "5476248   697262    15297 2021-08-20      18307         63.0     3.0\n",
       "5476249   384202    16197 2021-04-19       6203        100.0     3.0\n",
       "5476250   319709     4436 2021-08-15       3921         45.0     3.0"
      ]
     },
     "execution_count": 9,
     "metadata": {},
     "output_type": "execute_result"
    }
   ],
   "source": [
    "headtail(interactions.df)"
   ]
  },
  {
   "cell_type": "code",
   "execution_count": 10,
   "id": "70daa6f5-c53a-4eef-8d65-94f34dcd3112",
   "metadata": {},
   "outputs": [
    {
     "name": "stdout",
     "output_type": "stream",
     "text": [
      "<class 'pandas.core.frame.DataFrame'>\n",
      "RangeIndex: 5476251 entries, 0 to 5476250\n",
      "Data columns (total 6 columns):\n",
      " #   Column       Dtype         \n",
      "---  ------       -----         \n",
      " 0   user_id      int64         \n",
      " 1   item_id      int64         \n",
      " 2   datetime     datetime64[ns]\n",
      " 3   total_dur    int64         \n",
      " 4   watched_pct  float64       \n",
      " 5   weight       float64       \n",
      "dtypes: datetime64[ns](1), float64(2), int64(3)\n",
      "memory usage: 250.7 MB\n"
     ]
    }
   ],
   "source": [
    "interactions.df.info(memory_usage='deep')"
   ]
  },
  {
   "cell_type": "code",
   "execution_count": 11,
   "id": "d591b304-7365-45e7-9f2d-d859ba560427",
   "metadata": {},
   "outputs": [],
   "source": [
    "users = pd.read_csv('data_original/users.csv')\n",
    "items = pd.read_csv('data_original/items.csv')"
   ]
  },
  {
   "cell_type": "markdown",
   "id": "0864cfeb-99f7-43b0-9149-559b45b61f7e",
   "metadata": {},
   "source": [
    "# Подготовка данных"
   ]
  },
  {
   "cell_type": "markdown",
   "id": "8636d4d3-6484-42a4-bfe1-6b760e636312",
   "metadata": {},
   "source": [
    "Удаляем юзеров и айтемы, у которых нет взаимодействий"
   ]
  },
  {
   "cell_type": "code",
   "execution_count": 12,
   "id": "36e75813-d225-4817-90ed-45434649460c",
   "metadata": {},
   "outputs": [],
   "source": [
    "# users = users.loc[users[\"user_id\"].isin(interactions.df[\"user_id\"])].copy()\n",
    "# items = items.loc[items[\"item_id\"].isin(interactions.df[\"item_id\"])].copy()"
   ]
  },
  {
   "cell_type": "code",
   "execution_count": 13,
   "id": "f4eaf0da-d308-40c9-8509-87d3f3794676",
   "metadata": {},
   "outputs": [],
   "source": [
    "users.fillna('Unknown', inplace=True)"
   ]
  },
  {
   "cell_type": "markdown",
   "id": "851342a1-521e-40ef-884b-6c0b5ab68cc6",
   "metadata": {},
   "source": [
    "производится Leave-time-out разбиение -- последняя неделя на test, остальное на train"
   ]
  },
  {
   "cell_type": "code",
   "execution_count": 14,
   "id": "308b9f51-f41a-4a6c-af09-2fb608473428",
   "metadata": {},
   "outputs": [
    {
     "name": "stderr",
     "output_type": "stream",
     "text": [
      "C:\\Users\\BIT\\AppData\\Local\\Temp\\ipykernel_7980\\2977654233.py:4: SettingWithCopyWarning: \n",
      "A value is trying to be set on a copy of a slice from a DataFrame\n",
      "\n",
      "See the caveats in the documentation: https://pandas.pydata.org/pandas-docs/stable/user_guide/indexing.html#returning-a-view-versus-a-copy\n",
      "  train.drop(train.query(\"total_dur < 300\").index, inplace=True)\n"
     ]
    },
    {
     "name": "stdout",
     "output_type": "stream",
     "text": [
      "train: (3832711, 6)\n",
      "hot test: (333026, 6)\n",
      "cold test: (157956, 6)\n"
     ]
    }
   ],
   "source": [
    "max_date = interactions.df['datetime'].max()\n",
    "\n",
    "train = interactions.df[(interactions.df['datetime'] < max_date - pd.Timedelta(days=7))]\n",
    "train.drop(train.query(\"total_dur < 300\").index, inplace=True)\n",
    "train_users = train[Columns.User].unique()\n",
    "\n",
    "test = interactions.df[interactions.df['datetime'] >= max_date - pd.Timedelta(days=7)]\n",
    "test_users = test[Columns.User].unique()\n",
    "\n",
    "hot_test = test[test['user_id'].isin(train['user_id'].unique())]\n",
    "hot_test_users = hot_test[Columns.User].unique()\n",
    "\n",
    "cold_test = test[~test['user_id'].isin(train['user_id'].unique())]\n",
    "cold_test_users = cold_test[Columns.User].unique()\n",
    "\n",
    "catalog = train[Columns.Item].unique()\n",
    "\n",
    "print(f\"train: {train.shape}\")\n",
    "print(f\"hot test: {hot_test.shape}\")\n",
    "print(f\"cold test: {cold_test.shape}\")"
   ]
  },
  {
   "cell_type": "markdown",
   "id": "56edef69-f89b-499e-b83b-bad83953636d",
   "metadata": {},
   "source": [
    "В качестве фичей юзеров были выбраны: возраст, доход, пол"
   ]
  },
  {
   "cell_type": "code",
   "execution_count": 15,
   "id": "2aa28b25-c17e-4111-9708-c339c23f1549",
   "metadata": {},
   "outputs": [],
   "source": [
    "users = users.loc[users[Columns.User].isin(train[Columns.User])].copy()"
   ]
  },
  {
   "cell_type": "code",
   "execution_count": 16,
   "id": "a68e30e0-c754-4c7e-877b-4c4ae46fb016",
   "metadata": {},
   "outputs": [],
   "source": [
    "user_features_names = [\"age\", \"income\", \"sex\"]\n",
    "cat_user_features_names = [feature for feature in user_features_names if users[feature].dtype == np.dtypes.ObjectDType]\n",
    "user_features_frames = []\n",
    "for feature in user_features_names:\n",
    "    feature_frame = users.reindex(columns=[\"user_id\", feature])\n",
    "    feature_frame.columns = [\"id\", \"value\"]\n",
    "    feature_frame[\"feature\"] = feature\n",
    "    user_features_frames.append(feature_frame)\n",
    "user_features = pd.concat(user_features_frames)"
   ]
  },
  {
   "cell_type": "code",
   "execution_count": 17,
   "id": "e4d8820f-ad7d-46bd-b622-a0a8e60f76c1",
   "metadata": {},
   "outputs": [
    {
     "name": "stdout",
     "output_type": "stream",
     "text": [
      "Number user features: 17\n"
     ]
    }
   ],
   "source": [
    "print('Number user features:', users[user_features_names].nunique().sum())"
   ]
  },
  {
   "cell_type": "markdown",
   "id": "56678ef7-16ca-434f-8bc5-e750e5dc1681",
   "metadata": {},
   "source": [
    "В качестве фичей айтемов были выбраны: жанр"
   ]
  },
  {
   "cell_type": "code",
   "execution_count": 18,
   "id": "c3ebe51c-c3f3-4791-a43d-32ef8b4844bb",
   "metadata": {},
   "outputs": [],
   "source": [
    "items = items.loc[items[Columns.Item].isin(train[Columns.Item])].copy()"
   ]
  },
  {
   "cell_type": "code",
   "execution_count": 19,
   "id": "5a17a5f0-ebef-4d4c-a182-60fd2c343d42",
   "metadata": {},
   "outputs": [],
   "source": [
    "YEAR_FROM = 1990\n",
    "STEP_SIZE = 5\n",
    "bins = [year for year in range(YEAR_FROM, int(items['release_year'].max()) + STEP_SIZE, STEP_SIZE)]\n",
    "bins = [int(items['release_year'].min())] + bins\n",
    "items['year_bin'] = pd.cut(items['release_year'],\n",
    "                           bins=bins, include_lowest=True)\n",
    "items['year_bin'] = items['year_bin'].astype('str')"
   ]
  },
  {
   "cell_type": "code",
   "execution_count": 20,
   "id": "415a9483-dc0e-41e2-b278-a66374f70ca0",
   "metadata": {},
   "outputs": [],
   "source": [
    "item_features_names = []"
   ]
  },
  {
   "cell_type": "code",
   "execution_count": 21,
   "id": "eb836e12-a2f3-4f84-b081-f6e36ed3a0fa",
   "metadata": {},
   "outputs": [],
   "source": [
    "items[\"genre\"] = items[\"genres\"].str.lower().str.replace(\", \", \",\", regex=False).str.split(\",\")\n",
    "genre_feature = items[[\"item_id\", \"genre\"]].explode(\"genre\")\n",
    "genre_feature.columns = [\"id\", \"value\"]\n",
    "genre_feature[\"feature\"] = \"genre\"\n",
    "item_features_names += [\"genre\"]\n",
    "item_features = genre_feature"
   ]
  },
  {
   "cell_type": "code",
   "execution_count": 22,
   "id": "074e4da4-2585-416b-bf9a-d11264e0d74a",
   "metadata": {},
   "outputs": [],
   "source": [
    "content_feature = items.reindex(columns=[Columns.Item, \"content_type\"])\n",
    "content_feature.columns = [\"id\", \"value\"]\n",
    "content_feature[\"feature\"] = \"content_type\"\n",
    "item_features_names += [\"content_type\"]"
   ]
  },
  {
   "cell_type": "code",
   "execution_count": 23,
   "id": "234dd79b-8685-4ae7-80f8-2c74777e89fd",
   "metadata": {},
   "outputs": [],
   "source": [
    "year_feature = items.reindex(columns=[Columns.Item, \"year_bin\"])\n",
    "year_feature.columns = [\"id\", \"value\"]\n",
    "year_feature[\"feature\"] = \"year_bin\"\n",
    "item_features_names += [\"year_bin\"]"
   ]
  },
  {
   "cell_type": "code",
   "execution_count": 24,
   "id": "43ff6eee-ebe0-4643-9444-515042504201",
   "metadata": {},
   "outputs": [],
   "source": [
    "cat_item_features_names = [feature for feature in item_features_names if items[feature].dtype == np.dtypes.ObjectDType]"
   ]
  },
  {
   "cell_type": "code",
   "execution_count": 25,
   "id": "5da284de-ec70-47ba-a7f9-3334dd53b96f",
   "metadata": {},
   "outputs": [],
   "source": [
    "item_features = pd.concat((genre_feature, content_feature, year_feature))"
   ]
  },
  {
   "cell_type": "code",
   "execution_count": 26,
   "id": "ececdf10-dfc1-4540-89eb-701ca2e1de58",
   "metadata": {},
   "outputs": [
    {
     "data": {
      "text/plain": [
       "драмы                 4923\n",
       "комедии               3479\n",
       "зарубежные            3055\n",
       "мелодрамы             2533\n",
       "триллеры              2297\n",
       "                      ... \n",
       "токшоу                   2\n",
       "красота и здоровье       2\n",
       "передачи                 1\n",
       "образование              1\n",
       "рекомендуем              1\n",
       "Name: value, Length: 94, dtype: int64"
      ]
     },
     "execution_count": 26,
     "metadata": {},
     "output_type": "execute_result"
    }
   ],
   "source": [
    "genre_feature[\"value\"].value_counts()"
   ]
  },
  {
   "cell_type": "code",
   "execution_count": 27,
   "id": "06b01059-c93b-472c-ba7e-4545bfbbd999",
   "metadata": {},
   "outputs": [
    {
     "name": "stdout",
     "output_type": "stream",
     "text": [
      "Number item features: 105\n"
     ]
    }
   ],
   "source": [
    "print('Number item features:', item_features.value.nunique())"
   ]
  },
  {
   "cell_type": "code",
   "execution_count": 28,
   "id": "7b393568-1b9a-4d3f-b580-17be21ff6a5e",
   "metadata": {},
   "outputs": [],
   "source": [
    "dataset_train = Dataset.construct(\n",
    "    interactions_df=train,\n",
    "    user_features_df=user_features,\n",
    "    cat_user_features=user_features_names,\n",
    "    item_features_df=item_features,\n",
    "    cat_item_features=cat_item_features_names\n",
    ")"
   ]
  },
  {
   "cell_type": "markdown",
   "id": "e99dd414-29cd-4f97-bc27-86502a73a494",
   "metadata": {},
   "source": [
    "# Обучение модели"
   ]
  },
  {
   "cell_type": "markdown",
   "id": "9a58b46f-28db-489a-a1b1-2ec36b0b89a8",
   "metadata": {},
   "source": [
    "## ALS"
   ]
  },
  {
   "cell_type": "markdown",
   "id": "3e6dcfeb-1fcf-4051-8c28-ba80bb5f2df3",
   "metadata": {},
   "source": [
    "Гиперпараметры не тюнились, их значения брались из обучающих материалов"
   ]
  },
  {
   "cell_type": "code",
   "execution_count": 38,
   "id": "90325cca-f04e-4ec9-b08d-cc5b939bad05",
   "metadata": {},
   "outputs": [],
   "source": [
    "N_FACTORS = 128\n",
    "REG = 0.5\n",
    "ALPHA = 10\n",
    "NUM_THREADS = 12\n",
    "ITERATIONS = 10"
   ]
  },
  {
   "cell_type": "code",
   "execution_count": 39,
   "id": "fbcc8387-81f7-4a8a-9774-302c2d5c2920",
   "metadata": {},
   "outputs": [],
   "source": [
    "als = AlternatingLeastSquares(factors=N_FACTORS,\n",
    "                              regularization=REG,\n",
    "                              alpha=ALPHA,\n",
    "                              num_threads=NUM_THREADS,\n",
    "                              random_state=RANDOM_SEED,\n",
    "                              iterations=ITERATIONS)"
   ]
  },
  {
   "cell_type": "code",
   "execution_count": 40,
   "id": "d1ce9b07-dee3-48c2-aef3-175209fa9a12",
   "metadata": {},
   "outputs": [],
   "source": [
    "als_wrapper = ImplicitALSWrapperModel(model=als,\n",
    "                                      verbose=1,\n",
    "                                      fit_features_together=True)"
   ]
  },
  {
   "cell_type": "code",
   "execution_count": 41,
   "id": "c1d1f5e1-3d9f-48c4-a729-47d7164dbaec",
   "metadata": {},
   "outputs": [
    {
     "data": {
      "application/vnd.jupyter.widget-view+json": {
       "model_id": "3461b4b0deb642849424270f89af146a",
       "version_major": 2,
       "version_minor": 0
      },
      "text/plain": [
       "  0%|          | 0/10 [00:00<?, ?it/s]"
      ]
     },
     "metadata": {},
     "output_type": "display_data"
    },
    {
     "name": "stdout",
     "output_type": "stream",
     "text": [
      "CPU times: total: 4min 15s\n",
      "Wall time: 24.3 s\n"
     ]
    },
    {
     "data": {
      "text/plain": [
       "<rectools.models.implicit_als.ImplicitALSWrapperModel at 0x1f1979e2b80>"
      ]
     },
     "execution_count": 41,
     "metadata": {},
     "output_type": "execute_result"
    }
   ],
   "source": [
    "%%time\n",
    "als_wrapper.fit(dataset_train)"
   ]
  },
  {
   "cell_type": "code",
   "execution_count": 42,
   "id": "42bddd15-03a6-409a-a372-f4b9e8b45c64",
   "metadata": {},
   "outputs": [],
   "source": [
    "with open(\"als_wrapper.pkl\", \"wb\") as file:\n",
    "    pickle.dump(als_wrapper, file)"
   ]
  },
  {
   "cell_type": "code",
   "execution_count": 43,
   "id": "3c97c6fe-7c1b-4a9b-b994-3f0fcf4ba230",
   "metadata": {},
   "outputs": [],
   "source": [
    "with open(\"als_wrapper.pkl\", \"rb\") as file:\n",
    "    als_wrapper = pickle.load(file)"
   ]
  },
  {
   "cell_type": "code",
   "execution_count": 44,
   "id": "c4d6e01e-2bb4-422c-bf79-983eb21f4525",
   "metadata": {},
   "outputs": [
    {
     "name": "stdout",
     "output_type": "stream",
     "text": [
      "CPU times: total: 3min 40s\n",
      "Wall time: 55.2 s\n"
     ]
    }
   ],
   "source": [
    "%%time\n",
    "recos_als_train = als_wrapper.recommend(users=train_users, dataset=dataset_train, k=10, filter_viewed=False)"
   ]
  },
  {
   "cell_type": "code",
   "execution_count": 45,
   "id": "ec91745b-27d2-4d8c-ad08-597a1b34683f",
   "metadata": {},
   "outputs": [
    {
     "name": "stdout",
     "output_type": "stream",
     "text": [
      "CPU times: total: 2min 39s\n",
      "Wall time: 23.7 s\n"
     ]
    }
   ],
   "source": [
    "%%time\n",
    "recos_als_hot_test = als_wrapper.recommend(users=hot_test_users, dataset=dataset_train, k=10, filter_viewed=True)"
   ]
  },
  {
   "cell_type": "markdown",
   "id": "8c016932-58c0-42db-9b2b-de9c08a2f85e",
   "metadata": {},
   "source": [
    "# Раcчёт метрик"
   ]
  },
  {
   "cell_type": "markdown",
   "id": "31731f6b-bdf2-43c2-bca7-3c13edf7f9d3",
   "metadata": {},
   "source": [
    "## на обучающей выборке"
   ]
  },
  {
   "cell_type": "code",
   "execution_count": 46,
   "id": "997a808d-e351-4205-83b6-ff882ce9e02c",
   "metadata": {},
   "outputs": [],
   "source": [
    "metric_values_train = calc_metrics(\n",
    "    metrics,\n",
    "    reco=recos_als_train,\n",
    "    interactions=train,\n",
    "    prev_interactions=train,\n",
    "    catalog=catalog,\n",
    ")"
   ]
  },
  {
   "cell_type": "code",
   "execution_count": 47,
   "id": "08c2cb9a-5f1c-4755-a32c-eed81effe51d",
   "metadata": {},
   "outputs": [
    {
     "data": {
      "text/html": [
       "<div>\n",
       "<style scoped>\n",
       "    .dataframe tbody tr th:only-of-type {\n",
       "        vertical-align: middle;\n",
       "    }\n",
       "\n",
       "    .dataframe tbody tr th {\n",
       "        vertical-align: top;\n",
       "    }\n",
       "\n",
       "    .dataframe thead th {\n",
       "        text-align: right;\n",
       "    }\n",
       "</style>\n",
       "<table border=\"1\" class=\"dataframe\">\n",
       "  <thead>\n",
       "    <tr style=\"text-align: right;\">\n",
       "      <th></th>\n",
       "      <th>Precision@1</th>\n",
       "      <th>Recall@1</th>\n",
       "      <th>Precision@5</th>\n",
       "      <th>Recall@5</th>\n",
       "      <th>Precision@10</th>\n",
       "      <th>Recall@10</th>\n",
       "      <th>NDCG@1</th>\n",
       "      <th>NDCG@5</th>\n",
       "      <th>NDCG@10</th>\n",
       "      <th>MAP@1</th>\n",
       "      <th>MAP@5</th>\n",
       "      <th>MAP@10</th>\n",
       "      <th>MeanInvUserFreq@1</th>\n",
       "      <th>MeanInvUserFreq@5</th>\n",
       "      <th>MeanInvUserFreq@10</th>\n",
       "      <th>Serendipity@1</th>\n",
       "      <th>Serendipity@5</th>\n",
       "      <th>Serendipity@10</th>\n",
       "    </tr>\n",
       "  </thead>\n",
       "  <tbody>\n",
       "    <tr>\n",
       "      <th>AlternatingLeastSquares</th>\n",
       "      <td>0.607888</td>\n",
       "      <td>0.321024</td>\n",
       "      <td>0.260478</td>\n",
       "      <td>0.497448</td>\n",
       "      <td>0.175948</td>\n",
       "      <td>0.588805</td>\n",
       "      <td>0.607888</td>\n",
       "      <td>0.327639</td>\n",
       "      <td>0.245187</td>\n",
       "      <td>0.321024</td>\n",
       "      <td>0.424875</td>\n",
       "      <td>0.45323</td>\n",
       "      <td>3.586888</td>\n",
       "      <td>4.108002</td>\n",
       "      <td>4.790572</td>\n",
       "      <td>0.001484</td>\n",
       "      <td>0.000833</td>\n",
       "      <td>0.000684</td>\n",
       "    </tr>\n",
       "  </tbody>\n",
       "</table>\n",
       "</div>"
      ],
      "text/plain": [
       "                         Precision@1  Recall@1  Precision@5  Recall@5  \\\n",
       "AlternatingLeastSquares     0.607888  0.321024     0.260478  0.497448   \n",
       "\n",
       "                         Precision@10  Recall@10    NDCG@1    NDCG@5  \\\n",
       "AlternatingLeastSquares      0.175948   0.588805  0.607888  0.327639   \n",
       "\n",
       "                          NDCG@10     MAP@1     MAP@5   MAP@10  \\\n",
       "AlternatingLeastSquares  0.245187  0.321024  0.424875  0.45323   \n",
       "\n",
       "                         MeanInvUserFreq@1  MeanInvUserFreq@5  \\\n",
       "AlternatingLeastSquares           3.586888           4.108002   \n",
       "\n",
       "                         MeanInvUserFreq@10  Serendipity@1  Serendipity@5  \\\n",
       "AlternatingLeastSquares            4.790572       0.001484       0.000833   \n",
       "\n",
       "                         Serendipity@10  \n",
       "AlternatingLeastSquares        0.000684  "
      ]
     },
     "execution_count": 47,
     "metadata": {},
     "output_type": "execute_result"
    }
   ],
   "source": [
    "pd.DataFrame(metric_values_train, index=['AlternatingLeastSquares'])"
   ]
  },
  {
   "cell_type": "markdown",
   "id": "46c96316-1c37-41b5-bade-7da85b7358d1",
   "metadata": {},
   "source": [
    "## на тёплых пользователях"
   ]
  },
  {
   "cell_type": "code",
   "execution_count": 48,
   "id": "698b01a1-56f1-4261-91d9-6a55ae11f904",
   "metadata": {},
   "outputs": [],
   "source": [
    "metric_values_hot_test = calc_metrics(\n",
    "    metrics,\n",
    "    reco=recos_als_hot_test,\n",
    "    interactions=hot_test,\n",
    "    prev_interactions=train,\n",
    "    catalog=catalog,\n",
    ")"
   ]
  },
  {
   "cell_type": "code",
   "execution_count": 49,
   "id": "64d3dccd-94f3-4dd1-9a2e-4888393e9c1a",
   "metadata": {},
   "outputs": [
    {
     "data": {
      "text/html": [
       "<div>\n",
       "<style scoped>\n",
       "    .dataframe tbody tr th:only-of-type {\n",
       "        vertical-align: middle;\n",
       "    }\n",
       "\n",
       "    .dataframe tbody tr th {\n",
       "        vertical-align: top;\n",
       "    }\n",
       "\n",
       "    .dataframe thead th {\n",
       "        text-align: right;\n",
       "    }\n",
       "</style>\n",
       "<table border=\"1\" class=\"dataframe\">\n",
       "  <thead>\n",
       "    <tr style=\"text-align: right;\">\n",
       "      <th></th>\n",
       "      <th>Precision@1</th>\n",
       "      <th>Recall@1</th>\n",
       "      <th>Precision@5</th>\n",
       "      <th>Recall@5</th>\n",
       "      <th>Precision@10</th>\n",
       "      <th>Recall@10</th>\n",
       "      <th>NDCG@1</th>\n",
       "      <th>NDCG@5</th>\n",
       "      <th>NDCG@10</th>\n",
       "      <th>MAP@1</th>\n",
       "      <th>MAP@5</th>\n",
       "      <th>MAP@10</th>\n",
       "      <th>MeanInvUserFreq@1</th>\n",
       "      <th>MeanInvUserFreq@5</th>\n",
       "      <th>MeanInvUserFreq@10</th>\n",
       "      <th>Serendipity@1</th>\n",
       "      <th>Serendipity@5</th>\n",
       "      <th>Serendipity@10</th>\n",
       "    </tr>\n",
       "  </thead>\n",
       "  <tbody>\n",
       "    <tr>\n",
       "      <th>AlternatingLeastSquares</th>\n",
       "      <td>0.08392</td>\n",
       "      <td>0.042552</td>\n",
       "      <td>0.049743</td>\n",
       "      <td>0.118161</td>\n",
       "      <td>0.035223</td>\n",
       "      <td>0.161937</td>\n",
       "      <td>0.08392</td>\n",
       "      <td>0.057038</td>\n",
       "      <td>0.044345</td>\n",
       "      <td>0.042552</td>\n",
       "      <td>0.071578</td>\n",
       "      <td>0.078454</td>\n",
       "      <td>3.487663</td>\n",
       "      <td>4.25787</td>\n",
       "      <td>4.99543</td>\n",
       "      <td>0.000037</td>\n",
       "      <td>0.000043</td>\n",
       "      <td>0.000047</td>\n",
       "    </tr>\n",
       "  </tbody>\n",
       "</table>\n",
       "</div>"
      ],
      "text/plain": [
       "                         Precision@1  Recall@1  Precision@5  Recall@5  \\\n",
       "AlternatingLeastSquares      0.08392  0.042552     0.049743  0.118161   \n",
       "\n",
       "                         Precision@10  Recall@10   NDCG@1    NDCG@5   NDCG@10  \\\n",
       "AlternatingLeastSquares      0.035223   0.161937  0.08392  0.057038  0.044345   \n",
       "\n",
       "                            MAP@1     MAP@5    MAP@10  MeanInvUserFreq@1  \\\n",
       "AlternatingLeastSquares  0.042552  0.071578  0.078454           3.487663   \n",
       "\n",
       "                         MeanInvUserFreq@5  MeanInvUserFreq@10  Serendipity@1  \\\n",
       "AlternatingLeastSquares            4.25787             4.99543       0.000037   \n",
       "\n",
       "                         Serendipity@5  Serendipity@10  \n",
       "AlternatingLeastSquares       0.000043        0.000047  "
      ]
     },
     "execution_count": 49,
     "metadata": {},
     "output_type": "execute_result"
    }
   ],
   "source": [
    "pd.DataFrame(metric_values_hot_test, index=['AlternatingLeastSquares'])"
   ]
  },
  {
   "cell_type": "markdown",
   "id": "037736c0-2e4a-409b-9803-0ed48192dffe",
   "metadata": {},
   "source": [
    "# Использовать метод приближенного поиска соседей для выдачи рекомендаций (пункт 2 задание 2) (3 балла)"
   ]
  },
  {
   "cell_type": "code",
   "execution_count": 50,
   "id": "9ea51b5f-dd5a-4916-b0d4-a8728e2124c1",
   "metadata": {},
   "outputs": [],
   "source": [
    "user_vectors, item_vectors = als_wrapper.get_vectors()"
   ]
  },
  {
   "cell_type": "code",
   "execution_count": 51,
   "id": "2604eb83-a794-4101-bfb0-c91a5da58287",
   "metadata": {},
   "outputs": [],
   "source": [
    "user_id_map = dataset_train.user_id_map\n",
    "item_id_map = dataset_train.item_id_map"
   ]
  },
  {
   "cell_type": "code",
   "execution_count": 52,
   "id": "218cd7e9-f355-4103-b43a-1027cd28d46c",
   "metadata": {},
   "outputs": [],
   "source": [
    "with open(\"user_id_map.pkl\", \"wb\") as file:\n",
    "    pickle.dump(dataset_train.user_id_map, file)"
   ]
  },
  {
   "cell_type": "code",
   "execution_count": 53,
   "id": "a3460c9d-3fa4-48fe-9312-6e2e863bb50f",
   "metadata": {},
   "outputs": [],
   "source": [
    "with open(\"item_id_map.pkl\", \"wb\") as file:\n",
    "    pickle.dump( dataset_train.item_id_map, file)"
   ]
  },
  {
   "cell_type": "code",
   "execution_count": 54,
   "id": "71bab6bc-158c-469f-8ba1-2defb067c3ad",
   "metadata": {},
   "outputs": [],
   "source": [
    "index_init_params = {\"method\": \"hnsw\", \"space\": \"negdotprod\", \"data_type\": nmslib.DataType.DENSE_VECTOR}"
   ]
  },
  {
   "cell_type": "code",
   "execution_count": 55,
   "id": "1ef7c146-8b8f-4b34-a09f-513875f52fb0",
   "metadata": {},
   "outputs": [],
   "source": [
    "ann = UserToItemAnnRecommender(user_vectors=user_vectors,\n",
    "                               item_vectors=item_vectors,\n",
    "                               user_id_map=user_id_map,\n",
    "                               item_id_map=item_id_map,\n",
    "                               index_init_params= index_init_params)"
   ]
  },
  {
   "cell_type": "code",
   "execution_count": 56,
   "id": "f5bba7ee-72f4-4c7e-9892-319a631d566f",
   "metadata": {},
   "outputs": [
    {
     "name": "stdout",
     "output_type": "stream",
     "text": [
      "CPU times: total: 234 ms\n",
      "Wall time: 532 ms\n"
     ]
    },
    {
     "data": {
      "text/plain": [
       "<rectools.tools.ann.UserToItemAnnRecommender at 0x1f19b6f9670>"
      ]
     },
     "execution_count": 56,
     "metadata": {},
     "output_type": "execute_result"
    }
   ],
   "source": [
    "%%time\n",
    "ann.fit()"
   ]
  },
  {
   "cell_type": "code",
   "execution_count": 57,
   "id": "f4c28b32-f985-4577-b381-e7e38a8bd227",
   "metadata": {},
   "outputs": [],
   "source": [
    "# ann.index.saveIndex(filename='ann_index.pkl')"
   ]
  },
  {
   "cell_type": "code",
   "execution_count": 58,
   "id": "2e22c294-6288-49c5-be9c-7d534e887b2c",
   "metadata": {},
   "outputs": [],
   "source": [
    "ann.index.loadIndex('ann_index.pkl')"
   ]
  },
  {
   "cell_type": "code",
   "execution_count": 59,
   "id": "e9d00fab-41da-4068-aff3-6503de844885",
   "metadata": {},
   "outputs": [
    {
     "data": {
      "text/plain": [
       "[13865, 9728, 3734, 10440, 15297, 12995, 4457, 8636, 11237, 4436]"
      ]
     },
     "execution_count": 59,
     "metadata": {},
     "output_type": "execute_result"
    }
   ],
   "source": [
    "ann.get_item_list_for_user(200197, top_n=10).tolist()"
   ]
  },
  {
   "cell_type": "code",
   "execution_count": 60,
   "id": "db544fe5-4663-4bc8-8a89-59bd97e689a7",
   "metadata": {},
   "outputs": [
    {
     "name": "stdout",
     "output_type": "stream",
     "text": [
      "CPU times: total: 375 ms\n",
      "Wall time: 235 ms\n"
     ]
    },
    {
     "data": {
      "text/plain": [
       "array([13865,  9728,  3734, 10440, 15297, 12995,  4457,  8636, 11237,\n",
       "        4436], dtype=int64)"
      ]
     },
     "execution_count": 60,
     "metadata": {},
     "output_type": "execute_result"
    }
   ],
   "source": [
    "%%time\n",
    "als_wrapper.recommend(users=[200197], dataset=dataset_train, k=10, filter_viewed=False).item_id.values"
   ]
  },
  {
   "cell_type": "code",
   "execution_count": 61,
   "id": "fabf59e1-e16b-4b0e-852c-a5ba402b93ac",
   "metadata": {},
   "outputs": [
    {
     "name": "stdout",
     "output_type": "stream",
     "text": [
      "CPU times: total: 56.5 s\n",
      "Wall time: 1min 5s\n"
     ]
    }
   ],
   "source": [
    "%%time\n",
    "recos_hot_ann = pd.DataFrame([hot_test_users,\n",
    "                              ann.get_item_list_for_user_batch(user_ids=hot_test_users,\n",
    "                                                               top_n=K_RECOS)]).T\n",
    "recos_hot_ann.columns = [Columns.User, Columns.Item]\n",
    "recos_hot_ann = recos_hot_ann.explode(Columns.Item)\n",
    "recos_hot_ann['score'] = 0\n",
    "recos_hot_ann['rank'] = recos_hot_ann.groupby('user_id').cumcount() + 1\n",
    "recos_hot_ann['score'] = K_RECOS - recos_hot_ann['rank']"
   ]
  },
  {
   "cell_type": "code",
   "execution_count": 62,
   "id": "daa40719-8ad0-4d9e-bbdf-a1cf4afd0ebf",
   "metadata": {},
   "outputs": [],
   "source": [
    "metric_values_hot_ann = calc_metrics(\n",
    "    metrics,\n",
    "    reco=recos_hot_ann,\n",
    "    interactions=hot_test,\n",
    "    prev_interactions=train,\n",
    "    catalog=catalog,\n",
    ")"
   ]
  },
  {
   "cell_type": "code",
   "execution_count": 63,
   "id": "f49143bb-0de2-438f-ae8a-be227e9e59d2",
   "metadata": {},
   "outputs": [
    {
     "data": {
      "text/html": [
       "<div>\n",
       "<style scoped>\n",
       "    .dataframe tbody tr th:only-of-type {\n",
       "        vertical-align: middle;\n",
       "    }\n",
       "\n",
       "    .dataframe tbody tr th {\n",
       "        vertical-align: top;\n",
       "    }\n",
       "\n",
       "    .dataframe thead th {\n",
       "        text-align: right;\n",
       "    }\n",
       "</style>\n",
       "<table border=\"1\" class=\"dataframe\">\n",
       "  <thead>\n",
       "    <tr style=\"text-align: right;\">\n",
       "      <th></th>\n",
       "      <th>Precision@1</th>\n",
       "      <th>Recall@1</th>\n",
       "      <th>Precision@5</th>\n",
       "      <th>Recall@5</th>\n",
       "      <th>Precision@10</th>\n",
       "      <th>Recall@10</th>\n",
       "      <th>NDCG@1</th>\n",
       "      <th>NDCG@5</th>\n",
       "      <th>NDCG@10</th>\n",
       "      <th>MAP@1</th>\n",
       "      <th>MAP@5</th>\n",
       "      <th>MAP@10</th>\n",
       "      <th>MeanInvUserFreq@1</th>\n",
       "      <th>MeanInvUserFreq@5</th>\n",
       "      <th>MeanInvUserFreq@10</th>\n",
       "      <th>Serendipity@1</th>\n",
       "      <th>Serendipity@5</th>\n",
       "      <th>Serendipity@10</th>\n",
       "    </tr>\n",
       "  </thead>\n",
       "  <tbody>\n",
       "    <tr>\n",
       "      <th>AlternatingLeastSquares + ANN</th>\n",
       "      <td>0.035007</td>\n",
       "      <td>0.016543</td>\n",
       "      <td>0.038371</td>\n",
       "      <td>0.09349</td>\n",
       "      <td>0.029209</td>\n",
       "      <td>0.136421</td>\n",
       "      <td>0.035007</td>\n",
       "      <td>0.038562</td>\n",
       "      <td>0.032129</td>\n",
       "      <td>0.016543</td>\n",
       "      <td>0.044085</td>\n",
       "      <td>0.050649</td>\n",
       "      <td>3.781641</td>\n",
       "      <td>4.229654</td>\n",
       "      <td>4.860103</td>\n",
       "      <td>0.000021</td>\n",
       "      <td>0.00003</td>\n",
       "      <td>0.000034</td>\n",
       "    </tr>\n",
       "  </tbody>\n",
       "</table>\n",
       "</div>"
      ],
      "text/plain": [
       "                               Precision@1  Recall@1  Precision@5  Recall@5  \\\n",
       "AlternatingLeastSquares + ANN     0.035007  0.016543     0.038371   0.09349   \n",
       "\n",
       "                               Precision@10  Recall@10    NDCG@1    NDCG@5  \\\n",
       "AlternatingLeastSquares + ANN      0.029209   0.136421  0.035007  0.038562   \n",
       "\n",
       "                                NDCG@10     MAP@1     MAP@5    MAP@10  \\\n",
       "AlternatingLeastSquares + ANN  0.032129  0.016543  0.044085  0.050649   \n",
       "\n",
       "                               MeanInvUserFreq@1  MeanInvUserFreq@5  \\\n",
       "AlternatingLeastSquares + ANN           3.781641           4.229654   \n",
       "\n",
       "                               MeanInvUserFreq@10  Serendipity@1  \\\n",
       "AlternatingLeastSquares + ANN            4.860103       0.000021   \n",
       "\n",
       "                               Serendipity@5  Serendipity@10  \n",
       "AlternatingLeastSquares + ANN        0.00003        0.000034  "
      ]
     },
     "execution_count": 63,
     "metadata": {},
     "output_type": "execute_result"
    }
   ],
   "source": [
    "pd.DataFrame(metric_values_hot_ann, index=['AlternatingLeastSquares + ANN'])"
   ]
  },
  {
   "cell_type": "markdown",
   "id": "d273eebf-57bb-4df4-bf3a-f4b8d3074dd4",
   "metadata": {},
   "source": [
    "## Сравнение производительности"
   ]
  },
  {
   "cell_type": "markdown",
   "id": "b396ae13-6135-4372-84cb-595ee61b9698",
   "metadata": {},
   "source": [
    "Рекомендации для тёплых юзеров с помощью ALS выдаются от 30 до 60 секунд\n",
    "\n",
    "Рекомендации для тёплых юзеров с помощью ALS + ANN выдаются порядка минуты\n",
    "\n",
    "Данное ухудшение производительности можно объяснить тем, что ALS использует все потоки, а ANN -- один поток, хотя у индекса nsmlib метод knnQueryBatch поумолчанию работает в многопоточном режиме, но при использовании обёртки ANN в rectools почему-то наблюдается использование одного потока (пытался вручную выставить num_threads в обёртке ANN в rectools, но производительность не изменилась)"
   ]
  },
  {
   "cell_type": "code",
   "execution_count": 64,
   "id": "19727d19-a351-481e-aba8-752e27418661",
   "metadata": {},
   "outputs": [
    {
     "name": "stdout",
     "output_type": "stream",
     "text": [
      "CPU times: total: 703 ms\n",
      "Wall time: 525 ms\n"
     ]
    }
   ],
   "source": [
    "%%time\n",
    "recos_hot = als_wrapper.recommend(users=hot_test_users[:100], dataset=dataset_train, k=10, filter_viewed=True)"
   ]
  },
  {
   "cell_type": "code",
   "execution_count": 65,
   "id": "92d4bc9b-11e9-42a0-9acc-f956506a1925",
   "metadata": {},
   "outputs": [
    {
     "name": "stdout",
     "output_type": "stream",
     "text": [
      "CPU times: total: 234 ms\n",
      "Wall time: 110 ms\n"
     ]
    }
   ],
   "source": [
    "%%time\n",
    "recos_hot_ann_test = pd.DataFrame([hot_test_users[:100],\n",
    "                              ann.get_item_list_for_user_batch(user_ids=hot_test_users[:100],\n",
    "                                                               top_n=K_RECOS)]).T\n",
    "recos_hot_ann_test.columns = [Columns.User, Columns.Item]\n",
    "recos_hot_ann_test = recos_hot_ann_test.explode(Columns.Item)\n",
    "recos_hot_ann_test['score'] = 0\n",
    "recos_hot_ann_test['rank'] = recos_hot_ann_test.groupby('user_id').cumcount() + 1\n",
    "recos_hot_ann_test['score'] = K_RECOS - recos_hot_ann_test['rank']"
   ]
  },
  {
   "cell_type": "markdown",
   "id": "123eadf3-a35a-4da7-829c-f6baec14a49f",
   "metadata": {},
   "source": [
    "Несмотря на проигрыш в множественной обработке, ANN быстрее работает с одиночными вызовами и малыми батчами\n",
    "\n",
    "Выдачу рекомендаций для 100 юзеров ANN отработал примерно в 4 раза быстрее ALS"
   ]
  },
  {
   "cell_type": "code",
   "execution_count": null,
   "id": "20da8c2f-bd2b-4f67-bd36-ea796c987e2a",
   "metadata": {},
   "outputs": [],
   "source": []
  }
 ],
 "metadata": {
  "kernelspec": {
   "display_name": "Python 3 (ipykernel)",
   "language": "python",
   "name": "python3"
  },
  "language_info": {
   "codemirror_mode": {
    "name": "ipython",
    "version": 3
   },
   "file_extension": ".py",
   "mimetype": "text/x-python",
   "name": "python",
   "nbconvert_exporter": "python",
   "pygments_lexer": "ipython3",
   "version": "3.9.18"
  }
 },
 "nbformat": 4,
 "nbformat_minor": 5
}
