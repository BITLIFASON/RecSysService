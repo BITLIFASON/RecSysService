{
 "cells": [
  {
   "cell_type": "markdown",
   "id": "30cb7527-71e7-4a14-a2d3-8275346ae1cd",
   "metadata": {},
   "source": [
    "# Конфигурация"
   ]
  },
  {
   "cell_type": "code",
   "execution_count": 1,
   "id": "fd78f78e-0729-4d77-bd75-489b758a5106",
   "metadata": {},
   "outputs": [],
   "source": [
    "import pickle\n",
    "\n",
    "import shap\n",
    "\n",
    "import pandas as pd\n",
    "import numpy as np\n",
    "\n",
    "from tqdm.auto import tqdm\n",
    "\n",
    "from implicit.cpu.als import AlternatingLeastSquares\n",
    "from rectools.models.implicit_als import ImplicitALSWrapperModel\n",
    "\n",
    "from sklearn.model_selection import train_test_split\n",
    "from sklearn.metrics import roc_auc_score\n",
    "\n",
    "from lightgbm import LGBMRanker\n",
    "\n",
    "import rectools \n",
    "from rectools import Columns\n",
    "from rectools.dataset import Interactions, Dataset\n",
    "from rectools.model_selection import TimeRangeSplitter\n",
    "from rectools.metrics import MAP, NDCG, Precision, Recall, MeanInvUserFreq, Serendipity, calc_metrics\n",
    "from rectools.tools.ann import UserToItemAnnRecommender"
   ]
  },
  {
   "cell_type": "code",
   "execution_count": 2,
   "id": "5e6728ee-1463-4fff-b3fc-27c56111de55",
   "metadata": {},
   "outputs": [],
   "source": [
    "K_RECOS = 10\n",
    "K_RECOS_BASE = 100\n",
    "RANDOM_SEED = 32\n",
    "\n",
    "np.random.seed(RANDOM_SEED)"
   ]
  },
  {
   "cell_type": "code",
   "execution_count": 3,
   "id": "72c6fd0f-0854-4408-8d31-66c808362600",
   "metadata": {},
   "outputs": [],
   "source": [
    "metrics = {'MAP@1': MAP(k=1), 'MAP@5': MAP(k=5), 'MAP@10': MAP(k=10),\n",
    "           'NDCG@1': NDCG(k=1), 'NDCG@5': NDCG(k=5), 'NDCG@10': NDCG(k=10),\n",
    "           'Precision@1': Precision(k=1), 'Precision@5': Precision(k=5), 'Precision@10': Precision(k=10),\n",
    "           'Recall@1': Recall(k=1), 'Recall@5': Recall(k=5), 'Recall@10': Recall(k=10),\n",
    "           'MeanInvUserFreq@1': MeanInvUserFreq(k=1), 'MeanInvUserFreq@5': MeanInvUserFreq(k=5), 'MeanInvUserFreq@10': MeanInvUserFreq(k=10),\n",
    "           'Serendipity@1': Serendipity(k=1), 'Serendipity@5': Serendipity(k=5), 'Serendipity@10': Serendipity(k=10)}"
   ]
  },
  {
   "cell_type": "code",
   "execution_count": 4,
   "id": "03fff117-1ec4-4293-9f05-44461332a376",
   "metadata": {},
   "outputs": [],
   "source": [
    "def calc_metrics_(candidates_df, rank_col: str):\n",
    "    metrics = {\n",
    "        'ndcg@10': NDCG(k = 10),\n",
    "        'map@10': MAP(k = 10),\n",
    "        'Precision@10': Precision(k = 10),\n",
    "        'recall@10': Recall(k = 10),\n",
    "        'novelty@10': MeanInvUserFreq(k = 10),\n",
    "    }\n",
    "    return calc_metrics(\n",
    "        metrics=metrics,\n",
    "        reco=(\n",
    "            candidates_df\n",
    "            .rename(columns={rank_col: Columns.Rank})\n",
    "            [[Columns.User, Columns.Item, Columns.Rank]]\n",
    "            [candidates_df[Columns.User].isin(test_users)]\n",
    "        ),\n",
    "        interactions=(\n",
    "            test\n",
    "            [[Columns.User, Columns.Item, Columns.Datetime, Columns.Weight]]\n",
    "            [test[Columns.User].isin(test_users)]\n",
    "        ), \n",
    "        prev_interactions=(\n",
    "            base_model_data\n",
    "            [[Columns.User, Columns.Item, Columns.Datetime, Columns.Weight]]\n",
    "            [base_model_data[Columns.User].isin(test_users)]\n",
    "        ),\n",
    "        catalog=items['item_id'].unique()\n",
    "    )"
   ]
  },
  {
   "cell_type": "code",
   "execution_count": 5,
   "id": "068d31d9-4548-4d02-9612-ecc67fbae294",
   "metadata": {},
   "outputs": [],
   "source": [
    "def avg_user_metric(\n",
    "        y_true,\n",
    "        y_pred,\n",
    "        user_ids,\n",
    "        metric_function,\n",
    ") -> float:\n",
    "    \"\"\"\n",
    "    Вычисляем метрику, усредненную по всем значимым (есть разные таргеты) группам.\n",
    "\n",
    "    :param y_true: список таргетов\n",
    "    :param y_pred: список предсказаний\n",
    "    :param user_ids: список групп (обычно это список user_id той же размерности, что и предсказания и таргеты)\n",
    "    :param metric_function: усредняемая метрика(y_true, y_pred) -> float\n",
    "    :return: значение метрики metric_function, усредненное по всем значимым группам\n",
    "    \"\"\"\n",
    "    avg_score: float = 0.\n",
    "\n",
    "    if len(y_pred) == len(y_true) == len(user_ids):\n",
    "        l_ind: int = 0\n",
    "        cur_group_id: int = user_ids[0] if len(user_ids) else 0\n",
    "        n_groups: int = 0\n",
    "        for r_ind, group_id in enumerate(user_ids):\n",
    "            if group_id != cur_group_id or r_ind == len(user_ids) - 1:\n",
    "                if r_ind == len(user_ids) - 1:\n",
    "                    r_ind += 1\n",
    "                # Если группа не состоит из одного и того же таргета - добавляем ее\n",
    "                try:\n",
    "                    group_true = y_true[l_ind: r_ind]\n",
    "                    if not np.all(group_true == group_true[0]):\n",
    "                        avg_score += metric_function(group_true, y_pred[l_ind: r_ind])\n",
    "                        n_groups += 1\n",
    "                    l_ind = r_ind\n",
    "                    cur_group_id = group_id\n",
    "                except Exception:\n",
    "                    print(group_true, y_pred[l_ind: r_ind])\n",
    "        avg_score /= max(1, n_groups)\n",
    "    else:\n",
    "        raise ValueError(f'Размерности не совпадают: '\n",
    "                         f'y_pred - {len(y_pred)}, y_true - {len(y_true)}, user_ids - {len(user_ids)}')\n",
    "    return avg_score"
   ]
  },
  {
   "cell_type": "markdown",
   "id": "7977735d-5b00-479d-abb4-f95724644a78",
   "metadata": {},
   "source": [
    "# Загрузка данных"
   ]
  },
  {
   "cell_type": "code",
   "execution_count": 6,
   "id": "429b5211-408d-41bc-8715-f3c241c49d81",
   "metadata": {},
   "outputs": [],
   "source": [
    "def headtail(df):\n",
    "    return pd.concat([df.head(), df.tail()])"
   ]
  },
  {
   "cell_type": "code",
   "execution_count": 7,
   "id": "21bfa42c-b8f9-4c9e-8cf8-e179134a9319",
   "metadata": {},
   "outputs": [],
   "source": [
    "interactions = pd.read_csv('data_original/interactions.csv', parse_dates=[\"last_watch_dt\"])"
   ]
  },
  {
   "cell_type": "code",
   "execution_count": 8,
   "id": "9f9f89d5-ecef-4562-bddd-f4fa32938d23",
   "metadata": {},
   "outputs": [],
   "source": [
    "interactions.dropna(inplace=True)"
   ]
  },
  {
   "cell_type": "code",
   "execution_count": 9,
   "id": "a105fec5-b370-418a-a3d8-9d05fcfa9938",
   "metadata": {},
   "outputs": [],
   "source": [
    "interactions.rename(\n",
    "    columns={\n",
    "        'last_watch_dt': Columns.Datetime,\n",
    "    }, \n",
    "    inplace=True)"
   ]
  },
  {
   "cell_type": "markdown",
   "id": "529447a5-bbf7-460f-842d-906ba4f9c4dc",
   "metadata": {},
   "source": [
    "Вычисление весов как индикаторов на основе процента просмотренного показывает результаты на тесте лучше, чем использование total_dur в качестве весов"
   ]
  },
  {
   "cell_type": "code",
   "execution_count": 10,
   "id": "15158e8a-13ae-4174-99d6-424525d6bef7",
   "metadata": {},
   "outputs": [],
   "source": [
    "interactions[Columns.Weight] = np.where(interactions['watched_pct'] > 10, 3, 1)"
   ]
  },
  {
   "cell_type": "code",
   "execution_count": 11,
   "id": "d0c1bb35-bf2a-4b87-9310-bea0453098c5",
   "metadata": {},
   "outputs": [],
   "source": [
    "interactions = Interactions(interactions)"
   ]
  },
  {
   "cell_type": "code",
   "execution_count": 12,
   "id": "55307b08-6cc0-473e-9ecc-f90364589e6e",
   "metadata": {},
   "outputs": [
    {
     "data": {
      "text/html": [
       "<div>\n",
       "<style scoped>\n",
       "    .dataframe tbody tr th:only-of-type {\n",
       "        vertical-align: middle;\n",
       "    }\n",
       "\n",
       "    .dataframe tbody tr th {\n",
       "        vertical-align: top;\n",
       "    }\n",
       "\n",
       "    .dataframe thead th {\n",
       "        text-align: right;\n",
       "    }\n",
       "</style>\n",
       "<table border=\"1\" class=\"dataframe\">\n",
       "  <thead>\n",
       "    <tr style=\"text-align: right;\">\n",
       "      <th></th>\n",
       "      <th>user_id</th>\n",
       "      <th>item_id</th>\n",
       "      <th>datetime</th>\n",
       "      <th>total_dur</th>\n",
       "      <th>watched_pct</th>\n",
       "      <th>weight</th>\n",
       "    </tr>\n",
       "  </thead>\n",
       "  <tbody>\n",
       "    <tr>\n",
       "      <th>0</th>\n",
       "      <td>176549</td>\n",
       "      <td>9506</td>\n",
       "      <td>2021-05-11</td>\n",
       "      <td>4250</td>\n",
       "      <td>72.0</td>\n",
       "      <td>3.0</td>\n",
       "    </tr>\n",
       "    <tr>\n",
       "      <th>1</th>\n",
       "      <td>699317</td>\n",
       "      <td>1659</td>\n",
       "      <td>2021-05-29</td>\n",
       "      <td>8317</td>\n",
       "      <td>100.0</td>\n",
       "      <td>3.0</td>\n",
       "    </tr>\n",
       "    <tr>\n",
       "      <th>2</th>\n",
       "      <td>656683</td>\n",
       "      <td>7107</td>\n",
       "      <td>2021-05-09</td>\n",
       "      <td>10</td>\n",
       "      <td>0.0</td>\n",
       "      <td>1.0</td>\n",
       "    </tr>\n",
       "    <tr>\n",
       "      <th>3</th>\n",
       "      <td>864613</td>\n",
       "      <td>7638</td>\n",
       "      <td>2021-07-05</td>\n",
       "      <td>14483</td>\n",
       "      <td>100.0</td>\n",
       "      <td>3.0</td>\n",
       "    </tr>\n",
       "    <tr>\n",
       "      <th>4</th>\n",
       "      <td>964868</td>\n",
       "      <td>9506</td>\n",
       "      <td>2021-04-30</td>\n",
       "      <td>6725</td>\n",
       "      <td>100.0</td>\n",
       "      <td>3.0</td>\n",
       "    </tr>\n",
       "    <tr>\n",
       "      <th>5476246</th>\n",
       "      <td>648596</td>\n",
       "      <td>12225</td>\n",
       "      <td>2021-08-13</td>\n",
       "      <td>76</td>\n",
       "      <td>0.0</td>\n",
       "      <td>1.0</td>\n",
       "    </tr>\n",
       "    <tr>\n",
       "      <th>5476247</th>\n",
       "      <td>546862</td>\n",
       "      <td>9673</td>\n",
       "      <td>2021-04-13</td>\n",
       "      <td>2308</td>\n",
       "      <td>49.0</td>\n",
       "      <td>3.0</td>\n",
       "    </tr>\n",
       "    <tr>\n",
       "      <th>5476248</th>\n",
       "      <td>697262</td>\n",
       "      <td>15297</td>\n",
       "      <td>2021-08-20</td>\n",
       "      <td>18307</td>\n",
       "      <td>63.0</td>\n",
       "      <td>3.0</td>\n",
       "    </tr>\n",
       "    <tr>\n",
       "      <th>5476249</th>\n",
       "      <td>384202</td>\n",
       "      <td>16197</td>\n",
       "      <td>2021-04-19</td>\n",
       "      <td>6203</td>\n",
       "      <td>100.0</td>\n",
       "      <td>3.0</td>\n",
       "    </tr>\n",
       "    <tr>\n",
       "      <th>5476250</th>\n",
       "      <td>319709</td>\n",
       "      <td>4436</td>\n",
       "      <td>2021-08-15</td>\n",
       "      <td>3921</td>\n",
       "      <td>45.0</td>\n",
       "      <td>3.0</td>\n",
       "    </tr>\n",
       "  </tbody>\n",
       "</table>\n",
       "</div>"
      ],
      "text/plain": [
       "         user_id  item_id   datetime  total_dur  watched_pct  weight\n",
       "0         176549     9506 2021-05-11       4250         72.0     3.0\n",
       "1         699317     1659 2021-05-29       8317        100.0     3.0\n",
       "2         656683     7107 2021-05-09         10          0.0     1.0\n",
       "3         864613     7638 2021-07-05      14483        100.0     3.0\n",
       "4         964868     9506 2021-04-30       6725        100.0     3.0\n",
       "5476246   648596    12225 2021-08-13         76          0.0     1.0\n",
       "5476247   546862     9673 2021-04-13       2308         49.0     3.0\n",
       "5476248   697262    15297 2021-08-20      18307         63.0     3.0\n",
       "5476249   384202    16197 2021-04-19       6203        100.0     3.0\n",
       "5476250   319709     4436 2021-08-15       3921         45.0     3.0"
      ]
     },
     "execution_count": 12,
     "metadata": {},
     "output_type": "execute_result"
    }
   ],
   "source": [
    "headtail(interactions.df)"
   ]
  },
  {
   "cell_type": "code",
   "execution_count": 13,
   "id": "70daa6f5-c53a-4eef-8d65-94f34dcd3112",
   "metadata": {},
   "outputs": [
    {
     "name": "stdout",
     "output_type": "stream",
     "text": [
      "<class 'pandas.core.frame.DataFrame'>\n",
      "Index: 5475423 entries, 0 to 5476250\n",
      "Data columns (total 6 columns):\n",
      " #   Column       Dtype         \n",
      "---  ------       -----         \n",
      " 0   user_id      int64         \n",
      " 1   item_id      int64         \n",
      " 2   datetime     datetime64[ns]\n",
      " 3   total_dur    int64         \n",
      " 4   watched_pct  float64       \n",
      " 5   weight       float64       \n",
      "dtypes: datetime64[ns](1), float64(2), int64(3)\n",
      "memory usage: 292.4 MB\n"
     ]
    }
   ],
   "source": [
    "interactions.df.info(memory_usage='deep')"
   ]
  },
  {
   "cell_type": "code",
   "execution_count": 14,
   "id": "d591b304-7365-45e7-9f2d-d859ba560427",
   "metadata": {},
   "outputs": [],
   "source": [
    "users = pd.read_csv('data_original/users.csv')\n",
    "items = pd.read_csv('data_original/items.csv')"
   ]
  },
  {
   "cell_type": "markdown",
   "id": "0864cfeb-99f7-43b0-9149-559b45b61f7e",
   "metadata": {},
   "source": [
    "# Подготовка данных"
   ]
  },
  {
   "cell_type": "code",
   "execution_count": 15,
   "id": "e0fec83b-2d43-44d4-b105-f58302a82f8f",
   "metadata": {},
   "outputs": [],
   "source": [
    "users = users[users.user_id.isin(interactions.df.user_id)].copy()"
   ]
  },
  {
   "cell_type": "code",
   "execution_count": 16,
   "id": "bc755767-983b-49a4-aa30-68cce6d3eb26",
   "metadata": {},
   "outputs": [],
   "source": [
    "items = items[items.item_id.isin(interactions.df.item_id)].copy()"
   ]
  },
  {
   "cell_type": "markdown",
   "id": "e33e5e02-48b4-4294-8d9c-d5156cee5301",
   "metadata": {},
   "source": [
    "Заполняем пропуски значением \"unknown\""
   ]
  },
  {
   "cell_type": "code",
   "execution_count": 17,
   "id": "f4eaf0da-d308-40c9-8509-87d3f3794676",
   "metadata": {},
   "outputs": [],
   "source": [
    "users.fillna('unknown', inplace=True)"
   ]
  },
  {
   "cell_type": "markdown",
   "id": "851342a1-521e-40ef-884b-6c0b5ab68cc6",
   "metadata": {},
   "source": [
    "Производится Leave-time-out разбиение -- последняя неделя на test, остальное на train"
   ]
  },
  {
   "cell_type": "code",
   "execution_count": 18,
   "id": "308b9f51-f41a-4a6c-af09-2fb608473428",
   "metadata": {},
   "outputs": [
    {
     "name": "stderr",
     "output_type": "stream",
     "text": [
      "\n",
      "A value is trying to be set on a copy of a slice from a DataFrame\n",
      "\n",
      "See the caveats in the documentation: https://pandas.pydata.org/pandas-docs/stable/user_guide/indexing.html#returning-a-view-versus-a-copy\n"
     ]
    },
    {
     "name": "stdout",
     "output_type": "stream",
     "text": [
      "train: (3832259, 6)\n",
      "hot test: (333022, 6)\n"
     ]
    }
   ],
   "source": [
    "max_date = interactions.df['datetime'].max()\n",
    "\n",
    "base_model_data = interactions.df[(interactions.df['datetime'] < max_date - pd.Timedelta(days=7))]\n",
    "base_model_data.drop(base_model_data.query(\"total_dur < 300\").index, inplace=True) # удаляем короткие айтемы\n",
    "base_users = base_model_data[Columns.User].unique()\n",
    "base_items = base_model_data[Columns.Item].unique()\n",
    "\n",
    "test = interactions.df[interactions.df['datetime'] >= max_date - pd.Timedelta(days=7)]\n",
    "base_test_users = test[Columns.User].unique()\n",
    "\n",
    "hot_test = test[test['user_id'].isin(base_model_data['user_id'].unique())]\n",
    "base_hot_test_users = hot_test[Columns.User].unique()\n",
    "\n",
    "train_size = 0.7\n",
    "val_size = 0.15\n",
    "test_size = 0.15\n",
    "\n",
    "train_val_users, test_users = train_test_split(\n",
    "    test['user_id'].unique(), random_state=RANDOM_SEED, test_size=test_size\n",
    ")\n",
    "\n",
    "train_users, val_users = train_test_split(\n",
    "    train_val_users, random_state=RANDOM_SEED, test_size=val_size / (train_size + val_size)  # 15% от общего размера\n",
    ")\n",
    "\n",
    "catalog = base_model_data[Columns.Item].unique()\n",
    "\n",
    "print(f\"train: {base_model_data.shape}\")\n",
    "print(f\"hot test: {hot_test.shape}\")"
   ]
  },
  {
   "cell_type": "code",
   "execution_count": 19,
   "id": "d0f724f8-ee9e-43f2-805d-079159299a54",
   "metadata": {},
   "outputs": [],
   "source": [
    "def encode_cat_cols(df: pd.DataFrame, cat_cols):\n",
    "    cat_col_encoding = {}  # словарь с категориями\n",
    "\n",
    "    # Тут мы могли бы заполнять пропуски как еще одну категорию,\n",
    "    # но они и так заполняются таким образом автоматически ниже\n",
    "    # default_values = {col: 'None' for col in cat_cols}\n",
    "    # df.fillna(default_values, inplace=True)\n",
    "\n",
    "    for col in cat_cols:\n",
    "        cat_col = df[col].astype('category').cat\n",
    "        cat_col_encoding[col] = cat_col.categories\n",
    "        df[col] = cat_col.codes.astype('category')\n",
    "    return df, cat_col_encoding"
   ]
  },
  {
   "cell_type": "markdown",
   "id": "56edef69-f89b-499e-b83b-bad83953636d",
   "metadata": {},
   "source": [
    "В качестве фичей юзеров были выбраны: возраст, доход, пол"
   ]
  },
  {
   "cell_type": "code",
   "execution_count": 20,
   "id": "642c3c55-6624-4632-9861-cd7bc2012c93",
   "metadata": {},
   "outputs": [],
   "source": [
    "user_features_names = [\"age\", \"income\", \"sex\", \"kids_flg\"]"
   ]
  },
  {
   "cell_type": "code",
   "execution_count": 21,
   "id": "29626cf7-7e56-48e7-b6a9-06b62a7e0136",
   "metadata": {},
   "outputs": [],
   "source": [
    "cat_user_features_names = [\"age\", \"income\", \"sex\", \"kids_flg\"]"
   ]
  },
  {
   "cell_type": "code",
   "execution_count": 22,
   "id": "88b33df1-ac7a-4adf-99e6-16c9bc048f12",
   "metadata": {},
   "outputs": [],
   "source": [
    "users, users_cat_col_encoding = encode_cat_cols(users, cat_user_features_names)"
   ]
  },
  {
   "cell_type": "code",
   "execution_count": 23,
   "id": "a68e30e0-c754-4c7e-877b-4c4ae46fb016",
   "metadata": {},
   "outputs": [],
   "source": [
    "user_features_frames = []\n",
    "for feature in user_features_names:\n",
    "    feature_frame = users.reindex(columns=[\"user_id\", feature])\n",
    "    feature_frame.columns = [\"id\", \"value\"]\n",
    "    feature_frame[\"feature\"] = feature\n",
    "    user_features_frames.append(feature_frame)\n",
    "user_features = pd.concat(user_features_frames)"
   ]
  },
  {
   "cell_type": "code",
   "execution_count": 24,
   "id": "e4d8820f-ad7d-46bd-b622-a0a8e60f76c1",
   "metadata": {},
   "outputs": [
    {
     "name": "stdout",
     "output_type": "stream",
     "text": [
      "Number user features: 19\n"
     ]
    }
   ],
   "source": [
    "print('Number user features:', user_features[['value', 'feature']].groupby('feature').nunique().sum().item())"
   ]
  },
  {
   "cell_type": "code",
   "execution_count": 25,
   "id": "5ea13171-354c-4946-b472-324d6b9dff6b",
   "metadata": {},
   "outputs": [
    {
     "data": {
      "text/html": [
       "<div>\n",
       "<style scoped>\n",
       "    .dataframe tbody tr th:only-of-type {\n",
       "        vertical-align: middle;\n",
       "    }\n",
       "\n",
       "    .dataframe tbody tr th {\n",
       "        vertical-align: top;\n",
       "    }\n",
       "\n",
       "    .dataframe thead th {\n",
       "        text-align: right;\n",
       "    }\n",
       "</style>\n",
       "<table border=\"1\" class=\"dataframe\">\n",
       "  <thead>\n",
       "    <tr style=\"text-align: right;\">\n",
       "      <th></th>\n",
       "      <th>user_id</th>\n",
       "      <th>age</th>\n",
       "      <th>income</th>\n",
       "      <th>sex</th>\n",
       "      <th>kids_flg</th>\n",
       "    </tr>\n",
       "  </thead>\n",
       "  <tbody>\n",
       "    <tr>\n",
       "      <th>0</th>\n",
       "      <td>973171</td>\n",
       "      <td>1</td>\n",
       "      <td>4</td>\n",
       "      <td>2</td>\n",
       "      <td>1</td>\n",
       "    </tr>\n",
       "    <tr>\n",
       "      <th>1</th>\n",
       "      <td>962099</td>\n",
       "      <td>0</td>\n",
       "      <td>2</td>\n",
       "      <td>2</td>\n",
       "      <td>0</td>\n",
       "    </tr>\n",
       "    <tr>\n",
       "      <th>3</th>\n",
       "      <td>721985</td>\n",
       "      <td>3</td>\n",
       "      <td>2</td>\n",
       "      <td>1</td>\n",
       "      <td>0</td>\n",
       "    </tr>\n",
       "    <tr>\n",
       "      <th>4</th>\n",
       "      <td>704055</td>\n",
       "      <td>2</td>\n",
       "      <td>4</td>\n",
       "      <td>1</td>\n",
       "      <td>0</td>\n",
       "    </tr>\n",
       "    <tr>\n",
       "      <th>5</th>\n",
       "      <td>1037719</td>\n",
       "      <td>3</td>\n",
       "      <td>4</td>\n",
       "      <td>2</td>\n",
       "      <td>0</td>\n",
       "    </tr>\n",
       "  </tbody>\n",
       "</table>\n",
       "</div>"
      ],
      "text/plain": [
       "   user_id age income sex kids_flg\n",
       "0   973171   1      4   2        1\n",
       "1   962099   0      2   2        0\n",
       "3   721985   3      2   1        0\n",
       "4   704055   2      4   1        0\n",
       "5  1037719   3      4   2        0"
      ]
     },
     "execution_count": 25,
     "metadata": {},
     "output_type": "execute_result"
    }
   ],
   "source": [
    "users.head()"
   ]
  },
  {
   "cell_type": "markdown",
   "id": "56678ef7-16ca-434f-8bc5-e750e5dc1681",
   "metadata": {},
   "source": [
    "В качестве фичей айтемов были выбраны: жанр, тип контента, диапазон даты выхода"
   ]
  },
  {
   "cell_type": "code",
   "execution_count": 26,
   "id": "415a9483-dc0e-41e2-b278-a66374f70ca0",
   "metadata": {},
   "outputs": [],
   "source": [
    "item_features_names = [\"year_bin\", \"genre\", \"content_type\"]"
   ]
  },
  {
   "cell_type": "code",
   "execution_count": 27,
   "id": "9eac0739-c997-4de7-9f83-8c81b6c12df4",
   "metadata": {},
   "outputs": [],
   "source": [
    "cat_item_features_names = [\"year_bin\", \"content_type\", \"genre\"]"
   ]
  },
  {
   "cell_type": "code",
   "execution_count": 28,
   "id": "365620fe-ace0-4621-b08f-952b1784676e",
   "metadata": {},
   "outputs": [],
   "source": [
    "items.release_year.fillna(items.release_year.median(), inplace=True)"
   ]
  },
  {
   "cell_type": "code",
   "execution_count": 29,
   "id": "5a17a5f0-ebef-4d4c-a182-60fd2c343d42",
   "metadata": {},
   "outputs": [],
   "source": [
    "YEAR_FROM = 1990\n",
    "STEP_SIZE = 5\n",
    "bins = [year for year in range(YEAR_FROM, int(items['release_year'].max()) + STEP_SIZE, STEP_SIZE)]\n",
    "bins = [int(items['release_year'].min())] + bins\n",
    "items['year_bin'] = pd.cut(items['release_year'],\n",
    "                           bins=bins, include_lowest=True)\n",
    "items['year_bin'] = items['year_bin'].astype('str')"
   ]
  },
  {
   "cell_type": "code",
   "execution_count": 30,
   "id": "234dd79b-8685-4ae7-80f8-2c74777e89fd",
   "metadata": {},
   "outputs": [],
   "source": [
    "year_feature = items.reindex(columns=[Columns.Item, \"year_bin\"])\n",
    "year_feature.columns = [\"id\", \"value\"]\n",
    "year_feature[\"feature\"] = \"year_bin\""
   ]
  },
  {
   "cell_type": "code",
   "execution_count": 31,
   "id": "eb836e12-a2f3-4f84-b081-f6e36ed3a0fa",
   "metadata": {},
   "outputs": [],
   "source": [
    "items[\"genre\"] = items[\"genres\"].str.lower().str.replace(\", \", \",\", regex=False).str.split(\",\")\n",
    "genre_feature = items[[\"item_id\", \"genre\"]].explode(\"genre\")\n",
    "genre_feature.columns = [\"id\", \"value\"]\n",
    "genre_feature[\"feature\"] = \"genre\""
   ]
  },
  {
   "cell_type": "code",
   "execution_count": 32,
   "id": "074e4da4-2585-416b-bf9a-d11264e0d74a",
   "metadata": {},
   "outputs": [],
   "source": [
    "content_feature = items.reindex(columns=[Columns.Item, \"content_type\"])\n",
    "content_feature.columns = [\"id\", \"value\"]\n",
    "content_feature[\"feature\"] = \"content_type\""
   ]
  },
  {
   "cell_type": "code",
   "execution_count": 33,
   "id": "5da284de-ec70-47ba-a7f9-3334dd53b96f",
   "metadata": {},
   "outputs": [],
   "source": [
    "item_features = pd.concat((year_feature, content_feature, genre_feature))"
   ]
  },
  {
   "cell_type": "code",
   "execution_count": 34,
   "id": "e253981d-0463-46d6-b641-42ffa454d7b2",
   "metadata": {},
   "outputs": [],
   "source": [
    "items, items_cat_col_encoding = encode_cat_cols(items, [feat for feat in cat_item_features_names if feat != \"genre\"])"
   ]
  },
  {
   "cell_type": "code",
   "execution_count": 35,
   "id": "1f20ba95-d930-4f5f-8548-182f9508a09a",
   "metadata": {},
   "outputs": [],
   "source": [
    "items = items.loc[:,items.columns.isin(['item_id']+[feat for feat in cat_item_features_names if feat != \"genre\"])].copy()"
   ]
  },
  {
   "cell_type": "code",
   "execution_count": 36,
   "id": "06b01059-c93b-472c-ba7e-4545bfbbd999",
   "metadata": {},
   "outputs": [
    {
     "name": "stdout",
     "output_type": "stream",
     "text": [
      "Number item features: 105\n"
     ]
    }
   ],
   "source": [
    "print('Number item features:', item_features.value.nunique())"
   ]
  },
  {
   "cell_type": "code",
   "execution_count": 37,
   "id": "57cd3d93-a567-4e67-9edf-a702277126c7",
   "metadata": {},
   "outputs": [
    {
     "data": {
      "text/html": [
       "<div>\n",
       "<style scoped>\n",
       "    .dataframe tbody tr th:only-of-type {\n",
       "        vertical-align: middle;\n",
       "    }\n",
       "\n",
       "    .dataframe tbody tr th {\n",
       "        vertical-align: top;\n",
       "    }\n",
       "\n",
       "    .dataframe thead th {\n",
       "        text-align: right;\n",
       "    }\n",
       "</style>\n",
       "<table border=\"1\" class=\"dataframe\">\n",
       "  <thead>\n",
       "    <tr style=\"text-align: right;\">\n",
       "      <th></th>\n",
       "      <th>item_id</th>\n",
       "      <th>content_type</th>\n",
       "      <th>year_bin</th>\n",
       "    </tr>\n",
       "  </thead>\n",
       "  <tbody>\n",
       "    <tr>\n",
       "      <th>0</th>\n",
       "      <td>10711</td>\n",
       "      <td>0</td>\n",
       "      <td>3</td>\n",
       "    </tr>\n",
       "    <tr>\n",
       "      <th>1</th>\n",
       "      <td>2508</td>\n",
       "      <td>0</td>\n",
       "      <td>5</td>\n",
       "    </tr>\n",
       "    <tr>\n",
       "      <th>2</th>\n",
       "      <td>10716</td>\n",
       "      <td>0</td>\n",
       "      <td>5</td>\n",
       "    </tr>\n",
       "    <tr>\n",
       "      <th>3</th>\n",
       "      <td>7868</td>\n",
       "      <td>0</td>\n",
       "      <td>5</td>\n",
       "    </tr>\n",
       "    <tr>\n",
       "      <th>4</th>\n",
       "      <td>16268</td>\n",
       "      <td>0</td>\n",
       "      <td>0</td>\n",
       "    </tr>\n",
       "  </tbody>\n",
       "</table>\n",
       "</div>"
      ],
      "text/plain": [
       "   item_id content_type year_bin\n",
       "0    10711            0        3\n",
       "1     2508            0        5\n",
       "2    10716            0        5\n",
       "3     7868            0        5\n",
       "4    16268            0        0"
      ]
     },
     "execution_count": 37,
     "metadata": {},
     "output_type": "execute_result"
    }
   ],
   "source": [
    "items.head()"
   ]
  },
  {
   "cell_type": "markdown",
   "id": "d6ae8ae0-2eb8-44c1-b8cc-7cb26cc8b076",
   "metadata": {},
   "source": [
    "В датасет были включены фичи юзеров и айтемов"
   ]
  },
  {
   "cell_type": "code",
   "execution_count": 38,
   "id": "7b393568-1b9a-4d3f-b580-17be21ff6a5e",
   "metadata": {},
   "outputs": [],
   "source": [
    "dataset_base = Dataset.construct(\n",
    "    interactions_df=base_model_data,\n",
    "    user_features_df=user_features[user_features.id.isin(base_users)],\n",
    "    cat_user_features=user_features_names,\n",
    "    item_features_df=item_features[item_features.id.isin(base_items)],\n",
    "    cat_item_features=cat_item_features_names\n",
    ")"
   ]
  },
  {
   "cell_type": "markdown",
   "id": "e99dd414-29cd-4f97-bc27-86502a73a494",
   "metadata": {},
   "source": [
    "# Обучение модели первого уровня"
   ]
  },
  {
   "cell_type": "markdown",
   "id": "9a58b46f-28db-489a-a1b1-2ec36b0b89a8",
   "metadata": {},
   "source": [
    "В качестве модели первого уровня была выбрана ALS из домашнего задания 4"
   ]
  },
  {
   "cell_type": "code",
   "execution_count": 39,
   "id": "90325cca-f04e-4ec9-b08d-cc5b939bad05",
   "metadata": {},
   "outputs": [],
   "source": [
    "N_FACTORS = 128\n",
    "REG = 0.5\n",
    "ALPHA = 10\n",
    "NUM_THREADS = 12\n",
    "ITERATIONS = 10"
   ]
  },
  {
   "cell_type": "code",
   "execution_count": 40,
   "id": "fbcc8387-81f7-4a8a-9774-302c2d5c2920",
   "metadata": {},
   "outputs": [
    {
     "name": "stderr",
     "output_type": "stream",
     "text": [
      "OpenBLAS is configured to use 12 threads. It is highly recommended to disable its internal threadpool by setting the environment variable 'OPENBLAS_NUM_THREADS=1' or by calling 'threadpoolctl.threadpool_limits(1, \"blas\")'. Having OpenBLAS use a threadpool can lead to severe performance issues here.\n",
      "Intel MKL BLAS is configured to use 6 threads. It is highly recommended to disable its internal threadpool by setting the environment variable 'MKL_NUM_THREADS=1' or by callng 'threadpoolctl.threadpool_limits(1, \"blas\")'. Having MKL use a threadpool can lead to severe performance issues\n"
     ]
    }
   ],
   "source": [
    "als = AlternatingLeastSquares(factors=N_FACTORS,\n",
    "                              regularization=REG,\n",
    "                              alpha=ALPHA,\n",
    "                              num_threads=NUM_THREADS,\n",
    "                              random_state=RANDOM_SEED,\n",
    "                              iterations=ITERATIONS)"
   ]
  },
  {
   "cell_type": "code",
   "execution_count": 41,
   "id": "d1ce9b07-dee3-48c2-aef3-175209fa9a12",
   "metadata": {},
   "outputs": [],
   "source": [
    "als_wrapper = ImplicitALSWrapperModel(model=als,\n",
    "                                      verbose=1,\n",
    "                                      fit_features_together=True)"
   ]
  },
  {
   "cell_type": "code",
   "execution_count": 42,
   "id": "c1d1f5e1-3d9f-48c4-a729-47d7164dbaec",
   "metadata": {},
   "outputs": [
    {
     "name": "stderr",
     "output_type": "stream",
     "text": [
      "Converting sparse features to dense array may cause MemoryError\n"
     ]
    },
    {
     "data": {
      "application/vnd.jupyter.widget-view+json": {
       "model_id": "61fbd8d6e39f468790bb70c8a5afec4d",
       "version_major": 2,
       "version_minor": 0
      },
      "text/plain": [
       "  0%|          | 0/10 [00:00<?, ?it/s]"
      ]
     },
     "metadata": {},
     "output_type": "display_data"
    },
    {
     "name": "stdout",
     "output_type": "stream",
     "text": [
      "CPU times: total: 5min 45s\n",
      "Wall time: 33.5 s\n"
     ]
    },
    {
     "data": {
      "text/plain": [
       "<rectools.models.implicit_als.ImplicitALSWrapperModel at 0x2377b16d940>"
      ]
     },
     "execution_count": 42,
     "metadata": {},
     "output_type": "execute_result"
    }
   ],
   "source": [
    "%%time\n",
    "als_wrapper.fit(dataset_base)"
   ]
  },
  {
   "cell_type": "code",
   "execution_count": 43,
   "id": "42bddd15-03a6-409a-a372-f4b9e8b45c64",
   "metadata": {},
   "outputs": [],
   "source": [
    "# with open(\"als_wrapper.pkl\", \"wb\") as file:\n",
    "#     pickle.dump(als_wrapper, file)"
   ]
  },
  {
   "cell_type": "code",
   "execution_count": 44,
   "id": "3c97c6fe-7c1b-4a9b-b994-3f0fcf4ba230",
   "metadata": {},
   "outputs": [],
   "source": [
    "with open(\"als_wrapper.pkl\", \"rb\") as file:\n",
    "    als_wrapper = pickle.load(file)"
   ]
  },
  {
   "cell_type": "code",
   "execution_count": 61,
   "id": "f23eef98-98c0-4d4f-9100-2fdf6dcbf439",
   "metadata": {},
   "outputs": [
    {
     "name": "stdout",
     "output_type": "stream",
     "text": [
      "CPU times: total: 15min 29s\n",
      "Wall time: 9min 57s\n"
     ]
    }
   ],
   "source": [
    "%%time\n",
    "candidates = als_wrapper.recommend(users=base_users, dataset=dataset_base, k=100, filter_viewed=False)"
   ]
  },
  {
   "cell_type": "code",
   "execution_count": 111,
   "id": "b98b0ccf-d25c-4589-b802-062e4eb2791f",
   "metadata": {},
   "outputs": [],
   "source": [
    "candidates.rename(columns={'score':'als_score', 'rank':'als_rank'}, inplace=True)"
   ]
  },
  {
   "cell_type": "code",
   "execution_count": 113,
   "id": "93891a38-be04-414b-841d-1cdb57900423",
   "metadata": {},
   "outputs": [],
   "source": [
    "# candidates.to_csv('candidates.csv', index=False)"
   ]
  },
  {
   "cell_type": "code",
   "execution_count": 41,
   "id": "c638177b-f397-4cdc-9c5f-b1b5b987697d",
   "metadata": {},
   "outputs": [],
   "source": [
    "candidates = pd.read_csv('candidates.csv')"
   ]
  },
  {
   "cell_type": "code",
   "execution_count": 42,
   "id": "681f017e-5391-4ded-901c-2b8be2ad69c9",
   "metadata": {},
   "outputs": [
    {
     "data": {
      "text/html": [
       "<div>\n",
       "<style scoped>\n",
       "    .dataframe tbody tr th:only-of-type {\n",
       "        vertical-align: middle;\n",
       "    }\n",
       "\n",
       "    .dataframe tbody tr th {\n",
       "        vertical-align: top;\n",
       "    }\n",
       "\n",
       "    .dataframe thead th {\n",
       "        text-align: right;\n",
       "    }\n",
       "</style>\n",
       "<table border=\"1\" class=\"dataframe\">\n",
       "  <thead>\n",
       "    <tr style=\"text-align: right;\">\n",
       "      <th></th>\n",
       "      <th>user_id</th>\n",
       "      <th>item_id</th>\n",
       "      <th>als_score</th>\n",
       "      <th>als_rank</th>\n",
       "    </tr>\n",
       "  </thead>\n",
       "  <tbody>\n",
       "    <tr>\n",
       "      <th>0</th>\n",
       "      <td>176549</td>\n",
       "      <td>13018</td>\n",
       "      <td>1.224283</td>\n",
       "      <td>1</td>\n",
       "    </tr>\n",
       "    <tr>\n",
       "      <th>1</th>\n",
       "      <td>176549</td>\n",
       "      <td>9728</td>\n",
       "      <td>1.192740</td>\n",
       "      <td>2</td>\n",
       "    </tr>\n",
       "    <tr>\n",
       "      <th>2</th>\n",
       "      <td>176549</td>\n",
       "      <td>14317</td>\n",
       "      <td>1.077546</td>\n",
       "      <td>3</td>\n",
       "    </tr>\n",
       "    <tr>\n",
       "      <th>3</th>\n",
       "      <td>176549</td>\n",
       "      <td>16166</td>\n",
       "      <td>1.075970</td>\n",
       "      <td>4</td>\n",
       "    </tr>\n",
       "    <tr>\n",
       "      <th>4</th>\n",
       "      <td>176549</td>\n",
       "      <td>10761</td>\n",
       "      <td>1.059111</td>\n",
       "      <td>5</td>\n",
       "    </tr>\n",
       "  </tbody>\n",
       "</table>\n",
       "</div>"
      ],
      "text/plain": [
       "   user_id  item_id  als_score  als_rank\n",
       "0   176549    13018   1.224283         1\n",
       "1   176549     9728   1.192740         2\n",
       "2   176549    14317   1.077546         3\n",
       "3   176549    16166   1.075970         4\n",
       "4   176549    10761   1.059111         5"
      ]
     },
     "execution_count": 42,
     "metadata": {},
     "output_type": "execute_result"
    }
   ],
   "source": [
    "candidates.head()"
   ]
  },
  {
   "cell_type": "code",
   "execution_count": 47,
   "id": "7e439519-a365-4ce0-aa3c-fa4b500ed8ce",
   "metadata": {},
   "outputs": [],
   "source": [
    "models_metrics = dict()"
   ]
  },
  {
   "cell_type": "code",
   "execution_count": 48,
   "id": "a1fe3ee0-872d-464d-a32c-2df1c5a6bf5a",
   "metadata": {},
   "outputs": [],
   "source": [
    "models_metrics['ALS'] = calc_metrics_(candidates, 'als_rank')"
   ]
  },
  {
   "cell_type": "code",
   "execution_count": 49,
   "id": "042d3698-2b47-490a-b82a-9196f583b2df",
   "metadata": {},
   "outputs": [
    {
     "data": {
      "text/html": [
       "<div>\n",
       "<style scoped>\n",
       "    .dataframe tbody tr th:only-of-type {\n",
       "        vertical-align: middle;\n",
       "    }\n",
       "\n",
       "    .dataframe tbody tr th {\n",
       "        vertical-align: top;\n",
       "    }\n",
       "\n",
       "    .dataframe thead th {\n",
       "        text-align: right;\n",
       "    }\n",
       "</style>\n",
       "<table border=\"1\" class=\"dataframe\">\n",
       "  <thead>\n",
       "    <tr style=\"text-align: right;\">\n",
       "      <th></th>\n",
       "      <th>ALS</th>\n",
       "    </tr>\n",
       "  </thead>\n",
       "  <tbody>\n",
       "    <tr>\n",
       "      <th>Precision@10</th>\n",
       "      <td>0.018095</td>\n",
       "    </tr>\n",
       "    <tr>\n",
       "      <th>map@10</th>\n",
       "      <td>0.032450</td>\n",
       "    </tr>\n",
       "    <tr>\n",
       "      <th>ndcg@10</th>\n",
       "      <td>0.020471</td>\n",
       "    </tr>\n",
       "    <tr>\n",
       "      <th>novelty@10</th>\n",
       "      <td>3.818135</td>\n",
       "    </tr>\n",
       "    <tr>\n",
       "      <th>recall@10</th>\n",
       "      <td>0.084091</td>\n",
       "    </tr>\n",
       "  </tbody>\n",
       "</table>\n",
       "</div>"
      ],
      "text/plain": [
       "                   ALS\n",
       "Precision@10  0.018095\n",
       "map@10        0.032450\n",
       "ndcg@10       0.020471\n",
       "novelty@10    3.818135\n",
       "recall@10     0.084091"
      ]
     },
     "execution_count": 49,
     "metadata": {},
     "output_type": "execute_result"
    }
   ],
   "source": [
    "pd.DataFrame(models_metrics)"
   ]
  },
  {
   "cell_type": "markdown",
   "id": "376f0525-fc72-4c93-9abd-14764e91062e",
   "metadata": {},
   "source": [
    "# Подготовка данных для модели второго уровня"
   ]
  },
  {
   "cell_type": "code",
   "execution_count": 43,
   "id": "172ac674-b20e-4fb1-a0c4-a1168a075bf9",
   "metadata": {},
   "outputs": [
    {
     "name": "stderr",
     "output_type": "stream",
     "text": [
      "\n",
      "A value is trying to be set on a copy of a slice from a DataFrame.\n",
      "Try using .loc[row_indexer,col_indexer] = value instead\n",
      "\n",
      "See the caveats in the documentation: https://pandas.pydata.org/pandas-docs/stable/user_guide/indexing.html#returning-a-view-versus-a-copy\n",
      "\n",
      "A value is trying to be set on a copy of a slice from a DataFrame.\n",
      "Try using .loc[row_indexer,col_indexer] = value instead\n",
      "\n",
      "See the caveats in the documentation: https://pandas.pydata.org/pandas-docs/stable/user_guide/indexing.html#returning-a-view-versus-a-copy\n",
      "\n",
      "A value is trying to be set on a copy of a slice from a DataFrame.\n",
      "Try using .loc[row_indexer,col_indexer] = value instead\n",
      "\n",
      "See the caveats in the documentation: https://pandas.pydata.org/pandas-docs/stable/user_guide/indexing.html#returning-a-view-versus-a-copy\n",
      "\n",
      "A value is trying to be set on a copy of a slice from a DataFrame.\n",
      "Try using .loc[row_indexer,col_indexer] = value instead\n",
      "\n",
      "See the caveats in the documentation: https://pandas.pydata.org/pandas-docs/stable/user_guide/indexing.html#returning-a-view-versus-a-copy\n",
      "\n",
      "A value is trying to be set on a copy of a slice from a DataFrame\n",
      "\n",
      "See the caveats in the documentation: https://pandas.pydata.org/pandas-docs/stable/user_guide/indexing.html#returning-a-view-versus-a-copy\n",
      "\n",
      "A value is trying to be set on a copy of a slice from a DataFrame.\n",
      "Try using .loc[row_indexer,col_indexer] = value instead\n",
      "\n",
      "See the caveats in the documentation: https://pandas.pydata.org/pandas-docs/stable/user_guide/indexing.html#returning-a-view-versus-a-copy\n"
     ]
    }
   ],
   "source": [
    "# Получаем длину истории юзера\n",
    "base_model_data['user_hist'] = (\n",
    "    base_model_data.groupby('user_id')\n",
    "    ['item_id'].transform('count')\n",
    ")\n",
    "\n",
    "# Получаем популярность контента\n",
    "base_model_data['item_pop'] = (\n",
    "    base_model_data.groupby('item_id')\n",
    "    ['user_id'].transform('count')\n",
    ")\n",
    "\n",
    "# Получаем среднюю популярность контента, просматриваемого этим юзером\n",
    "base_model_data['user_avg_pop'] = (\n",
    "    base_model_data.groupby('user_id')\n",
    "    ['item_pop'].transform('mean')\n",
    ")\n",
    "\n",
    "# Получаем среднюю длину истории пользователя, которые смотрит этот контент\n",
    "base_model_data['item_avg_hist'] = (\n",
    "    base_model_data.groupby('item_id')\n",
    "    ['user_hist'].transform('mean')\n",
    ")\n",
    "\n",
    "# Получаем популярность последнего просмотренного контента\n",
    "base_model_data.sort_values(\n",
    "    by=[Columns.User, Columns.Datetime], \n",
    "    ascending=[True, False], \n",
    "    ignore_index=True,\n",
    "    inplace=True,\n",
    ")\n",
    "\n",
    "base_model_data['user_last_pop'] = (\n",
    "    base_model_data.groupby('user_id')\n",
    "    ['item_pop'].transform('first')\n",
    ")"
   ]
  },
  {
   "cell_type": "code",
   "execution_count": 44,
   "id": "87edee25-5b09-4bea-9f77-b599b607b41d",
   "metadata": {},
   "outputs": [
    {
     "data": {
      "text/html": [
       "<div>\n",
       "<style scoped>\n",
       "    .dataframe tbody tr th:only-of-type {\n",
       "        vertical-align: middle;\n",
       "    }\n",
       "\n",
       "    .dataframe tbody tr th {\n",
       "        vertical-align: top;\n",
       "    }\n",
       "\n",
       "    .dataframe thead th {\n",
       "        text-align: right;\n",
       "    }\n",
       "</style>\n",
       "<table border=\"1\" class=\"dataframe\">\n",
       "  <thead>\n",
       "    <tr style=\"text-align: right;\">\n",
       "      <th></th>\n",
       "      <th>user_id</th>\n",
       "      <th>item_id</th>\n",
       "      <th>datetime</th>\n",
       "      <th>total_dur</th>\n",
       "      <th>watched_pct</th>\n",
       "      <th>weight</th>\n",
       "      <th>user_hist</th>\n",
       "      <th>item_pop</th>\n",
       "      <th>user_avg_pop</th>\n",
       "      <th>item_avg_hist</th>\n",
       "      <th>user_last_pop</th>\n",
       "    </tr>\n",
       "  </thead>\n",
       "  <tbody>\n",
       "    <tr>\n",
       "      <th>0</th>\n",
       "      <td>0</td>\n",
       "      <td>15297</td>\n",
       "      <td>2021-07-19</td>\n",
       "      <td>459</td>\n",
       "      <td>0.0</td>\n",
       "      <td>1.0</td>\n",
       "      <td>1</td>\n",
       "      <td>158315</td>\n",
       "      <td>158315.000000</td>\n",
       "      <td>6.998566</td>\n",
       "      <td>158315</td>\n",
       "    </tr>\n",
       "    <tr>\n",
       "      <th>1</th>\n",
       "      <td>1</td>\n",
       "      <td>10440</td>\n",
       "      <td>2021-08-13</td>\n",
       "      <td>19579</td>\n",
       "      <td>80.0</td>\n",
       "      <td>3.0</td>\n",
       "      <td>1</td>\n",
       "      <td>159230</td>\n",
       "      <td>159230.000000</td>\n",
       "      <td>7.490649</td>\n",
       "      <td>159230</td>\n",
       "    </tr>\n",
       "    <tr>\n",
       "      <th>2</th>\n",
       "      <td>2</td>\n",
       "      <td>16029</td>\n",
       "      <td>2021-06-26</td>\n",
       "      <td>5453</td>\n",
       "      <td>100.0</td>\n",
       "      <td>3.0</td>\n",
       "      <td>45</td>\n",
       "      <td>1116</td>\n",
       "      <td>3045.444444</td>\n",
       "      <td>27.879032</td>\n",
       "      <td>1116</td>\n",
       "    </tr>\n",
       "    <tr>\n",
       "      <th>3</th>\n",
       "      <td>2</td>\n",
       "      <td>13867</td>\n",
       "      <td>2021-06-24</td>\n",
       "      <td>5658</td>\n",
       "      <td>100.0</td>\n",
       "      <td>3.0</td>\n",
       "      <td>45</td>\n",
       "      <td>1954</td>\n",
       "      <td>3045.444444</td>\n",
       "      <td>25.355169</td>\n",
       "      <td>1116</td>\n",
       "    </tr>\n",
       "    <tr>\n",
       "      <th>4</th>\n",
       "      <td>2</td>\n",
       "      <td>9164</td>\n",
       "      <td>2021-06-23</td>\n",
       "      <td>6650</td>\n",
       "      <td>100.0</td>\n",
       "      <td>3.0</td>\n",
       "      <td>45</td>\n",
       "      <td>3030</td>\n",
       "      <td>3045.444444</td>\n",
       "      <td>22.819142</td>\n",
       "      <td>1116</td>\n",
       "    </tr>\n",
       "  </tbody>\n",
       "</table>\n",
       "</div>"
      ],
      "text/plain": [
       "   user_id  item_id   datetime  total_dur  watched_pct  weight  user_hist  \\\n",
       "0        0    15297 2021-07-19        459          0.0     1.0          1   \n",
       "1        1    10440 2021-08-13      19579         80.0     3.0          1   \n",
       "2        2    16029 2021-06-26       5453        100.0     3.0         45   \n",
       "3        2    13867 2021-06-24       5658        100.0     3.0         45   \n",
       "4        2     9164 2021-06-23       6650        100.0     3.0         45   \n",
       "\n",
       "   item_pop   user_avg_pop  item_avg_hist  user_last_pop  \n",
       "0    158315  158315.000000       6.998566         158315  \n",
       "1    159230  159230.000000       7.490649         159230  \n",
       "2      1116    3045.444444      27.879032           1116  \n",
       "3      1954    3045.444444      25.355169           1116  \n",
       "4      3030    3045.444444      22.819142           1116  "
      ]
     },
     "execution_count": 44,
     "metadata": {},
     "output_type": "execute_result"
    }
   ],
   "source": [
    "base_model_data.head()"
   ]
  },
  {
   "cell_type": "code",
   "execution_count": 45,
   "id": "e617d1b3-dffd-4616-905b-90c6df6d1f5c",
   "metadata": {},
   "outputs": [],
   "source": [
    "# Добавляем новые фичи в соответствующие таблицы\n",
    "\n",
    "items = pd.merge(\n",
    "    left=items, \n",
    "    right=(\n",
    "        base_model_data\n",
    "        [['item_id', 'item_pop', 'item_avg_hist']]\n",
    "        .drop_duplicates()\n",
    "    ),\n",
    "    how='left',\n",
    "    on='item_id',\n",
    ")\n",
    "\n",
    "users = pd.merge(\n",
    "    left=users, \n",
    "    right=(\n",
    "        base_model_data\n",
    "        [['user_id', 'user_hist', 'user_avg_pop', 'user_last_pop']]\n",
    "        .drop_duplicates()\n",
    "    ),\n",
    "    how='left',\n",
    "    on='user_id',\n",
    ")"
   ]
  },
  {
   "cell_type": "code",
   "execution_count": 46,
   "id": "18c780ca-8675-444d-a3e9-46c16debb471",
   "metadata": {},
   "outputs": [
    {
     "data": {
      "text/html": [
       "<div>\n",
       "<style scoped>\n",
       "    .dataframe tbody tr th:only-of-type {\n",
       "        vertical-align: middle;\n",
       "    }\n",
       "\n",
       "    .dataframe tbody tr th {\n",
       "        vertical-align: top;\n",
       "    }\n",
       "\n",
       "    .dataframe thead th {\n",
       "        text-align: right;\n",
       "    }\n",
       "</style>\n",
       "<table border=\"1\" class=\"dataframe\">\n",
       "  <thead>\n",
       "    <tr style=\"text-align: right;\">\n",
       "      <th></th>\n",
       "      <th>item_id</th>\n",
       "      <th>content_type</th>\n",
       "      <th>year_bin</th>\n",
       "      <th>item_pop</th>\n",
       "      <th>item_avg_hist</th>\n",
       "    </tr>\n",
       "  </thead>\n",
       "  <tbody>\n",
       "    <tr>\n",
       "      <th>0</th>\n",
       "      <td>10711</td>\n",
       "      <td>0</td>\n",
       "      <td>3</td>\n",
       "      <td>3.0</td>\n",
       "      <td>87.000000</td>\n",
       "    </tr>\n",
       "    <tr>\n",
       "      <th>1</th>\n",
       "      <td>2508</td>\n",
       "      <td>0</td>\n",
       "      <td>5</td>\n",
       "      <td>7.0</td>\n",
       "      <td>27.000000</td>\n",
       "    </tr>\n",
       "    <tr>\n",
       "      <th>2</th>\n",
       "      <td>10716</td>\n",
       "      <td>0</td>\n",
       "      <td>5</td>\n",
       "      <td>6.0</td>\n",
       "      <td>55.333333</td>\n",
       "    </tr>\n",
       "  </tbody>\n",
       "</table>\n",
       "</div>"
      ],
      "text/plain": [
       "   item_id content_type year_bin  item_pop  item_avg_hist\n",
       "0    10711            0        3       3.0      87.000000\n",
       "1     2508            0        5       7.0      27.000000\n",
       "2    10716            0        5       6.0      55.333333"
      ]
     },
     "execution_count": 46,
     "metadata": {},
     "output_type": "execute_result"
    }
   ],
   "source": [
    "items.head(3)"
   ]
  },
  {
   "cell_type": "code",
   "execution_count": 120,
   "id": "f103d433-80f2-4d64-a82c-e883eadc5376",
   "metadata": {},
   "outputs": [],
   "source": [
    "# items.to_csv('items_processed.csv', index=False)"
   ]
  },
  {
   "cell_type": "code",
   "execution_count": 47,
   "id": "7d993d2c-1e56-4f9d-af2e-fb398458ca8e",
   "metadata": {},
   "outputs": [
    {
     "data": {
      "text/html": [
       "<div>\n",
       "<style scoped>\n",
       "    .dataframe tbody tr th:only-of-type {\n",
       "        vertical-align: middle;\n",
       "    }\n",
       "\n",
       "    .dataframe tbody tr th {\n",
       "        vertical-align: top;\n",
       "    }\n",
       "\n",
       "    .dataframe thead th {\n",
       "        text-align: right;\n",
       "    }\n",
       "</style>\n",
       "<table border=\"1\" class=\"dataframe\">\n",
       "  <thead>\n",
       "    <tr style=\"text-align: right;\">\n",
       "      <th></th>\n",
       "      <th>user_id</th>\n",
       "      <th>age</th>\n",
       "      <th>income</th>\n",
       "      <th>sex</th>\n",
       "      <th>kids_flg</th>\n",
       "      <th>user_hist</th>\n",
       "      <th>user_avg_pop</th>\n",
       "      <th>user_last_pop</th>\n",
       "    </tr>\n",
       "  </thead>\n",
       "  <tbody>\n",
       "    <tr>\n",
       "      <th>0</th>\n",
       "      <td>973171</td>\n",
       "      <td>1</td>\n",
       "      <td>4</td>\n",
       "      <td>2</td>\n",
       "      <td>1</td>\n",
       "      <td>4.0</td>\n",
       "      <td>1134.250000</td>\n",
       "      <td>742.0</td>\n",
       "    </tr>\n",
       "    <tr>\n",
       "      <th>1</th>\n",
       "      <td>962099</td>\n",
       "      <td>0</td>\n",
       "      <td>2</td>\n",
       "      <td>2</td>\n",
       "      <td>0</td>\n",
       "      <td>13.0</td>\n",
       "      <td>1329.000000</td>\n",
       "      <td>324.0</td>\n",
       "    </tr>\n",
       "    <tr>\n",
       "      <th>2</th>\n",
       "      <td>721985</td>\n",
       "      <td>3</td>\n",
       "      <td>2</td>\n",
       "      <td>1</td>\n",
       "      <td>0</td>\n",
       "      <td>14.0</td>\n",
       "      <td>7056.857143</td>\n",
       "      <td>2790.0</td>\n",
       "    </tr>\n",
       "  </tbody>\n",
       "</table>\n",
       "</div>"
      ],
      "text/plain": [
       "   user_id age income sex kids_flg  user_hist  user_avg_pop  user_last_pop\n",
       "0   973171   1      4   2        1        4.0   1134.250000          742.0\n",
       "1   962099   0      2   2        0       13.0   1329.000000          324.0\n",
       "2   721985   3      2   1        0       14.0   7056.857143         2790.0"
      ]
     },
     "execution_count": 47,
     "metadata": {},
     "output_type": "execute_result"
    }
   ],
   "source": [
    "users.head(3)"
   ]
  },
  {
   "cell_type": "code",
   "execution_count": 121,
   "id": "5ba86d3a-f40e-4d18-8294-51cca8127dd9",
   "metadata": {},
   "outputs": [],
   "source": [
    "# users.to_csv('users_processed.csv', index=False)"
   ]
  },
  {
   "cell_type": "code",
   "execution_count": 48,
   "id": "c43fd2c2-2648-41be-a2a4-9cfd5c1c2ab0",
   "metadata": {},
   "outputs": [],
   "source": [
    "# Делаем дефолтные значения\n",
    "\n",
    "default_values_items = {}\n",
    "\n",
    "# Для новых фичей айтемов\n",
    "default_values_items['item_pop'] = base_model_data['item_pop'].median()\n",
    "default_values_items['item_avg_hist'] = base_model_data['item_avg_hist'].median()\n",
    "\n",
    "# Для старых фичей взаимодействий\n",
    "interactions_default_values = {\n",
    "    Columns.Datetime: interactions.df[Columns.Datetime].median(),\n",
    "    'watched_pct': 0,\n",
    "    Columns.Weight: 1,\n",
    "    'total_dur': 0,\n",
    "}\n",
    "\n",
    "# Для новых фичей юзеров\n",
    "default_values_users = {\n",
    "    'user_hist': 0,\n",
    "    'user_avg_pop': base_model_data['user_avg_pop'].median(),\n",
    "    'user_last_pop': base_model_data['user_last_pop'].median(),\n",
    "}"
   ]
  },
  {
   "cell_type": "code",
   "execution_count": null,
   "id": "9f6e9100-5b8c-443c-903b-36852db7c0d7",
   "metadata": {},
   "outputs": [],
   "source": [
    "# with open('default_values_items.pkl', 'wb') as f:\n",
    "#     pickle.dump(default_values_items, f)"
   ]
  },
  {
   "cell_type": "code",
   "execution_count": 49,
   "id": "8d11e67f-ed65-42f2-8298-36165bfcae6d",
   "metadata": {},
   "outputs": [],
   "source": [
    "# with open('default_values_users.pkl', 'wb') as f:\n",
    "#     pickle.dump(default_values_users, f)"
   ]
  },
  {
   "cell_type": "code",
   "execution_count": 56,
   "id": "5c03d987-8171-4752-adec-45167cdf190a",
   "metadata": {},
   "outputs": [],
   "source": [
    "# Оставляем среди юзеров только тех, для кого есть и рекомы и таргеты\n",
    "\n",
    "def users_filter(\n",
    "    user_list: np.ndarray,\n",
    "    candidates_df: pd.DataFrame, \n",
    "    df: pd.DataFrame,\n",
    ") -> pd.DataFrame:\n",
    "    # Джойним интеракции на наших кандидатов для юзеров из трейна, вал и теста\n",
    "    df = pd.merge(\n",
    "        df[df['user_id'].isin(user_list)], \n",
    "        candidates_df[candidates_df['user_id'].isin(user_list)], \n",
    "        how='right',\n",
    "        on=['user_id', 'item_id']\n",
    "    )\n",
    "    # Проставляем дефолтные значения интеракций\n",
    "    min_score: float =  df['als_score'].min() - 0.01\n",
    "    max_rank: int = df['als_rank'].max() + 1  # 101\n",
    "    \n",
    "    default_values = {\n",
    "        'als_score': min_score, 'als_rank': max_rank,\n",
    "        # Важно использовате те же дефолтные значения для интеракций, \n",
    "        # чтобы не сделать утечку\n",
    "        **interactions_default_values,\n",
    "    }\n",
    "    df.fillna(default_values, inplace=True)\n",
    "        \n",
    "    # Сортируем по user_id - это пригодится для вычисления рангов и групп для ранжирования\n",
    "    df.sort_values(\n",
    "        by=['user_id', 'item_id'],\n",
    "        inplace=True,\n",
    "    )\n",
    "    return df\n",
    "\n",
    "ranker_train = users_filter(train_users, candidates, test)\n",
    "ranker_val = users_filter(val_users, candidates, test)\n",
    "ranker_test = users_filter(test_users, candidates, test)"
   ]
  },
  {
   "cell_type": "code",
   "execution_count": 57,
   "id": "1470fe5e-98e1-43f0-8ab3-8ded70ddd4b2",
   "metadata": {},
   "outputs": [],
   "source": [
    "# Добавляем фичи\n",
    "def add_features(df: pd.DataFrame) -> pd.DataFrame:\n",
    "    df = pd.merge(\n",
    "        df, \n",
    "        users, \n",
    "        how='left', \n",
    "        on=['user_id']\n",
    "    )\n",
    "    df = pd.merge(\n",
    "        df, \n",
    "        items, \n",
    "        how='left', \n",
    "        on=['item_id']\n",
    "    )\n",
    "\n",
    "    df.fillna(default_values_items, inplace=True)\n",
    "    df.fillna(default_values_users, inplace=True)\n",
    "\n",
    "    # Категориальные фичи закодированы пандасом так, что None === -1\n",
    "    # Если изначально пропусков не было, то нужно добавить такое значение категории\n",
    "    for col in df.columns:\n",
    "        if isinstance(df[col].dtype, pd.CategoricalDtype):\n",
    "            if -1 not in df[col].cat.categories:\n",
    "                df[col] = df[col].cat.add_categories(-1)\n",
    "            df.fillna({col: -1}, inplace=True)\n",
    "    return df\n",
    "\n",
    "ranker_train = add_features(ranker_train)\n",
    "ranker_val = add_features(ranker_val)\n",
    "ranker_test = add_features(ranker_test)"
   ]
  },
  {
   "cell_type": "code",
   "execution_count": 58,
   "id": "940797fd-8ca0-45eb-9d16-438f7cd88deb",
   "metadata": {},
   "outputs": [
    {
     "data": {
      "text/html": [
       "<div>\n",
       "<style scoped>\n",
       "    .dataframe tbody tr th:only-of-type {\n",
       "        vertical-align: middle;\n",
       "    }\n",
       "\n",
       "    .dataframe tbody tr th {\n",
       "        vertical-align: top;\n",
       "    }\n",
       "\n",
       "    .dataframe thead th {\n",
       "        text-align: right;\n",
       "    }\n",
       "</style>\n",
       "<table border=\"1\" class=\"dataframe\">\n",
       "  <thead>\n",
       "    <tr style=\"text-align: right;\">\n",
       "      <th></th>\n",
       "      <th>user_id</th>\n",
       "      <th>item_id</th>\n",
       "      <th>datetime</th>\n",
       "      <th>total_dur</th>\n",
       "      <th>watched_pct</th>\n",
       "      <th>weight</th>\n",
       "      <th>als_score</th>\n",
       "      <th>als_rank</th>\n",
       "      <th>age</th>\n",
       "      <th>income</th>\n",
       "      <th>sex</th>\n",
       "      <th>kids_flg</th>\n",
       "      <th>user_hist</th>\n",
       "      <th>user_avg_pop</th>\n",
       "      <th>user_last_pop</th>\n",
       "      <th>content_type</th>\n",
       "      <th>year_bin</th>\n",
       "      <th>item_pop</th>\n",
       "      <th>item_avg_hist</th>\n",
       "    </tr>\n",
       "  </thead>\n",
       "  <tbody>\n",
       "    <tr>\n",
       "      <th>0</th>\n",
       "      <td>1</td>\n",
       "      <td>14</td>\n",
       "      <td>2021-07-01</td>\n",
       "      <td>0.0</td>\n",
       "      <td>0.0</td>\n",
       "      <td>1.0</td>\n",
       "      <td>0.081404</td>\n",
       "      <td>51</td>\n",
       "      <td>1</td>\n",
       "      <td>2</td>\n",
       "      <td>1</td>\n",
       "      <td>1</td>\n",
       "      <td>1.0</td>\n",
       "      <td>159230.0</td>\n",
       "      <td>159230.0</td>\n",
       "      <td>1</td>\n",
       "      <td>6</td>\n",
       "      <td>5667.0</td>\n",
       "      <td>13.941239</td>\n",
       "    </tr>\n",
       "    <tr>\n",
       "      <th>1</th>\n",
       "      <td>1</td>\n",
       "      <td>24</td>\n",
       "      <td>2021-07-01</td>\n",
       "      <td>0.0</td>\n",
       "      <td>0.0</td>\n",
       "      <td>1.0</td>\n",
       "      <td>0.079122</td>\n",
       "      <td>54</td>\n",
       "      <td>1</td>\n",
       "      <td>2</td>\n",
       "      <td>1</td>\n",
       "      <td>1</td>\n",
       "      <td>1.0</td>\n",
       "      <td>159230.0</td>\n",
       "      <td>159230.0</td>\n",
       "      <td>1</td>\n",
       "      <td>6</td>\n",
       "      <td>4861.0</td>\n",
       "      <td>17.187821</td>\n",
       "    </tr>\n",
       "    <tr>\n",
       "      <th>2</th>\n",
       "      <td>1</td>\n",
       "      <td>101</td>\n",
       "      <td>2021-07-01</td>\n",
       "      <td>0.0</td>\n",
       "      <td>0.0</td>\n",
       "      <td>1.0</td>\n",
       "      <td>0.113103</td>\n",
       "      <td>31</td>\n",
       "      <td>1</td>\n",
       "      <td>2</td>\n",
       "      <td>1</td>\n",
       "      <td>1</td>\n",
       "      <td>1.0</td>\n",
       "      <td>159230.0</td>\n",
       "      <td>159230.0</td>\n",
       "      <td>0</td>\n",
       "      <td>6</td>\n",
       "      <td>6661.0</td>\n",
       "      <td>17.013361</td>\n",
       "    </tr>\n",
       "  </tbody>\n",
       "</table>\n",
       "</div>"
      ],
      "text/plain": [
       "   user_id  item_id   datetime  total_dur  watched_pct  weight  als_score  \\\n",
       "0        1       14 2021-07-01        0.0          0.0     1.0   0.081404   \n",
       "1        1       24 2021-07-01        0.0          0.0     1.0   0.079122   \n",
       "2        1      101 2021-07-01        0.0          0.0     1.0   0.113103   \n",
       "\n",
       "   als_rank age income sex kids_flg  user_hist  user_avg_pop  user_last_pop  \\\n",
       "0        51   1      2   1        1        1.0      159230.0       159230.0   \n",
       "1        54   1      2   1        1        1.0      159230.0       159230.0   \n",
       "2        31   1      2   1        1        1.0      159230.0       159230.0   \n",
       "\n",
       "  content_type year_bin  item_pop  item_avg_hist  \n",
       "0            1        6    5667.0      13.941239  \n",
       "1            1        6    4861.0      17.187821  \n",
       "2            0        6    6661.0      17.013361  "
      ]
     },
     "execution_count": 58,
     "metadata": {},
     "output_type": "execute_result"
    }
   ],
   "source": [
    "ranker_train.head(3)"
   ]
  },
  {
   "cell_type": "code",
   "execution_count": 59,
   "id": "c775f430-4426-4b99-8e19-d03aa0525be1",
   "metadata": {},
   "outputs": [],
   "source": [
    "cols = [\n",
    "    'als_score', 'als_rank', \n",
    "    'age', 'income', 'sex', 'kids_flg', 'user_hist', 'user_avg_pop', 'user_last_pop',\n",
    "    'content_type', 'year_bin', 'item_pop', 'item_avg_hist',\n",
    "]\n",
    "\n",
    "cat_cols = cat_user_features_names + [feat for feat in cat_item_features_names if feat != \"genre\"]"
   ]
  },
  {
   "cell_type": "markdown",
   "id": "c7ceb889-f9be-4118-862d-df6b6692edfc",
   "metadata": {},
   "source": [
    "# Обучение модели второго уровня"
   ]
  },
  {
   "cell_type": "code",
   "execution_count": 60,
   "id": "de5efe4a-dad4-4986-8994-bc0005de8f2c",
   "metadata": {},
   "outputs": [],
   "source": [
    "def get_group(df: pd.DataFrame) -> np.ndarray:\n",
    "    return np.array(\n",
    "        df[['user_id', 'item_id']]\n",
    "        .groupby(by=['user_id']).count()\n",
    "        ['item_id']\n",
    "    )"
   ]
  },
  {
   "cell_type": "code",
   "execution_count": 61,
   "id": "cf7a7fb3-ab4b-4aca-9659-f0e02b55b64e",
   "metadata": {},
   "outputs": [],
   "source": [
    "def add_target(df: pd.DataFrame) -> pd.DataFrame:\n",
    "    \"\"\"\n",
    "    0 - доля досмотра < 0.15\n",
    "    1 - 0.15 <= доля досмотра < 0.75\n",
    "    2 - 0.75 <= доля досмотра\n",
    "    \"\"\"\n",
    "    df['target_ranker'] = (df['watched_pct'] >= 15).astype(int)\n",
    "    df['target_ranker'] += (df['watched_pct'] >= 75).astype(int)\n",
    "    return df"
   ]
  },
  {
   "cell_type": "code",
   "execution_count": 62,
   "id": "8d151ea6-40ab-472c-a651-05130b62af26",
   "metadata": {},
   "outputs": [],
   "source": [
    "ranker_train = add_target(ranker_train)\n",
    "ranker_val = add_target(ranker_val)\n",
    "ranker_test = add_target(ranker_test)"
   ]
  },
  {
   "cell_type": "code",
   "execution_count": 63,
   "id": "78f1a476-73f5-49f7-a236-9a933a4cf2d4",
   "metadata": {},
   "outputs": [],
   "source": [
    "early_stopping_rounds = 32\n",
    "\n",
    "params = {\n",
    "    'objective': 'lambdarank',  # lambdarank, оптимизирующий ndcg \n",
    "    'n_estimators': 10000,  # максимальное число деревьев\n",
    "    'max_depth': 4,  # максимальная глубина дерева\n",
    "    'num_leaves': 10,  # число листьев << 2^max_depth\n",
    "    'min_child_samples': 100,  # число примеров в листе\n",
    "    'learning_rate': 0.25,  # шаг обучения\n",
    "    'reg_lambda': 1,  # L2 регуляризация\n",
    "    'colsample_bytree': 0.9,  # доля колонок, которая используется в каждом дереве\n",
    "    'early_stopping_rounds': early_stopping_rounds,  # число итераций, в течение которых нет улучшения метрик\n",
    "    'verbose': early_stopping_rounds // 8,  # период вывода метрик\n",
    "    'random_state': 42,\n",
    "}\n",
    "\n",
    "fit_params = {\n",
    "    'X': ranker_train[cols],\n",
    "    'y': ranker_train['target_ranker'],\n",
    "    'group': get_group(ranker_train),\n",
    "    'eval_set': [(ranker_val[cols], ranker_val['target_ranker'])],\n",
    "    'eval_group': [get_group(ranker_val)],\n",
    "    'eval_metric': 'ndcg',\n",
    "    'eval_at': (3, 5, 10),\n",
    "    'categorical_feature': cat_cols,\n",
    "    'feature_name': cols,\n",
    "}"
   ]
  },
  {
   "cell_type": "code",
   "execution_count": 64,
   "id": "c2ba29dd-5d5c-4a7a-8ce4-bb04f5a220f3",
   "metadata": {
    "scrolled": true
   },
   "outputs": [
    {
     "name": "stdout",
     "output_type": "stream",
     "text": [
      "[LightGBM] [Warning] early_stopping_round is set=32, early_stopping_rounds=32 will be ignored. Current value: early_stopping_round=32\n",
      "[LightGBM] [Debug] Dataset::GetMultiBinFromAllFeatures: sparse rate 0.128763\n",
      "[LightGBM] [Debug] init for col-wise cost 0.000219 seconds, init for row-wise cost 0.249316 seconds\n",
      "[LightGBM] [Info] Auto-choosing col-wise multi-threading, the overhead of testing was 0.360619 seconds.\n",
      "You can set `force_col_wise=true` to remove the overhead.\n",
      "[LightGBM] [Info] Total Bins 1566\n",
      "[LightGBM] [Info] Number of data points in the train set: 7906800, number of used features: 13\n",
      "[LightGBM] [Warning] early_stopping_round is set=32, early_stopping_rounds=32 will be ignored. Current value: early_stopping_round=32\n",
      "[LightGBM] [Debug] Trained a tree with leaves = 10 and depth = 4\n",
      "Training until validation scores don't improve for 32 rounds\n",
      "[LightGBM] [Debug] Trained a tree with leaves = 10 and depth = 4\n",
      "[LightGBM] [Debug] Trained a tree with leaves = 10 and depth = 4\n",
      "[LightGBM] [Debug] Trained a tree with leaves = 10 and depth = 4\n",
      "[LightGBM] [Debug] Trained a tree with leaves = 10 and depth = 4\n",
      "[LightGBM] [Debug] Trained a tree with leaves = 10 and depth = 4\n",
      "[LightGBM] [Debug] Trained a tree with leaves = 10 and depth = 4\n",
      "[LightGBM] [Debug] Trained a tree with leaves = 10 and depth = 4\n",
      "[LightGBM] [Debug] Trained a tree with leaves = 10 and depth = 4\n",
      "[LightGBM] [Debug] Trained a tree with leaves = 10 and depth = 4\n",
      "[LightGBM] [Debug] Trained a tree with leaves = 10 and depth = 4\n",
      "[LightGBM] [Debug] Trained a tree with leaves = 10 and depth = 4\n",
      "[LightGBM] [Debug] Trained a tree with leaves = 10 and depth = 4\n",
      "[LightGBM] [Debug] Trained a tree with leaves = 10 and depth = 4\n",
      "[LightGBM] [Debug] Trained a tree with leaves = 10 and depth = 4\n",
      "[LightGBM] [Debug] Trained a tree with leaves = 10 and depth = 4\n",
      "[LightGBM] [Debug] Trained a tree with leaves = 10 and depth = 4\n",
      "[LightGBM] [Debug] Trained a tree with leaves = 10 and depth = 4\n",
      "[LightGBM] [Debug] Trained a tree with leaves = 10 and depth = 4\n",
      "[LightGBM] [Debug] Trained a tree with leaves = 10 and depth = 4\n",
      "[LightGBM] [Debug] Trained a tree with leaves = 10 and depth = 4\n",
      "[LightGBM] [Debug] Trained a tree with leaves = 10 and depth = 4\n",
      "[LightGBM] [Debug] Trained a tree with leaves = 10 and depth = 4\n",
      "[LightGBM] [Debug] Trained a tree with leaves = 10 and depth = 4\n",
      "[LightGBM] [Debug] Trained a tree with leaves = 10 and depth = 4\n",
      "[LightGBM] [Debug] Trained a tree with leaves = 10 and depth = 4\n",
      "[LightGBM] [Debug] Trained a tree with leaves = 10 and depth = 4\n",
      "[LightGBM] [Debug] Trained a tree with leaves = 10 and depth = 4\n",
      "[LightGBM] [Debug] Trained a tree with leaves = 10 and depth = 4\n",
      "[LightGBM] [Debug] Trained a tree with leaves = 10 and depth = 4\n",
      "[LightGBM] [Debug] Trained a tree with leaves = 10 and depth = 4\n",
      "[LightGBM] [Debug] Trained a tree with leaves = 10 and depth = 4\n",
      "[LightGBM] [Debug] Trained a tree with leaves = 10 and depth = 4\n",
      "[LightGBM] [Debug] Trained a tree with leaves = 10 and depth = 4\n",
      "[LightGBM] [Debug] Trained a tree with leaves = 10 and depth = 4\n",
      "[LightGBM] [Debug] Trained a tree with leaves = 10 and depth = 4\n",
      "[LightGBM] [Debug] Trained a tree with leaves = 10 and depth = 4\n",
      "[LightGBM] [Debug] Trained a tree with leaves = 10 and depth = 4\n",
      "[LightGBM] [Debug] Trained a tree with leaves = 10 and depth = 4\n",
      "[LightGBM] [Debug] Trained a tree with leaves = 10 and depth = 4\n",
      "[LightGBM] [Debug] Trained a tree with leaves = 10 and depth = 4\n",
      "[LightGBM] [Debug] Trained a tree with leaves = 10 and depth = 4\n",
      "[LightGBM] [Debug] Trained a tree with leaves = 10 and depth = 4\n",
      "[LightGBM] [Debug] Trained a tree with leaves = 10 and depth = 4\n",
      "[LightGBM] [Debug] Trained a tree with leaves = 10 and depth = 4\n",
      "[LightGBM] [Debug] Trained a tree with leaves = 10 and depth = 4\n",
      "[LightGBM] [Debug] Trained a tree with leaves = 10 and depth = 4\n",
      "[LightGBM] [Debug] Trained a tree with leaves = 10 and depth = 4\n",
      "[LightGBM] [Debug] Trained a tree with leaves = 10 and depth = 4\n",
      "[LightGBM] [Debug] Trained a tree with leaves = 10 and depth = 4\n",
      "[LightGBM] [Debug] Trained a tree with leaves = 10 and depth = 4\n",
      "[LightGBM] [Debug] Trained a tree with leaves = 10 and depth = 4\n",
      "[LightGBM] [Debug] Trained a tree with leaves = 10 and depth = 4\n",
      "[LightGBM] [Debug] Trained a tree with leaves = 10 and depth = 4\n",
      "[LightGBM] [Debug] Trained a tree with leaves = 10 and depth = 4\n",
      "[LightGBM] [Debug] Trained a tree with leaves = 10 and depth = 4\n",
      "[LightGBM] [Debug] Trained a tree with leaves = 10 and depth = 4\n",
      "[LightGBM] [Debug] Trained a tree with leaves = 10 and depth = 4\n",
      "[LightGBM] [Debug] Trained a tree with leaves = 10 and depth = 4\n",
      "[LightGBM] [Debug] Trained a tree with leaves = 10 and depth = 4\n",
      "[LightGBM] [Debug] Trained a tree with leaves = 10 and depth = 4\n",
      "[LightGBM] [Debug] Trained a tree with leaves = 10 and depth = 4\n",
      "[LightGBM] [Debug] Trained a tree with leaves = 10 and depth = 4\n",
      "[LightGBM] [Debug] Trained a tree with leaves = 10 and depth = 4\n",
      "[LightGBM] [Debug] Trained a tree with leaves = 10 and depth = 4\n",
      "[LightGBM] [Debug] Trained a tree with leaves = 10 and depth = 4\n",
      "[LightGBM] [Debug] Trained a tree with leaves = 10 and depth = 4\n",
      "[LightGBM] [Debug] Trained a tree with leaves = 10 and depth = 4\n",
      "[LightGBM] [Debug] Trained a tree with leaves = 10 and depth = 4\n",
      "[LightGBM] [Debug] Trained a tree with leaves = 10 and depth = 4\n",
      "[LightGBM] [Debug] Trained a tree with leaves = 10 and depth = 4\n",
      "[LightGBM] [Debug] Trained a tree with leaves = 10 and depth = 4\n",
      "[LightGBM] [Debug] Trained a tree with leaves = 10 and depth = 4\n",
      "[LightGBM] [Debug] Trained a tree with leaves = 10 and depth = 4\n",
      "[LightGBM] [Debug] Trained a tree with leaves = 10 and depth = 4\n",
      "[LightGBM] [Debug] Trained a tree with leaves = 10 and depth = 4\n",
      "[LightGBM] [Debug] Trained a tree with leaves = 10 and depth = 4\n",
      "[LightGBM] [Debug] Trained a tree with leaves = 10 and depth = 4\n",
      "[LightGBM] [Debug] Trained a tree with leaves = 10 and depth = 4\n",
      "[LightGBM] [Debug] Trained a tree with leaves = 10 and depth = 4\n",
      "[LightGBM] [Debug] Trained a tree with leaves = 10 and depth = 4\n",
      "[LightGBM] [Debug] Trained a tree with leaves = 10 and depth = 4\n",
      "[LightGBM] [Debug] Trained a tree with leaves = 10 and depth = 4\n",
      "[LightGBM] [Debug] Trained a tree with leaves = 10 and depth = 4\n",
      "[LightGBM] [Debug] Trained a tree with leaves = 10 and depth = 4\n",
      "[LightGBM] [Debug] Trained a tree with leaves = 10 and depth = 4\n",
      "[LightGBM] [Debug] Trained a tree with leaves = 10 and depth = 4\n",
      "[LightGBM] [Debug] Trained a tree with leaves = 10 and depth = 4\n",
      "[LightGBM] [Debug] Trained a tree with leaves = 10 and depth = 4\n",
      "[LightGBM] [Debug] Trained a tree with leaves = 10 and depth = 4\n",
      "[LightGBM] [Debug] Trained a tree with leaves = 10 and depth = 4\n",
      "[LightGBM] [Debug] Trained a tree with leaves = 10 and depth = 4\n",
      "[LightGBM] [Debug] Trained a tree with leaves = 10 and depth = 4\n",
      "[LightGBM] [Debug] Trained a tree with leaves = 10 and depth = 4\n",
      "[LightGBM] [Debug] Trained a tree with leaves = 10 and depth = 4\n",
      "[LightGBM] [Debug] Trained a tree with leaves = 10 and depth = 4\n",
      "[LightGBM] [Debug] Trained a tree with leaves = 10 and depth = 4\n",
      "[LightGBM] [Debug] Trained a tree with leaves = 10 and depth = 4\n",
      "[LightGBM] [Debug] Trained a tree with leaves = 10 and depth = 4\n",
      "[LightGBM] [Debug] Trained a tree with leaves = 10 and depth = 4\n",
      "[LightGBM] [Debug] Trained a tree with leaves = 10 and depth = 4\n",
      "[LightGBM] [Debug] Trained a tree with leaves = 10 and depth = 4\n",
      "[LightGBM] [Debug] Trained a tree with leaves = 10 and depth = 4\n",
      "[LightGBM] [Debug] Trained a tree with leaves = 10 and depth = 4\n",
      "[LightGBM] [Debug] Trained a tree with leaves = 10 and depth = 4\n",
      "[LightGBM] [Debug] Trained a tree with leaves = 10 and depth = 4\n",
      "[LightGBM] [Debug] Trained a tree with leaves = 10 and depth = 4\n",
      "[LightGBM] [Debug] Trained a tree with leaves = 10 and depth = 4\n",
      "[LightGBM] [Debug] Trained a tree with leaves = 10 and depth = 4\n",
      "[LightGBM] [Debug] Trained a tree with leaves = 10 and depth = 4\n",
      "[LightGBM] [Debug] Trained a tree with leaves = 10 and depth = 4\n",
      "[LightGBM] [Debug] Trained a tree with leaves = 10 and depth = 4\n",
      "[LightGBM] [Debug] Trained a tree with leaves = 10 and depth = 4\n",
      "[LightGBM] [Debug] Trained a tree with leaves = 10 and depth = 4\n",
      "[LightGBM] [Debug] Trained a tree with leaves = 10 and depth = 4\n",
      "[LightGBM] [Debug] Trained a tree with leaves = 10 and depth = 4\n",
      "[LightGBM] [Debug] Trained a tree with leaves = 10 and depth = 4\n",
      "[LightGBM] [Debug] Trained a tree with leaves = 10 and depth = 4\n",
      "[LightGBM] [Debug] Trained a tree with leaves = 10 and depth = 4\n",
      "[LightGBM] [Debug] Trained a tree with leaves = 10 and depth = 4\n",
      "[LightGBM] [Debug] Trained a tree with leaves = 10 and depth = 4\n",
      "[LightGBM] [Debug] Trained a tree with leaves = 10 and depth = 4\n",
      "[LightGBM] [Debug] Trained a tree with leaves = 10 and depth = 4\n",
      "[LightGBM] [Debug] Trained a tree with leaves = 10 and depth = 4\n",
      "[LightGBM] [Debug] Trained a tree with leaves = 10 and depth = 4\n",
      "[LightGBM] [Debug] Trained a tree with leaves = 10 and depth = 4\n",
      "[LightGBM] [Debug] Trained a tree with leaves = 10 and depth = 4\n",
      "[LightGBM] [Debug] Trained a tree with leaves = 10 and depth = 4\n",
      "[LightGBM] [Debug] Trained a tree with leaves = 10 and depth = 4\n",
      "[LightGBM] [Debug] Trained a tree with leaves = 10 and depth = 4\n",
      "[LightGBM] [Debug] Trained a tree with leaves = 10 and depth = 4\n",
      "[LightGBM] [Debug] Trained a tree with leaves = 10 and depth = 4\n",
      "[LightGBM] [Debug] Trained a tree with leaves = 10 and depth = 4\n",
      "[LightGBM] [Debug] Trained a tree with leaves = 10 and depth = 4\n",
      "[LightGBM] [Debug] Trained a tree with leaves = 10 and depth = 4\n",
      "[LightGBM] [Debug] Trained a tree with leaves = 10 and depth = 4\n",
      "[LightGBM] [Debug] Trained a tree with leaves = 10 and depth = 4\n",
      "[LightGBM] [Debug] Trained a tree with leaves = 10 and depth = 4\n",
      "[LightGBM] [Debug] Trained a tree with leaves = 10 and depth = 4\n",
      "[LightGBM] [Debug] Trained a tree with leaves = 10 and depth = 4\n",
      "[LightGBM] [Debug] Trained a tree with leaves = 10 and depth = 4\n",
      "[LightGBM] [Debug] Trained a tree with leaves = 10 and depth = 4\n",
      "[LightGBM] [Debug] Trained a tree with leaves = 10 and depth = 4\n",
      "[LightGBM] [Debug] Trained a tree with leaves = 10 and depth = 4\n",
      "[LightGBM] [Debug] Trained a tree with leaves = 10 and depth = 4\n",
      "[LightGBM] [Debug] Trained a tree with leaves = 10 and depth = 4\n",
      "[LightGBM] [Debug] Trained a tree with leaves = 10 and depth = 4\n",
      "[LightGBM] [Debug] Trained a tree with leaves = 10 and depth = 4\n",
      "[LightGBM] [Debug] Trained a tree with leaves = 10 and depth = 4\n",
      "[LightGBM] [Debug] Trained a tree with leaves = 10 and depth = 4\n",
      "[LightGBM] [Debug] Trained a tree with leaves = 10 and depth = 4\n",
      "[LightGBM] [Debug] Trained a tree with leaves = 10 and depth = 4\n",
      "[LightGBM] [Debug] Trained a tree with leaves = 10 and depth = 4\n",
      "[LightGBM] [Debug] Trained a tree with leaves = 10 and depth = 4\n",
      "[LightGBM] [Debug] Trained a tree with leaves = 10 and depth = 4\n",
      "[LightGBM] [Debug] Trained a tree with leaves = 10 and depth = 4\n",
      "[LightGBM] [Debug] Trained a tree with leaves = 10 and depth = 4\n",
      "[LightGBM] [Debug] Trained a tree with leaves = 10 and depth = 4\n",
      "[LightGBM] [Debug] Trained a tree with leaves = 10 and depth = 4\n",
      "[LightGBM] [Debug] Trained a tree with leaves = 10 and depth = 4\n",
      "[LightGBM] [Debug] Trained a tree with leaves = 10 and depth = 4\n",
      "[LightGBM] [Debug] Trained a tree with leaves = 10 and depth = 4\n",
      "[LightGBM] [Debug] Trained a tree with leaves = 10 and depth = 4\n",
      "[LightGBM] [Debug] Trained a tree with leaves = 10 and depth = 4\n",
      "Early stopping, best iteration is:\n",
      "[132]\tvalid_0's ndcg@3: 0.692087\tvalid_0's ndcg@5: 0.706815\tvalid_0's ndcg@10: 0.724675\n"
     ]
    },
    {
     "data": {
      "text/html": [
       "<style>#sk-container-id-1 {color: black;}#sk-container-id-1 pre{padding: 0;}#sk-container-id-1 div.sk-toggleable {background-color: white;}#sk-container-id-1 label.sk-toggleable__label {cursor: pointer;display: block;width: 100%;margin-bottom: 0;padding: 0.3em;box-sizing: border-box;text-align: center;}#sk-container-id-1 label.sk-toggleable__label-arrow:before {content: \"▸\";float: left;margin-right: 0.25em;color: #696969;}#sk-container-id-1 label.sk-toggleable__label-arrow:hover:before {color: black;}#sk-container-id-1 div.sk-estimator:hover label.sk-toggleable__label-arrow:before {color: black;}#sk-container-id-1 div.sk-toggleable__content {max-height: 0;max-width: 0;overflow: hidden;text-align: left;background-color: #f0f8ff;}#sk-container-id-1 div.sk-toggleable__content pre {margin: 0.2em;color: black;border-radius: 0.25em;background-color: #f0f8ff;}#sk-container-id-1 input.sk-toggleable__control:checked~div.sk-toggleable__content {max-height: 200px;max-width: 100%;overflow: auto;}#sk-container-id-1 input.sk-toggleable__control:checked~label.sk-toggleable__label-arrow:before {content: \"▾\";}#sk-container-id-1 div.sk-estimator input.sk-toggleable__control:checked~label.sk-toggleable__label {background-color: #d4ebff;}#sk-container-id-1 div.sk-label input.sk-toggleable__control:checked~label.sk-toggleable__label {background-color: #d4ebff;}#sk-container-id-1 input.sk-hidden--visually {border: 0;clip: rect(1px 1px 1px 1px);clip: rect(1px, 1px, 1px, 1px);height: 1px;margin: -1px;overflow: hidden;padding: 0;position: absolute;width: 1px;}#sk-container-id-1 div.sk-estimator {font-family: monospace;background-color: #f0f8ff;border: 1px dotted black;border-radius: 0.25em;box-sizing: border-box;margin-bottom: 0.5em;}#sk-container-id-1 div.sk-estimator:hover {background-color: #d4ebff;}#sk-container-id-1 div.sk-parallel-item::after {content: \"\";width: 100%;border-bottom: 1px solid gray;flex-grow: 1;}#sk-container-id-1 div.sk-label:hover label.sk-toggleable__label {background-color: #d4ebff;}#sk-container-id-1 div.sk-serial::before {content: \"\";position: absolute;border-left: 1px solid gray;box-sizing: border-box;top: 0;bottom: 0;left: 50%;z-index: 0;}#sk-container-id-1 div.sk-serial {display: flex;flex-direction: column;align-items: center;background-color: white;padding-right: 0.2em;padding-left: 0.2em;position: relative;}#sk-container-id-1 div.sk-item {position: relative;z-index: 1;}#sk-container-id-1 div.sk-parallel {display: flex;align-items: stretch;justify-content: center;background-color: white;position: relative;}#sk-container-id-1 div.sk-item::before, #sk-container-id-1 div.sk-parallel-item::before {content: \"\";position: absolute;border-left: 1px solid gray;box-sizing: border-box;top: 0;bottom: 0;left: 50%;z-index: -1;}#sk-container-id-1 div.sk-parallel-item {display: flex;flex-direction: column;z-index: 1;position: relative;background-color: white;}#sk-container-id-1 div.sk-parallel-item:first-child::after {align-self: flex-end;width: 50%;}#sk-container-id-1 div.sk-parallel-item:last-child::after {align-self: flex-start;width: 50%;}#sk-container-id-1 div.sk-parallel-item:only-child::after {width: 0;}#sk-container-id-1 div.sk-dashed-wrapped {border: 1px dashed gray;margin: 0 0.4em 0.5em 0.4em;box-sizing: border-box;padding-bottom: 0.4em;background-color: white;}#sk-container-id-1 div.sk-label label {font-family: monospace;font-weight: bold;display: inline-block;line-height: 1.2em;}#sk-container-id-1 div.sk-label-container {text-align: center;}#sk-container-id-1 div.sk-container {/* jupyter's `normalize.less` sets `[hidden] { display: none; }` but bootstrap.min.css set `[hidden] { display: none !important; }` so we also need the `!important` here to be able to override the default hidden behavior on the sphinx rendered scikit-learn.org. See: https://github.com/scikit-learn/scikit-learn/issues/21755 */display: inline-block !important;position: relative;}#sk-container-id-1 div.sk-text-repr-fallback {display: none;}</style><div id=\"sk-container-id-1\" class=\"sk-top-container\"><div class=\"sk-text-repr-fallback\"><pre>LGBMRanker(colsample_bytree=0.9, early_stopping_rounds=32, learning_rate=0.25,\n",
       "           max_depth=4, min_child_samples=100, n_estimators=10000,\n",
       "           num_leaves=10, objective=&#x27;lambdarank&#x27;, random_state=42, reg_lambda=1,\n",
       "           verbose=4)</pre><b>In a Jupyter environment, please rerun this cell to show the HTML representation or trust the notebook. <br />On GitHub, the HTML representation is unable to render, please try loading this page with nbviewer.org.</b></div><div class=\"sk-container\" hidden><div class=\"sk-item\"><div class=\"sk-estimator sk-toggleable\"><input class=\"sk-toggleable__control sk-hidden--visually\" id=\"sk-estimator-id-1\" type=\"checkbox\" checked><label for=\"sk-estimator-id-1\" class=\"sk-toggleable__label sk-toggleable__label-arrow\">LGBMRanker</label><div class=\"sk-toggleable__content\"><pre>LGBMRanker(colsample_bytree=0.9, early_stopping_rounds=32, learning_rate=0.25,\n",
       "           max_depth=4, min_child_samples=100, n_estimators=10000,\n",
       "           num_leaves=10, objective=&#x27;lambdarank&#x27;, random_state=42, reg_lambda=1,\n",
       "           verbose=4)</pre></div></div></div></div></div>"
      ],
      "text/plain": [
       "LGBMRanker(colsample_bytree=0.9, early_stopping_rounds=32, learning_rate=0.25,\n",
       "           max_depth=4, min_child_samples=100, n_estimators=10000,\n",
       "           num_leaves=10, objective='lambdarank', random_state=42, reg_lambda=1,\n",
       "           verbose=4)"
      ]
     },
     "execution_count": 64,
     "metadata": {},
     "output_type": "execute_result"
    }
   ],
   "source": [
    "listwise_model = LGBMRanker(**params)\n",
    "listwise_model.fit(**fit_params)"
   ]
  },
  {
   "cell_type": "code",
   "execution_count": 65,
   "id": "e9170d53-3265-43b2-bd1a-eb62f3985b6f",
   "metadata": {},
   "outputs": [],
   "source": [
    "# with open('listwise_model.pkl', 'wb') as f:\n",
    "#     pickle.dump(listwise_model, f)"
   ]
  },
  {
   "cell_type": "code",
   "execution_count": 66,
   "id": "187f0776-635f-4220-a1a0-8f34cdcaffdc",
   "metadata": {},
   "outputs": [],
   "source": [
    "with open(\"listwise_model.pkl\", \"rb\") as file:\n",
    "    listwise_model = pickle.load(file)"
   ]
  },
  {
   "cell_type": "code",
   "execution_count": 67,
   "id": "886021bd-fef7-43b9-b60d-7273a64ce7e3",
   "metadata": {},
   "outputs": [
    {
     "data": {
      "text/plain": [
       "OrderedDict([('ndcg@3', 0.6920874212791068),\n",
       "             ('ndcg@5', 0.7068154792933988),\n",
       "             ('ndcg@10', 0.724674795658147)])"
      ]
     },
     "execution_count": 67,
     "metadata": {},
     "output_type": "execute_result"
    }
   ],
   "source": [
    "listwise_model.best_score_['valid_0']"
   ]
  },
  {
   "cell_type": "code",
   "execution_count": 68,
   "id": "0433e5e9-6398-40e8-9ec3-cd5767eac36c",
   "metadata": {},
   "outputs": [],
   "source": [
    "explainer = shap.Explainer(listwise_model)\n",
    "shap_values = explainer(ranker_test[cols].iloc[:10_000])"
   ]
  },
  {
   "cell_type": "code",
   "execution_count": 69,
   "id": "6570257e-842e-4763-bf80-d4828570f740",
   "metadata": {},
   "outputs": [
    {
     "data": {
      "image/png": "[encoded data removed]",
      "text/plain": [
       "<Figure size 800x670 with 2 Axes>"
      ]
     },
     "metadata": {},
     "output_type": "display_data"
    }
   ],
   "source": [
    "# summarize the effects of all the features\n",
    "shap.plots.beeswarm(shap_values, max_display=len(cols))"
   ]
  },
  {
   "cell_type": "code",
   "execution_count": 70,
   "id": "f8d77bc0-d00a-4070-9500-269ecc79885a",
   "metadata": {},
   "outputs": [
    {
     "data": {
      "image/png": "[encoded data removed]",
      "text/plain": [
       "<Figure size 800x800 with 1 Axes>"
      ]
     },
     "metadata": {},
     "output_type": "display_data"
    }
   ],
   "source": [
    "# mean shap-values\n",
    "shap.plots.bar(shap_values, max_display=len(cols))"
   ]
  },
  {
   "cell_type": "code",
   "execution_count": 71,
   "id": "8c7627f3-2e97-412f-9960-1718f6d56ec0",
   "metadata": {},
   "outputs": [],
   "source": [
    "def add_score_and_rank(df: pd.DataFrame, y_pred_scores: np.ndarray, name: str) -> pd.DataFrame:\n",
    "    # Добавляем скор модели второго уровня\n",
    "    df[f'{name}_score'] = y_pred_scores\n",
    "    # Добавляем ранг модели второго уровня\n",
    "    df.sort_values(\n",
    "        by=['user_id', f'{name}_score'],\n",
    "        ascending=[True, False],\n",
    "        inplace=True,\n",
    "    )\n",
    "    df[f'{name}_rank'] = df.groupby('user_id').cumcount() + 1\n",
    "\n",
    "    return df"
   ]
  },
  {
   "cell_type": "code",
   "execution_count": 72,
   "id": "a96000e1-c155-406e-af43-1ebe965f74f7",
   "metadata": {},
   "outputs": [],
   "source": [
    "listwise_pred = listwise_model.predict(ranker_test[cols])\n",
    "ranker_test = add_score_and_rank(ranker_test, listwise_pred, 'listwise')"
   ]
  },
  {
   "cell_type": "code",
   "execution_count": 73,
   "id": "1ba6034e-077c-4c71-9f5e-8c1f65f53bef",
   "metadata": {},
   "outputs": [
    {
     "data": {
      "text/html": [
       "<div>\n",
       "<style scoped>\n",
       "    .dataframe tbody tr th:only-of-type {\n",
       "        vertical-align: middle;\n",
       "    }\n",
       "\n",
       "    .dataframe tbody tr th {\n",
       "        vertical-align: top;\n",
       "    }\n",
       "\n",
       "    .dataframe thead th {\n",
       "        text-align: right;\n",
       "    }\n",
       "</style>\n",
       "<table border=\"1\" class=\"dataframe\">\n",
       "  <thead>\n",
       "    <tr style=\"text-align: right;\">\n",
       "      <th></th>\n",
       "      <th>user_id</th>\n",
       "      <th>item_id</th>\n",
       "      <th>datetime</th>\n",
       "      <th>total_dur</th>\n",
       "      <th>watched_pct</th>\n",
       "      <th>weight</th>\n",
       "      <th>als_score</th>\n",
       "      <th>als_rank</th>\n",
       "      <th>age</th>\n",
       "      <th>income</th>\n",
       "      <th>...</th>\n",
       "      <th>user_hist</th>\n",
       "      <th>user_avg_pop</th>\n",
       "      <th>user_last_pop</th>\n",
       "      <th>content_type</th>\n",
       "      <th>year_bin</th>\n",
       "      <th>item_pop</th>\n",
       "      <th>item_avg_hist</th>\n",
       "      <th>target_ranker</th>\n",
       "      <th>listwise_score</th>\n",
       "      <th>listwise_rank</th>\n",
       "    </tr>\n",
       "  </thead>\n",
       "  <tbody>\n",
       "    <tr>\n",
       "      <th>63</th>\n",
       "      <td>75</td>\n",
       "      <td>9728</td>\n",
       "      <td>2021-07-01</td>\n",
       "      <td>0.0</td>\n",
       "      <td>0.0</td>\n",
       "      <td>1.0</td>\n",
       "      <td>0.564226</td>\n",
       "      <td>2</td>\n",
       "      <td>1</td>\n",
       "      <td>3</td>\n",
       "      <td>...</td>\n",
       "      <td>1.0</td>\n",
       "      <td>21010.0</td>\n",
       "      <td>21010.0</td>\n",
       "      <td>0</td>\n",
       "      <td>7</td>\n",
       "      <td>92359.0</td>\n",
       "      <td>11.062409</td>\n",
       "      <td>0</td>\n",
       "      <td>1.704158</td>\n",
       "      <td>1</td>\n",
       "    </tr>\n",
       "    <tr>\n",
       "      <th>88</th>\n",
       "      <td>75</td>\n",
       "      <td>13865</td>\n",
       "      <td>2021-07-01</td>\n",
       "      <td>0.0</td>\n",
       "      <td>0.0</td>\n",
       "      <td>1.0</td>\n",
       "      <td>0.475130</td>\n",
       "      <td>3</td>\n",
       "      <td>1</td>\n",
       "      <td>3</td>\n",
       "      <td>...</td>\n",
       "      <td>1.0</td>\n",
       "      <td>21010.0</td>\n",
       "      <td>21010.0</td>\n",
       "      <td>0</td>\n",
       "      <td>7</td>\n",
       "      <td>96838.0</td>\n",
       "      <td>10.242642</td>\n",
       "      <td>0</td>\n",
       "      <td>1.322319</td>\n",
       "      <td>2</td>\n",
       "    </tr>\n",
       "    <tr>\n",
       "      <th>22</th>\n",
       "      <td>75</td>\n",
       "      <td>3734</td>\n",
       "      <td>2021-07-01</td>\n",
       "      <td>0.0</td>\n",
       "      <td>0.0</td>\n",
       "      <td>1.0</td>\n",
       "      <td>0.400235</td>\n",
       "      <td>4</td>\n",
       "      <td>1</td>\n",
       "      <td>3</td>\n",
       "      <td>...</td>\n",
       "      <td>1.0</td>\n",
       "      <td>21010.0</td>\n",
       "      <td>21010.0</td>\n",
       "      <td>0</td>\n",
       "      <td>7</td>\n",
       "      <td>61313.0</td>\n",
       "      <td>11.761160</td>\n",
       "      <td>0</td>\n",
       "      <td>1.112818</td>\n",
       "      <td>3</td>\n",
       "    </tr>\n",
       "  </tbody>\n",
       "</table>\n",
       "<p>3 rows × 22 columns</p>\n",
       "</div>"
      ],
      "text/plain": [
       "    user_id  item_id   datetime  total_dur  watched_pct  weight  als_score  \\\n",
       "63       75     9728 2021-07-01        0.0          0.0     1.0   0.564226   \n",
       "88       75    13865 2021-07-01        0.0          0.0     1.0   0.475130   \n",
       "22       75     3734 2021-07-01        0.0          0.0     1.0   0.400235   \n",
       "\n",
       "    als_rank age income  ... user_hist user_avg_pop  user_last_pop  \\\n",
       "63         2   1      3  ...       1.0      21010.0        21010.0   \n",
       "88         3   1      3  ...       1.0      21010.0        21010.0   \n",
       "22         4   1      3  ...       1.0      21010.0        21010.0   \n",
       "\n",
       "    content_type  year_bin item_pop item_avg_hist  target_ranker  \\\n",
       "63             0         7  92359.0     11.062409              0   \n",
       "88             0         7  96838.0     10.242642              0   \n",
       "22             0         7  61313.0     11.761160              0   \n",
       "\n",
       "    listwise_score  listwise_rank  \n",
       "63        1.704158              1  \n",
       "88        1.322319              2  \n",
       "22        1.112818              3  \n",
       "\n",
       "[3 rows x 22 columns]"
      ]
     },
     "execution_count": 73,
     "metadata": {},
     "output_type": "execute_result"
    }
   ],
   "source": [
    "ranker_test.head(3)"
   ]
  },
  {
   "cell_type": "markdown",
   "id": "8c016932-58c0-42db-9b2b-de9c08a2f85e",
   "metadata": {},
   "source": [
    "# Раcчёт метрик"
   ]
  },
  {
   "cell_type": "code",
   "execution_count": 74,
   "id": "898881bf-bcc8-42e7-a83f-3e52ffb92a2d",
   "metadata": {},
   "outputs": [],
   "source": [
    "models_metrics['listwise'] = calc_metrics_(ranker_test, 'listwise_rank')"
   ]
  },
  {
   "cell_type": "code",
   "execution_count": 75,
   "id": "2251d63f-bdf6-4432-96c6-1b91aea12a78",
   "metadata": {},
   "outputs": [
    {
     "data": {
      "text/html": [
       "<div>\n",
       "<style scoped>\n",
       "    .dataframe tbody tr th:only-of-type {\n",
       "        vertical-align: middle;\n",
       "    }\n",
       "\n",
       "    .dataframe tbody tr th {\n",
       "        vertical-align: top;\n",
       "    }\n",
       "\n",
       "    .dataframe thead th {\n",
       "        text-align: right;\n",
       "    }\n",
       "</style>\n",
       "<table border=\"1\" class=\"dataframe\">\n",
       "  <thead>\n",
       "    <tr style=\"text-align: right;\">\n",
       "      <th></th>\n",
       "      <th>ALS</th>\n",
       "      <th>listwise</th>\n",
       "    </tr>\n",
       "  </thead>\n",
       "  <tbody>\n",
       "    <tr>\n",
       "      <th>Precision@10</th>\n",
       "      <td>0.018095</td>\n",
       "      <td>0.022599</td>\n",
       "    </tr>\n",
       "    <tr>\n",
       "      <th>recall@10</th>\n",
       "      <td>0.084091</td>\n",
       "      <td>0.107492</td>\n",
       "    </tr>\n",
       "    <tr>\n",
       "      <th>ndcg@10</th>\n",
       "      <td>0.020471</td>\n",
       "      <td>0.027469</td>\n",
       "    </tr>\n",
       "    <tr>\n",
       "      <th>map@10</th>\n",
       "      <td>0.032450</td>\n",
       "      <td>0.049008</td>\n",
       "    </tr>\n",
       "    <tr>\n",
       "      <th>novelty@10</th>\n",
       "      <td>3.818135</td>\n",
       "      <td>3.581891</td>\n",
       "    </tr>\n",
       "  </tbody>\n",
       "</table>\n",
       "</div>"
      ],
      "text/plain": [
       "                   ALS  listwise\n",
       "Precision@10  0.018095  0.022599\n",
       "recall@10     0.084091  0.107492\n",
       "ndcg@10       0.020471  0.027469\n",
       "map@10        0.032450  0.049008\n",
       "novelty@10    3.818135  3.581891"
      ]
     },
     "execution_count": 75,
     "metadata": {},
     "output_type": "execute_result"
    }
   ],
   "source": [
    "pd.DataFrame(models_metrics)"
   ]
  },
  {
   "cell_type": "markdown",
   "id": "fe4fddd7-941a-45e7-95db-ef906217d87e",
   "metadata": {},
   "source": [
    "# Инференс для сервиса"
   ]
  },
  {
   "cell_type": "markdown",
   "id": "5c0751af-3f42-4ab9-8172-64585c2f5e6f",
   "metadata": {},
   "source": [
    "Из-за недостатка оперативной памяти при инференсе все фичи были сохранены на диск и для формирования датасета для инференса нужны только вычисляются только интеракции модели первого уровня (base_model_data)"
   ]
  },
  {
   "cell_type": "code",
   "execution_count": 19,
   "id": "996e5a6b-018a-4780-8e11-ef4a727e9d7a",
   "metadata": {},
   "outputs": [],
   "source": [
    "def users_filter(\n",
    "    user_list: np.ndarray,\n",
    "    candidates_df: pd.DataFrame, \n",
    "    df: pd.DataFrame,\n",
    ") -> pd.DataFrame:\n",
    "    # Джойним интеракции на наших кандидатов для юзеров из трейна, вал и теста\n",
    "    df = pd.merge(\n",
    "        df[df['user_id'].isin(user_list)], \n",
    "        candidates_df[candidates_df['user_id'].isin(user_list)], \n",
    "        how='right',\n",
    "        on=['user_id', 'item_id']\n",
    "    )\n",
    "    # Проставляем дефолтные значения интеракций\n",
    "    min_score: float =  df['als_score'].min() - 0.01\n",
    "    max_rank: int = df['als_rank'].max() + 1  # 101\n",
    "    \n",
    "    default_values = {\n",
    "        'als_score': min_score, 'als_rank': max_rank,\n",
    "        # Важно использовате те же дефолтные значения для интеракций, \n",
    "        # чтобы не сделать утечку\n",
    "        **interactions_default_values,\n",
    "    }\n",
    "    df.fillna(default_values, inplace=True)\n",
    "        \n",
    "    # Сортируем по user_id - это пригодится для вычисления рангов и групп для ранжирования\n",
    "    df.sort_values(\n",
    "        by=['user_id', 'item_id'],\n",
    "        inplace=True,\n",
    "    )\n",
    "    return df"
   ]
  },
  {
   "cell_type": "code",
   "execution_count": 20,
   "id": "dc9cf298-ce00-4db6-9049-cff0a21ed4b9",
   "metadata": {},
   "outputs": [],
   "source": [
    "def add_features(df: pd.DataFrame) -> pd.DataFrame:\n",
    "    df = pd.merge(\n",
    "        df, \n",
    "        users, \n",
    "        how='left', \n",
    "        on=['user_id']\n",
    "    )\n",
    "    df = pd.merge(\n",
    "        df, \n",
    "        items, \n",
    "        how='left', \n",
    "        on=['item_id']\n",
    "    )\n",
    "\n",
    "    df.fillna(default_values_items, inplace=True)\n",
    "    df.fillna(default_values_users, inplace=True)\n",
    "\n",
    "    # Категориальные фичи закодированы пандасом так, что None === -1\n",
    "    # Если изначально пропусков не было, то нужно добавить такое значение категории\n",
    "    for col in df.columns:\n",
    "        if isinstance(df[col].dtype, pd.CategoricalDtype):\n",
    "            if -1 not in df[col].cat.categories:\n",
    "                df[col] = df[col].cat.add_categories(-1)\n",
    "            df.fillna({col: -1}, inplace=True)\n",
    "    return df"
   ]
  },
  {
   "cell_type": "code",
   "execution_count": 21,
   "id": "7c07128d-2313-44c4-903e-c78acc3eaa0b",
   "metadata": {},
   "outputs": [],
   "source": [
    "def add_score_and_rank(df: pd.DataFrame, y_pred_scores: np.ndarray, name: str) -> pd.DataFrame:\n",
    "    # Добавляем скор модели второго уровня\n",
    "    df[f'{name}_score'] = y_pred_scores\n",
    "    # Добавляем ранг модели второго уровня\n",
    "    df.sort_values(\n",
    "        by=['user_id', f'{name}_score'],\n",
    "        ascending=[True, False],\n",
    "        inplace=True,\n",
    "    )\n",
    "    df[f'{name}_rank'] = df.groupby('user_id').cumcount() + 1\n",
    "\n",
    "    return df"
   ]
  },
  {
   "cell_type": "code",
   "execution_count": 22,
   "id": "634bdd51-15d5-46eb-aece-546b904a1f0b",
   "metadata": {},
   "outputs": [],
   "source": [
    "candidates = pd.read_csv('candidates.csv')"
   ]
  },
  {
   "cell_type": "code",
   "execution_count": 23,
   "id": "86dc2881-f95d-439a-b9b4-e6c4d4305386",
   "metadata": {},
   "outputs": [],
   "source": [
    "items = pd.read_csv('items_processed.csv')"
   ]
  },
  {
   "cell_type": "code",
   "execution_count": 24,
   "id": "822ef5ce-b514-4aa7-a8d3-82e9953cf697",
   "metadata": {},
   "outputs": [],
   "source": [
    "users = pd.read_csv('users_processed.csv')"
   ]
  },
  {
   "cell_type": "code",
   "execution_count": 25,
   "id": "ce862bb8-9ebe-42d6-995e-a0b8c6961cd6",
   "metadata": {},
   "outputs": [],
   "source": [
    "with open(\"default_values_items.pkl\", \"rb\") as file:\n",
    "    default_values_items = pickle.load(file)"
   ]
  },
  {
   "cell_type": "code",
   "execution_count": 26,
   "id": "62ca464e-7bea-4187-9396-53fa58a87cc0",
   "metadata": {},
   "outputs": [],
   "source": [
    "with open(\"default_values_users.pkl\", \"rb\") as file:\n",
    "    default_values_users = pickle.load(file)"
   ]
  },
  {
   "cell_type": "code",
   "execution_count": 27,
   "id": "2c8d4161-ac27-4ad3-904a-2429da6cd069",
   "metadata": {},
   "outputs": [],
   "source": [
    "interactions_default_values = {\n",
    "    Columns.Datetime: interactions.df[Columns.Datetime].median(),\n",
    "    'watched_pct': 0,\n",
    "    Columns.Weight: 1,\n",
    "    'total_dur': 0,\n",
    "}"
   ]
  },
  {
   "cell_type": "code",
   "execution_count": 41,
   "id": "55f0cf66-f920-4357-bb31-2dca609cae42",
   "metadata": {},
   "outputs": [],
   "source": [
    "cols = [\n",
    "    'als_score', 'als_rank', \n",
    "    'age', 'income', 'sex', 'kids_flg', 'user_hist', 'user_avg_pop', 'user_last_pop',\n",
    "    'content_type', 'year_bin', 'item_pop', 'item_avg_hist',\n",
    "]\n",
    "\n",
    "cat_cols = ['age', 'income', 'sex', 'kids_flg', 'year_bin', 'content_type']"
   ]
  },
  {
   "cell_type": "code",
   "execution_count": 30,
   "id": "981f522a-e6a9-49ec-bf37-78ef969cbdfc",
   "metadata": {},
   "outputs": [],
   "source": [
    "# Джоиним кандидатов к чистым интерациям\n",
    "ranker_inference = users_filter(base_users,\n",
    "                                candidates,\n",
    "                                base_model_data)"
   ]
  },
  {
   "cell_type": "code",
   "execution_count": 31,
   "id": "72bfe4b0-2169-4d52-a6c6-47e3b2bc96f7",
   "metadata": {},
   "outputs": [
    {
     "data": {
      "text/html": [
       "<div>\n",
       "<style scoped>\n",
       "    .dataframe tbody tr th:only-of-type {\n",
       "        vertical-align: middle;\n",
       "    }\n",
       "\n",
       "    .dataframe tbody tr th {\n",
       "        vertical-align: top;\n",
       "    }\n",
       "\n",
       "    .dataframe thead th {\n",
       "        text-align: right;\n",
       "    }\n",
       "</style>\n",
       "<table border=\"1\" class=\"dataframe\">\n",
       "  <thead>\n",
       "    <tr style=\"text-align: right;\">\n",
       "      <th></th>\n",
       "      <th>user_id</th>\n",
       "      <th>item_id</th>\n",
       "      <th>datetime</th>\n",
       "      <th>total_dur</th>\n",
       "      <th>watched_pct</th>\n",
       "      <th>weight</th>\n",
       "    </tr>\n",
       "  </thead>\n",
       "  <tbody>\n",
       "    <tr>\n",
       "      <th>0</th>\n",
       "      <td>176549</td>\n",
       "      <td>9506</td>\n",
       "      <td>2021-05-11</td>\n",
       "      <td>4250</td>\n",
       "      <td>72.0</td>\n",
       "      <td>3.0</td>\n",
       "    </tr>\n",
       "    <tr>\n",
       "      <th>1</th>\n",
       "      <td>699317</td>\n",
       "      <td>1659</td>\n",
       "      <td>2021-05-29</td>\n",
       "      <td>8317</td>\n",
       "      <td>100.0</td>\n",
       "      <td>3.0</td>\n",
       "    </tr>\n",
       "    <tr>\n",
       "      <th>3</th>\n",
       "      <td>864613</td>\n",
       "      <td>7638</td>\n",
       "      <td>2021-07-05</td>\n",
       "      <td>14483</td>\n",
       "      <td>100.0</td>\n",
       "      <td>3.0</td>\n",
       "    </tr>\n",
       "    <tr>\n",
       "      <th>4</th>\n",
       "      <td>964868</td>\n",
       "      <td>9506</td>\n",
       "      <td>2021-04-30</td>\n",
       "      <td>6725</td>\n",
       "      <td>100.0</td>\n",
       "      <td>3.0</td>\n",
       "    </tr>\n",
       "    <tr>\n",
       "      <th>5</th>\n",
       "      <td>1032142</td>\n",
       "      <td>6686</td>\n",
       "      <td>2021-05-13</td>\n",
       "      <td>11286</td>\n",
       "      <td>100.0</td>\n",
       "      <td>3.0</td>\n",
       "    </tr>\n",
       "  </tbody>\n",
       "</table>\n",
       "</div>"
      ],
      "text/plain": [
       "   user_id  item_id   datetime  total_dur  watched_pct  weight\n",
       "0   176549     9506 2021-05-11       4250         72.0     3.0\n",
       "1   699317     1659 2021-05-29       8317        100.0     3.0\n",
       "3   864613     7638 2021-07-05      14483        100.0     3.0\n",
       "4   964868     9506 2021-04-30       6725        100.0     3.0\n",
       "5  1032142     6686 2021-05-13      11286        100.0     3.0"
      ]
     },
     "execution_count": 31,
     "metadata": {},
     "output_type": "execute_result"
    }
   ],
   "source": [
    "ranker_inference.head()"
   ]
  },
  {
   "cell_type": "code",
   "execution_count": 32,
   "id": "c7af4346-3356-4c19-ac56-f6f8ed2a33e3",
   "metadata": {},
   "outputs": [],
   "source": [
    "# Добавляем фичи айтемов и юзеров\n",
    "ranker_inference = add_features(ranker_inference)"
   ]
  },
  {
   "cell_type": "code",
   "execution_count": 34,
   "id": "33e53a1b-c590-4e07-ab56-f181388364d9",
   "metadata": {},
   "outputs": [
    {
     "data": {
      "text/html": [
       "<div>\n",
       "<style scoped>\n",
       "    .dataframe tbody tr th:only-of-type {\n",
       "        vertical-align: middle;\n",
       "    }\n",
       "\n",
       "    .dataframe tbody tr th {\n",
       "        vertical-align: top;\n",
       "    }\n",
       "\n",
       "    .dataframe thead th {\n",
       "        text-align: right;\n",
       "    }\n",
       "</style>\n",
       "<table border=\"1\" class=\"dataframe\">\n",
       "  <thead>\n",
       "    <tr style=\"text-align: right;\">\n",
       "      <th></th>\n",
       "      <th>user_id</th>\n",
       "      <th>item_id</th>\n",
       "      <th>datetime</th>\n",
       "      <th>total_dur</th>\n",
       "      <th>watched_pct</th>\n",
       "      <th>weight</th>\n",
       "      <th>als_score</th>\n",
       "      <th>als_rank</th>\n",
       "      <th>age</th>\n",
       "      <th>income</th>\n",
       "      <th>sex</th>\n",
       "      <th>kids_flg</th>\n",
       "      <th>user_hist</th>\n",
       "      <th>user_avg_pop</th>\n",
       "      <th>user_last_pop</th>\n",
       "      <th>content_type</th>\n",
       "      <th>year_bin</th>\n",
       "      <th>item_pop</th>\n",
       "      <th>item_avg_hist</th>\n",
       "    </tr>\n",
       "  </thead>\n",
       "  <tbody>\n",
       "    <tr>\n",
       "      <th>0</th>\n",
       "      <td>0</td>\n",
       "      <td>14</td>\n",
       "      <td>2021-07-01</td>\n",
       "      <td>0.0</td>\n",
       "      <td>0.0</td>\n",
       "      <td>1.0</td>\n",
       "      <td>0.094465</td>\n",
       "      <td>34</td>\n",
       "      <td>5.0</td>\n",
       "      <td>2.0</td>\n",
       "      <td>1.0</td>\n",
       "      <td>0.0</td>\n",
       "      <td>1.0</td>\n",
       "      <td>158315.0</td>\n",
       "      <td>158315.0</td>\n",
       "      <td>1</td>\n",
       "      <td>6</td>\n",
       "      <td>5667.0</td>\n",
       "      <td>13.941239</td>\n",
       "    </tr>\n",
       "    <tr>\n",
       "      <th>1</th>\n",
       "      <td>0</td>\n",
       "      <td>24</td>\n",
       "      <td>2021-07-01</td>\n",
       "      <td>0.0</td>\n",
       "      <td>0.0</td>\n",
       "      <td>1.0</td>\n",
       "      <td>0.050167</td>\n",
       "      <td>65</td>\n",
       "      <td>5.0</td>\n",
       "      <td>2.0</td>\n",
       "      <td>1.0</td>\n",
       "      <td>0.0</td>\n",
       "      <td>1.0</td>\n",
       "      <td>158315.0</td>\n",
       "      <td>158315.0</td>\n",
       "      <td>1</td>\n",
       "      <td>6</td>\n",
       "      <td>4861.0</td>\n",
       "      <td>17.187821</td>\n",
       "    </tr>\n",
       "    <tr>\n",
       "      <th>2</th>\n",
       "      <td>0</td>\n",
       "      <td>101</td>\n",
       "      <td>2021-07-01</td>\n",
       "      <td>0.0</td>\n",
       "      <td>0.0</td>\n",
       "      <td>1.0</td>\n",
       "      <td>0.102727</td>\n",
       "      <td>29</td>\n",
       "      <td>5.0</td>\n",
       "      <td>2.0</td>\n",
       "      <td>1.0</td>\n",
       "      <td>0.0</td>\n",
       "      <td>1.0</td>\n",
       "      <td>158315.0</td>\n",
       "      <td>158315.0</td>\n",
       "      <td>0</td>\n",
       "      <td>6</td>\n",
       "      <td>6661.0</td>\n",
       "      <td>17.013361</td>\n",
       "    </tr>\n",
       "    <tr>\n",
       "      <th>3</th>\n",
       "      <td>0</td>\n",
       "      <td>142</td>\n",
       "      <td>2021-07-01</td>\n",
       "      <td>0.0</td>\n",
       "      <td>0.0</td>\n",
       "      <td>1.0</td>\n",
       "      <td>0.143412</td>\n",
       "      <td>14</td>\n",
       "      <td>5.0</td>\n",
       "      <td>2.0</td>\n",
       "      <td>1.0</td>\n",
       "      <td>0.0</td>\n",
       "      <td>1.0</td>\n",
       "      <td>158315.0</td>\n",
       "      <td>158315.0</td>\n",
       "      <td>0</td>\n",
       "      <td>6</td>\n",
       "      <td>35213.0</td>\n",
       "      <td>14.643938</td>\n",
       "    </tr>\n",
       "    <tr>\n",
       "      <th>4</th>\n",
       "      <td>0</td>\n",
       "      <td>372</td>\n",
       "      <td>2021-07-01</td>\n",
       "      <td>0.0</td>\n",
       "      <td>0.0</td>\n",
       "      <td>1.0</td>\n",
       "      <td>0.037956</td>\n",
       "      <td>85</td>\n",
       "      <td>5.0</td>\n",
       "      <td>2.0</td>\n",
       "      <td>1.0</td>\n",
       "      <td>0.0</td>\n",
       "      <td>1.0</td>\n",
       "      <td>158315.0</td>\n",
       "      <td>158315.0</td>\n",
       "      <td>0</td>\n",
       "      <td>5</td>\n",
       "      <td>2312.0</td>\n",
       "      <td>22.791955</td>\n",
       "    </tr>\n",
       "  </tbody>\n",
       "</table>\n",
       "</div>"
      ],
      "text/plain": [
       "   user_id  item_id   datetime  total_dur  watched_pct  weight  als_score  \\\n",
       "0        0       14 2021-07-01        0.0          0.0     1.0   0.094465   \n",
       "1        0       24 2021-07-01        0.0          0.0     1.0   0.050167   \n",
       "2        0      101 2021-07-01        0.0          0.0     1.0   0.102727   \n",
       "3        0      142 2021-07-01        0.0          0.0     1.0   0.143412   \n",
       "4        0      372 2021-07-01        0.0          0.0     1.0   0.037956   \n",
       "\n",
       "   als_rank  age  income  sex  kids_flg  user_hist  user_avg_pop  \\\n",
       "0        34  5.0     2.0  1.0       0.0        1.0      158315.0   \n",
       "1        65  5.0     2.0  1.0       0.0        1.0      158315.0   \n",
       "2        29  5.0     2.0  1.0       0.0        1.0      158315.0   \n",
       "3        14  5.0     2.0  1.0       0.0        1.0      158315.0   \n",
       "4        85  5.0     2.0  1.0       0.0        1.0      158315.0   \n",
       "\n",
       "   user_last_pop  content_type  year_bin  item_pop  item_avg_hist  \n",
       "0       158315.0             1         6    5667.0      13.941239  \n",
       "1       158315.0             1         6    4861.0      17.187821  \n",
       "2       158315.0             0         6    6661.0      17.013361  \n",
       "3       158315.0             0         6   35213.0      14.643938  \n",
       "4       158315.0             0         5    2312.0      22.791955  "
      ]
     },
     "execution_count": 34,
     "metadata": {},
     "output_type": "execute_result"
    }
   ],
   "source": [
    "ranker_inference.head()"
   ]
  },
  {
   "cell_type": "code",
   "execution_count": 56,
   "id": "609e69b4-f9e8-48c8-b988-29955607bffc",
   "metadata": {},
   "outputs": [],
   "source": [
    "for col in cat_cols:\n",
    "    ranker_inference[col] = ranker_inference[col].astype('category')"
   ]
  },
  {
   "cell_type": "code",
   "execution_count": 46,
   "id": "554bc9ef-9198-49d9-b85f-b434f77827b3",
   "metadata": {},
   "outputs": [],
   "source": [
    "with open(\"listwise_model.pkl\", \"rb\") as file:\n",
    "    listwise_model = pickle.load(file)"
   ]
  },
  {
   "cell_type": "code",
   "execution_count": 58,
   "id": "8b867165-5d70-431c-8176-764e2a97dbe0",
   "metadata": {},
   "outputs": [
    {
     "name": "stderr",
     "output_type": "stream",
     "text": [
      "\n",
      "A value is trying to be set on a copy of a slice from a DataFrame.\n",
      "Try using .loc[row_indexer,col_indexer] = value instead\n",
      "\n",
      "See the caveats in the documentation: https://pandas.pydata.org/pandas-docs/stable/user_guide/indexing.html#returning-a-view-versus-a-copy\n"
     ]
    }
   ],
   "source": [
    "listwise_pred = listwise_model.predict(ranker_inference[cols])\n",
    "ranker_inference = add_score_and_rank(ranker_inference, listwise_pred, 'listwise')"
   ]
  },
  {
   "cell_type": "code",
   "execution_count": 61,
   "id": "b9289022-dc95-4143-b35d-6f1e988ea401",
   "metadata": {},
   "outputs": [],
   "source": [
    "ranker_inference_10 = ranker_inference.groupby('user_id').head(10)"
   ]
  },
  {
   "cell_type": "code",
   "execution_count": 62,
   "id": "f9ac6ede-2959-4306-a1e0-4fe329bf9bb1",
   "metadata": {},
   "outputs": [],
   "source": [
    "# ranker_inference_10.to_csv('ranker_inference_10.csv', index=False)"
   ]
  },
  {
   "cell_type": "code",
   "execution_count": 64,
   "id": "13d6ec60-a38a-46fa-90b5-c02e2a7859fc",
   "metadata": {},
   "outputs": [],
   "source": [
    "ranker_recos = ranker_inference_10.groupby('user_id')['item_id'].agg(list).reset_index()"
   ]
  },
  {
   "cell_type": "code",
   "execution_count": 65,
   "id": "2fba7412-d5be-4f26-93e7-44d18719f86c",
   "metadata": {},
   "outputs": [],
   "source": [
    "# ranker_recos.to_pickle('ranker_inference_10.pkl')"
   ]
  },
  {
   "cell_type": "code",
   "execution_count": 66,
   "id": "00a81b45-85c5-4c01-9ad8-f3c5fb6da06e",
   "metadata": {},
   "outputs": [
    {
     "data": {
      "text/html": [
       "<div>\n",
       "<style scoped>\n",
       "    .dataframe tbody tr th:only-of-type {\n",
       "        vertical-align: middle;\n",
       "    }\n",
       "\n",
       "    .dataframe tbody tr th {\n",
       "        vertical-align: top;\n",
       "    }\n",
       "\n",
       "    .dataframe thead th {\n",
       "        text-align: right;\n",
       "    }\n",
       "</style>\n",
       "<table border=\"1\" class=\"dataframe\">\n",
       "  <thead>\n",
       "    <tr style=\"text-align: right;\">\n",
       "      <th></th>\n",
       "      <th>user_id</th>\n",
       "      <th>item_id</th>\n",
       "    </tr>\n",
       "  </thead>\n",
       "  <tbody>\n",
       "    <tr>\n",
       "      <th>0</th>\n",
       "      <td>0</td>\n",
       "      <td>[9728, 10440, 13865, 3734, 15297, 4151, 512, 1...</td>\n",
       "    </tr>\n",
       "    <tr>\n",
       "      <th>1</th>\n",
       "      <td>1</td>\n",
       "      <td>[15297, 9728, 3734, 13865, 4151, 12192, 142, 8...</td>\n",
       "    </tr>\n",
       "    <tr>\n",
       "      <th>2</th>\n",
       "      <td>2</td>\n",
       "      <td>[9728, 3182, 5411, 7582, 11749, 11790, 16166, ...</td>\n",
       "    </tr>\n",
       "    <tr>\n",
       "      <th>3</th>\n",
       "      <td>3</td>\n",
       "      <td>[12192, 15297, 10440, 7793, 9728, 5434, 3734, ...</td>\n",
       "    </tr>\n",
       "    <tr>\n",
       "      <th>4</th>\n",
       "      <td>4</td>\n",
       "      <td>[15297, 9728, 13865, 10440, 3734, 4151, 8636, ...</td>\n",
       "    </tr>\n",
       "  </tbody>\n",
       "</table>\n",
       "</div>"
      ],
      "text/plain": [
       "   user_id                                            item_id\n",
       "0        0  [9728, 10440, 13865, 3734, 15297, 4151, 512, 1...\n",
       "1        1  [15297, 9728, 3734, 13865, 4151, 12192, 142, 8...\n",
       "2        2  [9728, 3182, 5411, 7582, 11749, 11790, 16166, ...\n",
       "3        3  [12192, 15297, 10440, 7793, 9728, 5434, 3734, ...\n",
       "4        4  [15297, 9728, 13865, 10440, 3734, 4151, 8636, ..."
      ]
     },
     "execution_count": 66,
     "metadata": {},
     "output_type": "execute_result"
    }
   ],
   "source": [
    "ranker_recos.head()"
   ]
  },
  {
   "cell_type": "code",
   "execution_count": 70,
   "id": "c5048c49-f0ac-4627-9236-a343a1feb4fb",
   "metadata": {},
   "outputs": [],
   "source": [
    "# with open('ranker_user_ids.pkl', 'wb') as f:\n",
    "#     pickle.dump(set(ranker_recos.user_id), f)"
   ]
  },
  {
   "cell_type": "code",
   "execution_count": null,
   "id": "806a9e54-20b7-4723-a621-3da8ef72c51b",
   "metadata": {},
   "outputs": [],
   "source": []
  }
 ],
 "metadata": {
  "kernelspec": {
   "display_name": "Python 3 (ipykernel)",
   "language": "python",
   "name": "python3"
  },
  "language_info": {
   "codemirror_mode": {
    "name": "ipython",
    "version": 3
   },
   "file_extension": ".py",
   "mimetype": "text/x-python",
   "name": "python",
   "nbconvert_exporter": "python",
   "pygments_lexer": "ipython3",
   "version": "3.9.18"
  }
 },
 "nbformat": 4,
 "nbformat_minor": 5
}
